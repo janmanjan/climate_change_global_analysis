{
 "cells": [
  {
   "cell_type": "code",
   "execution_count": 2,
   "id": "5845340e-98b2-45e0-9549-2af65730cbb1",
   "metadata": {},
   "outputs": [],
   "source": [
    "import pandas as pd\n",
    "import numpy as np\n",
    "import matplotlib.pyplot as plt"
   ]
  },
  {
   "cell_type": "code",
   "execution_count": null,
   "id": "a3cdf383-89a3-4cea-afa9-055cdcf52450",
   "metadata": {},
   "outputs": [],
   "source": [
    "def clean_data(data):\n",
    "    data.drop(columns=['Code'], inplace=True)\n",
    "    data = data[data['Year'] > 1989]\n",
    "    data = data[data['Year'] < 2015]\n",
    "    return data"
   ]
  },
  {
   "cell_type": "code",
   "execution_count": null,
   "id": "e0e18c18-7fcf-450e-bfd3-706ef1437045",
   "metadata": {},
   "outputs": [],
   "source": [
    "ghg = pd.read_csv('../p5/data/total-ghg-emissions.csv')\n",
    "airpol_death_share = pd.read_csv('../p5/data/share-deaths-air-pollution.csv')\n",
    "airpol = pd.read_csv('../p5/data/PM25-air-pollution.csv')\n",
    "net_zero_binary = pd.read_csv('../p5/data/net-zero-target-set.csv')\n",
    "food_co2e = pd.read_csv('../p5/data/emissions-from-food.csv')\n",
    "ozone = pd.read_csv('../p5/data/consumption-of-ozone-depleting-substances.csv')\n",
    "transport = pd.read_csv('../p5/data/co2-emissions-transport.csv')\n",
    "co2_percap = pd.read_csv('../p5/data/co-emissions-per-capita.csv')\n",
    "share_co2 = pd.read_csv('../p5/data/annual-share-of-co2-emissions.csv')\n",
    "co2 = pd.read_csv('../p5/data/annual_country_co2.csv')"
   ]
  },
  {
   "cell_type": "code",
   "execution_count": null,
   "id": "f9098ae7-07af-4aff-9316-4bf35055ce86",
   "metadata": {},
   "outputs": [],
   "source": [
    "list_data = [airpol_death_share, co2, co2_percap, food_co2e, ghg, ozone, share_co2, transport]"
   ]
  },
  {
   "cell_type": "code",
   "execution_count": null,
   "id": "0da3dead-e989-4c4a-8fae-1bd397c59b65",
   "metadata": {},
   "outputs": [],
   "source": [
    "for x in list_data:\n",
    "    x = clean_data(x)"
   ]
  },
  {
   "cell_type": "code",
   "execution_count": null,
   "id": "ab7fc1e9-7662-4ceb-b7c9-e564d5b68f40",
   "metadata": {},
   "outputs": [],
   "source": []
  }
 ],
 "metadata": {
  "kernelspec": {
   "display_name": "Python 3 (ipykernel)",
   "language": "python",
   "name": "python3"
  },
  "language_info": {
   "codemirror_mode": {
    "name": "ipython",
    "version": 3
   },
   "file_extension": ".py",
   "mimetype": "text/x-python",
   "name": "python",
   "nbconvert_exporter": "python",
   "pygments_lexer": "ipython3",
   "version": "3.9.7"
  }
 },
 "nbformat": 4,
 "nbformat_minor": 5
}
