{
 "cells": [
  {
   "cell_type": "code",
   "execution_count": 1,
   "id": "a9888e37-0371-49cd-8c45-f53555b97d59",
   "metadata": {},
   "outputs": [],
   "source": [
    "# Imports\n",
    "import pandas as pd\n",
    "import numpy as np\n",
    "from scipy.stats import zscore\n",
    "from scipy.cluster.hierarchy import dendrogram, linkage, cophenet\n",
    "from scipy.spatial.distance import cdist, pdist\n",
    "\n",
    "import seaborn as sns\n",
    "import matplotlib.pyplot as plt\n",
    "import matplotlib\n",
    "\n",
    "from sklearn.datasets import make_blobs\n",
    "from sklearn.cluster import KMeans, AgglomerativeClustering\n",
    "from sklearn.metrics import silhouette_score\n",
    "from sklearn.preprocessing import StandardScaler, LabelEncoder\n",
    "\n",
    "from yellowbrick.cluster import KElbowVisualizer, SilhouetteVisualizer\n",
    "\n",
    "%matplotlib inline"
   ]
  },
  {
   "cell_type": "code",
   "execution_count": 2,
   "id": "70d8919b-e637-43d1-8661-464a0e913456",
   "metadata": {},
   "outputs": [],
   "source": [
    "# reading in final dataframe\n",
    "df = pd.read_csv('../data/cleaned_data/kahuna.csv')"
   ]
  },
  {
   "cell_type": "code",
   "execution_count": 3,
   "id": "e06aa3dd-8a95-4a68-b96f-f9f3d371fc15",
   "metadata": {},
   "outputs": [],
   "source": [
    "def histogram_boxplot(data, feature, figsize=(12, 7), kde=False, bins=None):\n",
    "    \"\"\"\n",
    "    Boxplot and histogram combined\n",
    "\n",
    "    data: dataframe\n",
    "    feature: dataframe column\n",
    "    figsize: size of figure (default (12,7))\n",
    "    kde: whether to the show density curve (default False)\n",
    "    bins: number of bins for histogram (default None)\n",
    "    \"\"\"\n",
    "    f2, (ax_box2, ax_hist2) = plt.subplots(\n",
    "        nrows=2,  # Number of rows of the subplot grid= 2\n",
    "        sharex=True,  # x-axis will be shared among all subplots\n",
    "        gridspec_kw={\"height_ratios\": (0.25, 0.75)},\n",
    "        figsize=figsize,\n",
    "    )  # creating the 2 subplots\n",
    "    sns.boxplot(\n",
    "        data=data, x=feature, ax=ax_box2, showmeans=True, color=\"violet\"\n",
    "    )  # boxplot will be created and a star will indicate the mean value of the column\n",
    "    sns.histplot(\n",
    "        data=data, x=feature, kde=kde, ax=ax_hist2, bins=bins, palette=\"winter\"\n",
    "    ) if bins else sns.histplot(\n",
    "        data=data, x=feature, kde=kde, ax=ax_hist2\n",
    "    )  # For histogram\n",
    "    ax_hist2.axvline(\n",
    "        data[feature].mean(), color=\"green\", linestyle=\"--\"\n",
    "    )  # Add mean to the histogram\n",
    "    ax_hist2.axvline(\n",
    "        data[feature].median(), color=\"black\", linestyle=\"-\"\n",
    "    )  # Add median to the histogram"
   ]
  },
  {
   "cell_type": "markdown",
   "id": "dc7d2992-da0a-4826-adb7-5f8caa91b75c",
   "metadata": {},
   "source": [
    "-------------------------"
   ]
  },
  {
   "cell_type": "markdown",
   "id": "f5095e77-2352-4218-9c66-5a16abb80332",
   "metadata": {},
   "source": [
    "## KMeans Clustering"
   ]
  },
  {
   "cell_type": "code",
   "execution_count": 4,
   "id": "51445b12-209d-4380-aee4-a1953a3c5462",
   "metadata": {},
   "outputs": [],
   "source": [
    "X = df.drop(columns=['Entity', 'Year'])\n",
    "sc = StandardScaler()\n",
    "X_sc = sc.fit_transform(X)"
   ]
  },
  {
   "cell_type": "code",
   "execution_count": 5,
   "id": "28f65315-61d8-4d29-8b00-aa0f6880e64f",
   "metadata": {},
   "outputs": [
    {
     "data": {
      "text/plain": [
       "KMeans(n_clusters=4, random_state=42)"
      ]
     },
     "execution_count": 5,
     "metadata": {},
     "output_type": "execute_result"
    }
   ],
   "source": [
    "km = KMeans(n_clusters=4, random_state=42)\n",
    "km.fit(X_sc)"
   ]
  },
  {
   "cell_type": "code",
   "execution_count": 6,
   "id": "41eb05e1-3244-4847-9b22-a01e19c291a2",
   "metadata": {},
   "outputs": [],
   "source": [
    "km.cluster_centers_;"
   ]
  },
  {
   "cell_type": "code",
   "execution_count": 7,
   "id": "b949339a-343c-4f79-b40a-29241da3174d",
   "metadata": {},
   "outputs": [
    {
     "data": {
      "text/html": [
       "<div>\n",
       "<style scoped>\n",
       "    .dataframe tbody tr th:only-of-type {\n",
       "        vertical-align: middle;\n",
       "    }\n",
       "\n",
       "    .dataframe tbody tr th {\n",
       "        vertical-align: top;\n",
       "    }\n",
       "\n",
       "    .dataframe thead th {\n",
       "        text-align: right;\n",
       "    }\n",
       "</style>\n",
       "<table border=\"1\" class=\"dataframe\">\n",
       "  <thead>\n",
       "    <tr style=\"text-align: right;\">\n",
       "      <th></th>\n",
       "      <th>Entity</th>\n",
       "      <th>Year</th>\n",
       "      <th>Deaths %</th>\n",
       "      <th>CO2 Emissions</th>\n",
       "      <th>CO2 Emissions Per Cap</th>\n",
       "      <th>Food Emissions</th>\n",
       "      <th>Total GHG</th>\n",
       "      <th>Consumption of Ozone</th>\n",
       "      <th>Shared CO2 Emissions</th>\n",
       "      <th>Transport</th>\n",
       "      <th>...</th>\n",
       "      <th>Death_5-14</th>\n",
       "      <th>Death_50-69</th>\n",
       "      <th>Death_70+</th>\n",
       "      <th>Death_15-49</th>\n",
       "      <th>Urban%</th>\n",
       "      <th>Child Mortality</th>\n",
       "      <th>Population</th>\n",
       "      <th>GDP</th>\n",
       "      <th>Forest area</th>\n",
       "      <th>cluster</th>\n",
       "    </tr>\n",
       "  </thead>\n",
       "  <tbody>\n",
       "    <tr>\n",
       "      <th>0</th>\n",
       "      <td>Albania</td>\n",
       "      <td>1991</td>\n",
       "      <td>17.613636</td>\n",
       "      <td>4228256</td>\n",
       "      <td>1.2889</td>\n",
       "      <td>4011691.0</td>\n",
       "      <td>9030000.0</td>\n",
       "      <td>0.0</td>\n",
       "      <td>0.02</td>\n",
       "      <td>500000.0</td>\n",
       "      <td>...</td>\n",
       "      <td>5.975427</td>\n",
       "      <td>271.661092</td>\n",
       "      <td>512.126572</td>\n",
       "      <td>60.714220</td>\n",
       "      <td>36.700</td>\n",
       "      <td>3.93</td>\n",
       "      <td>119.225912</td>\n",
       "      <td>3496.580246</td>\n",
       "      <td>786850.0</td>\n",
       "      <td>2</td>\n",
       "    </tr>\n",
       "    <tr>\n",
       "      <th>1</th>\n",
       "      <td>Albania</td>\n",
       "      <td>1995</td>\n",
       "      <td>16.789055</td>\n",
       "      <td>2066496</td>\n",
       "      <td>0.6638</td>\n",
       "      <td>4861321.1</td>\n",
       "      <td>7480000.0</td>\n",
       "      <td>43.4</td>\n",
       "      <td>0.01</td>\n",
       "      <td>600000.0</td>\n",
       "      <td>...</td>\n",
       "      <td>4.580403</td>\n",
       "      <td>240.740486</td>\n",
       "      <td>469.406670</td>\n",
       "      <td>49.692924</td>\n",
       "      <td>38.911</td>\n",
       "      <td>3.39</td>\n",
       "      <td>116.342482</td>\n",
       "      <td>4471.871070</td>\n",
       "      <td>779050.0</td>\n",
       "      <td>2</td>\n",
       "    </tr>\n",
       "    <tr>\n",
       "      <th>2</th>\n",
       "      <td>Albania</td>\n",
       "      <td>1996</td>\n",
       "      <td>16.588451</td>\n",
       "      <td>1993216</td>\n",
       "      <td>0.6432</td>\n",
       "      <td>4569702.9</td>\n",
       "      <td>7280000.0</td>\n",
       "      <td>43.2</td>\n",
       "      <td>0.01</td>\n",
       "      <td>600000.0</td>\n",
       "      <td>...</td>\n",
       "      <td>4.373679</td>\n",
       "      <td>255.560407</td>\n",
       "      <td>491.357876</td>\n",
       "      <td>52.069689</td>\n",
       "      <td>39.473</td>\n",
       "      <td>3.26</td>\n",
       "      <td>115.621642</td>\n",
       "      <td>4909.228105</td>\n",
       "      <td>777100.0</td>\n",
       "      <td>2</td>\n",
       "    </tr>\n",
       "    <tr>\n",
       "      <th>3</th>\n",
       "      <td>Albania</td>\n",
       "      <td>1997</td>\n",
       "      <td>15.081361</td>\n",
       "      <td>1531552</td>\n",
       "      <td>0.4941</td>\n",
       "      <td>4431656.7</td>\n",
       "      <td>6510000.0</td>\n",
       "      <td>45.2</td>\n",
       "      <td>0.01</td>\n",
       "      <td>500000.0</td>\n",
       "      <td>...</td>\n",
       "      <td>4.414006</td>\n",
       "      <td>269.448518</td>\n",
       "      <td>521.197486</td>\n",
       "      <td>57.988035</td>\n",
       "      <td>40.035</td>\n",
       "      <td>3.13</td>\n",
       "      <td>114.900766</td>\n",
       "      <td>4400.577827</td>\n",
       "      <td>775150.0</td>\n",
       "      <td>2</td>\n",
       "    </tr>\n",
       "    <tr>\n",
       "      <th>4</th>\n",
       "      <td>Albania</td>\n",
       "      <td>1998</td>\n",
       "      <td>15.965796</td>\n",
       "      <td>1744064</td>\n",
       "      <td>0.5607</td>\n",
       "      <td>4344061.6</td>\n",
       "      <td>6810000.0</td>\n",
       "      <td>49.6</td>\n",
       "      <td>0.01</td>\n",
       "      <td>700000.0</td>\n",
       "      <td>...</td>\n",
       "      <td>4.493629</td>\n",
       "      <td>280.472022</td>\n",
       "      <td>547.315668</td>\n",
       "      <td>64.973478</td>\n",
       "      <td>40.601</td>\n",
       "      <td>2.99</td>\n",
       "      <td>114.179927</td>\n",
       "      <td>4819.387534</td>\n",
       "      <td>773200.0</td>\n",
       "      <td>2</td>\n",
       "    </tr>\n",
       "  </tbody>\n",
       "</table>\n",
       "<p>5 rows × 27 columns</p>\n",
       "</div>"
      ],
      "text/plain": [
       "    Entity  Year   Deaths %  CO2 Emissions  CO2 Emissions Per Cap  \\\n",
       "0  Albania  1991  17.613636        4228256                 1.2889   \n",
       "1  Albania  1995  16.789055        2066496                 0.6638   \n",
       "2  Albania  1996  16.588451        1993216                 0.6432   \n",
       "3  Albania  1997  15.081361        1531552                 0.4941   \n",
       "4  Albania  1998  15.965796        1744064                 0.5607   \n",
       "\n",
       "   Food Emissions  Total GHG  Consumption of Ozone  Shared CO2 Emissions  \\\n",
       "0       4011691.0  9030000.0                   0.0                  0.02   \n",
       "1       4861321.1  7480000.0                  43.4                  0.01   \n",
       "2       4569702.9  7280000.0                  43.2                  0.01   \n",
       "3       4431656.7  6510000.0                  45.2                  0.01   \n",
       "4       4344061.6  6810000.0                  49.6                  0.01   \n",
       "\n",
       "   Transport  ...  Death_5-14  Death_50-69   Death_70+  Death_15-49  Urban%  \\\n",
       "0   500000.0  ...    5.975427   271.661092  512.126572    60.714220  36.700   \n",
       "1   600000.0  ...    4.580403   240.740486  469.406670    49.692924  38.911   \n",
       "2   600000.0  ...    4.373679   255.560407  491.357876    52.069689  39.473   \n",
       "3   500000.0  ...    4.414006   269.448518  521.197486    57.988035  40.035   \n",
       "4   700000.0  ...    4.493629   280.472022  547.315668    64.973478  40.601   \n",
       "\n",
       "   Child Mortality  Population          GDP  Forest area  cluster  \n",
       "0             3.93  119.225912  3496.580246     786850.0        2  \n",
       "1             3.39  116.342482  4471.871070     779050.0        2  \n",
       "2             3.26  115.621642  4909.228105     777100.0        2  \n",
       "3             3.13  114.900766  4400.577827     775150.0        2  \n",
       "4             2.99  114.179927  4819.387534     773200.0        2  \n",
       "\n",
       "[5 rows x 27 columns]"
      ]
     },
     "execution_count": 7,
     "metadata": {},
     "output_type": "execute_result"
    }
   ],
   "source": [
    "df['cluster'] = km.labels_\n",
    "df.head()"
   ]
  },
  {
   "cell_type": "code",
   "execution_count": 8,
   "id": "d2d7f327-8a39-41cc-92b1-513691ee07a1",
   "metadata": {},
   "outputs": [
    {
     "data": {
      "text/html": [
       "<div>\n",
       "<style scoped>\n",
       "    .dataframe tbody tr th:only-of-type {\n",
       "        vertical-align: middle;\n",
       "    }\n",
       "\n",
       "    .dataframe tbody tr th {\n",
       "        vertical-align: top;\n",
       "    }\n",
       "\n",
       "    .dataframe thead th {\n",
       "        text-align: right;\n",
       "    }\n",
       "</style>\n",
       "<table border=\"1\" class=\"dataframe\">\n",
       "  <thead>\n",
       "    <tr style=\"text-align: right;\">\n",
       "      <th>cluster</th>\n",
       "      <th>0</th>\n",
       "      <th>1</th>\n",
       "      <th>2</th>\n",
       "      <th>3</th>\n",
       "    </tr>\n",
       "  </thead>\n",
       "  <tbody>\n",
       "    <tr>\n",
       "      <th>Year</th>\n",
       "      <td>2.002622e+03</td>\n",
       "      <td>2.001500e+03</td>\n",
       "      <td>2.001552e+03</td>\n",
       "      <td>2.001500e+03</td>\n",
       "    </tr>\n",
       "    <tr>\n",
       "      <th>Deaths %</th>\n",
       "      <td>8.761786e+00</td>\n",
       "      <td>3.911636e+00</td>\n",
       "      <td>1.417707e+01</td>\n",
       "      <td>1.983135e+01</td>\n",
       "    </tr>\n",
       "    <tr>\n",
       "      <th>CO2 Emissions</th>\n",
       "      <td>1.458546e+08</td>\n",
       "      <td>5.664404e+09</td>\n",
       "      <td>2.557077e+07</td>\n",
       "      <td>3.149207e+09</td>\n",
       "    </tr>\n",
       "    <tr>\n",
       "      <th>CO2 Emissions Per Cap</th>\n",
       "      <td>7.634302e+00</td>\n",
       "      <td>1.994650e+01</td>\n",
       "      <td>7.357408e-01</td>\n",
       "      <td>2.463833e+00</td>\n",
       "    </tr>\n",
       "    <tr>\n",
       "      <th>Food Emissions</th>\n",
       "      <td>9.376033e+07</td>\n",
       "      <td>1.411459e+09</td>\n",
       "      <td>1.196100e+08</td>\n",
       "      <td>1.432680e+09</td>\n",
       "    </tr>\n",
       "    <tr>\n",
       "      <th>Total GHG</th>\n",
       "      <td>2.223324e+08</td>\n",
       "      <td>6.159870e+09</td>\n",
       "      <td>1.471003e+08</td>\n",
       "      <td>3.915459e+09</td>\n",
       "    </tr>\n",
       "    <tr>\n",
       "      <th>Consumption of Ozone</th>\n",
       "      <td>1.562110e+03</td>\n",
       "      <td>4.746796e+04</td>\n",
       "      <td>5.126729e+02</td>\n",
       "      <td>3.551738e+04</td>\n",
       "    </tr>\n",
       "    <tr>\n",
       "      <th>Shared CO2 Emissions</th>\n",
       "      <td>5.247337e-01</td>\n",
       "      <td>2.097917e+01</td>\n",
       "      <td>9.400000e-02</td>\n",
       "      <td>1.093333e+01</td>\n",
       "    </tr>\n",
       "    <tr>\n",
       "      <th>Transport</th>\n",
       "      <td>2.809501e+07</td>\n",
       "      <td>1.637742e+09</td>\n",
       "      <td>6.280479e+06</td>\n",
       "      <td>2.191417e+08</td>\n",
       "    </tr>\n",
       "    <tr>\n",
       "      <th>Death_rate_ambient_ozone_pol</th>\n",
       "      <td>1.775393e+00</td>\n",
       "      <td>3.014308e+00</td>\n",
       "      <td>3.256993e+00</td>\n",
       "      <td>1.621379e+01</td>\n",
       "    </tr>\n",
       "    <tr>\n",
       "      <th>Death_rate_household_air_pol</th>\n",
       "      <td>1.510837e+01</td>\n",
       "      <td>7.250909e-02</td>\n",
       "      <td>1.476605e+02</td>\n",
       "      <td>1.321593e+02</td>\n",
       "    </tr>\n",
       "    <tr>\n",
       "      <th>Death_rate_all_causes</th>\n",
       "      <td>6.244357e+01</td>\n",
       "      <td>2.098069e+01</td>\n",
       "      <td>4.275625e+01</td>\n",
       "      <td>8.002124e+01</td>\n",
       "    </tr>\n",
       "    <tr>\n",
       "      <th>Death_actual_ozone</th>\n",
       "      <td>3.423979e+02</td>\n",
       "      <td>1.260691e+04</td>\n",
       "      <td>6.259089e+02</td>\n",
       "      <td>1.027083e+05</td>\n",
       "    </tr>\n",
       "    <tr>\n",
       "      <th>Death_actual_particulate</th>\n",
       "      <td>1.118777e+04</td>\n",
       "      <td>8.076044e+04</td>\n",
       "      <td>9.586098e+03</td>\n",
       "      <td>6.560596e+05</td>\n",
       "    </tr>\n",
       "    <tr>\n",
       "      <th>Death_actual_household</th>\n",
       "      <td>2.760028e+03</td>\n",
       "      <td>2.773371e+02</td>\n",
       "      <td>3.324432e+04</td>\n",
       "      <td>9.306099e+05</td>\n",
       "    </tr>\n",
       "    <tr>\n",
       "      <th>Death_under5</th>\n",
       "      <td>5.881152e+02</td>\n",
       "      <td>9.641439e+02</td>\n",
       "      <td>2.627118e+03</td>\n",
       "      <td>6.091231e+04</td>\n",
       "    </tr>\n",
       "    <tr>\n",
       "      <th>Death_5-14</th>\n",
       "      <td>1.876866e+01</td>\n",
       "      <td>7.433022e+00</td>\n",
       "      <td>6.210067e+01</td>\n",
       "      <td>1.765129e+03</td>\n",
       "    </tr>\n",
       "    <tr>\n",
       "      <th>Death_50-69</th>\n",
       "      <td>4.008731e+03</td>\n",
       "      <td>2.605672e+04</td>\n",
       "      <td>2.981935e+03</td>\n",
       "      <td>2.280127e+05</td>\n",
       "    </tr>\n",
       "    <tr>\n",
       "      <th>Death_70+</th>\n",
       "      <td>5.799410e+03</td>\n",
       "      <td>6.142555e+04</td>\n",
       "      <td>3.524754e+03</td>\n",
       "      <td>4.119236e+05</td>\n",
       "    </tr>\n",
       "    <tr>\n",
       "      <th>Death_15-49</th>\n",
       "      <td>1.115141e+03</td>\n",
       "      <td>4.913515e+03</td>\n",
       "      <td>1.016100e+03</td>\n",
       "      <td>5.615419e+04</td>\n",
       "    </tr>\n",
       "    <tr>\n",
       "      <th>Urban%</th>\n",
       "      <td>6.981968e+01</td>\n",
       "      <td>7.887479e+01</td>\n",
       "      <td>3.692551e+01</td>\n",
       "      <td>3.354469e+01</td>\n",
       "    </tr>\n",
       "    <tr>\n",
       "      <th>Child Mortality</th>\n",
       "      <td>2.150313e+00</td>\n",
       "      <td>8.579167e-01</td>\n",
       "      <td>8.651725e+00</td>\n",
       "      <td>5.998958e+00</td>\n",
       "    </tr>\n",
       "    <tr>\n",
       "      <th>Population</th>\n",
       "      <td>2.165642e+02</td>\n",
       "      <td>3.112386e+01</td>\n",
       "      <td>1.166229e+02</td>\n",
       "      <td>2.490085e+02</td>\n",
       "    </tr>\n",
       "    <tr>\n",
       "      <th>GDP</th>\n",
       "      <td>2.253137e+04</td>\n",
       "      <td>4.930289e+04</td>\n",
       "      <td>3.711022e+03</td>\n",
       "      <td>3.911556e+03</td>\n",
       "    </tr>\n",
       "    <tr>\n",
       "      <th>Forest area</th>\n",
       "      <td>3.736632e+07</td>\n",
       "      <td>3.051919e+08</td>\n",
       "      <td>1.950897e+07</td>\n",
       "      <td>1.243952e+08</td>\n",
       "    </tr>\n",
       "  </tbody>\n",
       "</table>\n",
       "</div>"
      ],
      "text/plain": [
       "cluster                                  0             1             2  \\\n",
       "Year                          2.002622e+03  2.001500e+03  2.001552e+03   \n",
       "Deaths %                      8.761786e+00  3.911636e+00  1.417707e+01   \n",
       "CO2 Emissions                 1.458546e+08  5.664404e+09  2.557077e+07   \n",
       "CO2 Emissions Per Cap         7.634302e+00  1.994650e+01  7.357408e-01   \n",
       "Food Emissions                9.376033e+07  1.411459e+09  1.196100e+08   \n",
       "Total GHG                     2.223324e+08  6.159870e+09  1.471003e+08   \n",
       "Consumption of Ozone          1.562110e+03  4.746796e+04  5.126729e+02   \n",
       "Shared CO2 Emissions          5.247337e-01  2.097917e+01  9.400000e-02   \n",
       "Transport                     2.809501e+07  1.637742e+09  6.280479e+06   \n",
       "Death_rate_ambient_ozone_pol  1.775393e+00  3.014308e+00  3.256993e+00   \n",
       "Death_rate_household_air_pol  1.510837e+01  7.250909e-02  1.476605e+02   \n",
       "Death_rate_all_causes         6.244357e+01  2.098069e+01  4.275625e+01   \n",
       "Death_actual_ozone            3.423979e+02  1.260691e+04  6.259089e+02   \n",
       "Death_actual_particulate      1.118777e+04  8.076044e+04  9.586098e+03   \n",
       "Death_actual_household        2.760028e+03  2.773371e+02  3.324432e+04   \n",
       "Death_under5                  5.881152e+02  9.641439e+02  2.627118e+03   \n",
       "Death_5-14                    1.876866e+01  7.433022e+00  6.210067e+01   \n",
       "Death_50-69                   4.008731e+03  2.605672e+04  2.981935e+03   \n",
       "Death_70+                     5.799410e+03  6.142555e+04  3.524754e+03   \n",
       "Death_15-49                   1.115141e+03  4.913515e+03  1.016100e+03   \n",
       "Urban%                        6.981968e+01  7.887479e+01  3.692551e+01   \n",
       "Child Mortality               2.150313e+00  8.579167e-01  8.651725e+00   \n",
       "Population                    2.165642e+02  3.112386e+01  1.166229e+02   \n",
       "GDP                           2.253137e+04  4.930289e+04  3.711022e+03   \n",
       "Forest area                   3.736632e+07  3.051919e+08  1.950897e+07   \n",
       "\n",
       "cluster                                  3  \n",
       "Year                          2.001500e+03  \n",
       "Deaths %                      1.983135e+01  \n",
       "CO2 Emissions                 3.149207e+09  \n",
       "CO2 Emissions Per Cap         2.463833e+00  \n",
       "Food Emissions                1.432680e+09  \n",
       "Total GHG                     3.915459e+09  \n",
       "Consumption of Ozone          3.551738e+04  \n",
       "Shared CO2 Emissions          1.093333e+01  \n",
       "Transport                     2.191417e+08  \n",
       "Death_rate_ambient_ozone_pol  1.621379e+01  \n",
       "Death_rate_household_air_pol  1.321593e+02  \n",
       "Death_rate_all_causes         8.002124e+01  \n",
       "Death_actual_ozone            1.027083e+05  \n",
       "Death_actual_particulate      6.560596e+05  \n",
       "Death_actual_household        9.306099e+05  \n",
       "Death_under5                  6.091231e+04  \n",
       "Death_5-14                    1.765129e+03  \n",
       "Death_50-69                   2.280127e+05  \n",
       "Death_70+                     4.119236e+05  \n",
       "Death_15-49                   5.615419e+04  \n",
       "Urban%                        3.354469e+01  \n",
       "Child Mortality               5.998958e+00  \n",
       "Population                    2.490085e+02  \n",
       "GDP                           3.911556e+03  \n",
       "Forest area                   1.243952e+08  "
      ]
     },
     "execution_count": 8,
     "metadata": {},
     "output_type": "execute_result"
    }
   ],
   "source": [
    "# comparision of numerical representations of clusters means\n",
    "df.groupby('cluster').mean().T"
   ]
  },
  {
   "cell_type": "code",
   "execution_count": 9,
   "id": "e519c0ef-a7b4-4142-bd17-9b5c48b68161",
   "metadata": {},
   "outputs": [],
   "source": [
    "columns = df.columns.drop(['Entity', 'cluster', 'Year'])"
   ]
  },
  {
   "cell_type": "code",
   "execution_count": 10,
   "id": "101c520d-b967-4674-be6c-7363dea02fb2",
   "metadata": {},
   "outputs": [],
   "source": [
    "km.cluster_centers_;"
   ]
  },
  {
   "cell_type": "code",
   "execution_count": 11,
   "id": "7044882e-f98f-41b5-a26b-7b936983d655",
   "metadata": {},
   "outputs": [
    {
     "data": {
      "text/plain": [
       "(2409, 27)"
      ]
     },
     "execution_count": 11,
     "metadata": {},
     "output_type": "execute_result"
    }
   ],
   "source": [
    "df.shape"
   ]
  },
  {
   "cell_type": "code",
   "execution_count": 12,
   "id": "9cdf1946-85df-45c9-b99d-2d8868fa87e9",
   "metadata": {},
   "outputs": [
    {
     "data": {
      "text/html": [
       "<div>\n",
       "<style scoped>\n",
       "    .dataframe tbody tr th:only-of-type {\n",
       "        vertical-align: middle;\n",
       "    }\n",
       "\n",
       "    .dataframe tbody tr th {\n",
       "        vertical-align: top;\n",
       "    }\n",
       "\n",
       "    .dataframe thead th {\n",
       "        text-align: right;\n",
       "    }\n",
       "</style>\n",
       "<table border=\"1\" class=\"dataframe\">\n",
       "  <thead>\n",
       "    <tr style=\"text-align: right;\">\n",
       "      <th></th>\n",
       "      <th>Deaths %</th>\n",
       "      <th>CO2 Emissions</th>\n",
       "      <th>CO2 Emissions Per Cap</th>\n",
       "      <th>Food Emissions</th>\n",
       "      <th>Total GHG</th>\n",
       "      <th>Consumption of Ozone</th>\n",
       "      <th>Shared CO2 Emissions</th>\n",
       "      <th>Transport</th>\n",
       "      <th>Death_rate_ambient_ozone_pol</th>\n",
       "      <th>Death_rate_household_air_pol</th>\n",
       "      <th>...</th>\n",
       "      <th>Death_under5</th>\n",
       "      <th>Death_5-14</th>\n",
       "      <th>Death_50-69</th>\n",
       "      <th>Death_70+</th>\n",
       "      <th>Death_15-49</th>\n",
       "      <th>Urban%</th>\n",
       "      <th>Child Mortality</th>\n",
       "      <th>Population</th>\n",
       "      <th>GDP</th>\n",
       "      <th>Forest area</th>\n",
       "    </tr>\n",
       "  </thead>\n",
       "  <tbody>\n",
       "    <tr>\n",
       "      <th>0</th>\n",
       "      <td>8.763674</td>\n",
       "      <td>1.457661e+08</td>\n",
       "      <td>7.629768</td>\n",
       "      <td>9.371892e+07</td>\n",
       "      <td>2.222096e+08</td>\n",
       "      <td>1561.236547</td>\n",
       "      <td>0.524411</td>\n",
       "      <td>2.808024e+07</td>\n",
       "      <td>1.774759</td>\n",
       "      <td>15.142651</td>\n",
       "      <td>...</td>\n",
       "      <td>588.066618</td>\n",
       "      <td>18.777536</td>\n",
       "      <td>4006.583782</td>\n",
       "      <td>5796.508713</td>\n",
       "      <td>1114.645613</td>\n",
       "      <td>69.806035</td>\n",
       "      <td>2.150918</td>\n",
       "      <td>216.513486</td>\n",
       "      <td>22521.525633</td>\n",
       "      <td>3.734389e+07</td>\n",
       "    </tr>\n",
       "    <tr>\n",
       "      <th>1</th>\n",
       "      <td>3.911636</td>\n",
       "      <td>5.664404e+09</td>\n",
       "      <td>19.946500</td>\n",
       "      <td>1.411459e+09</td>\n",
       "      <td>6.159870e+09</td>\n",
       "      <td>47467.956667</td>\n",
       "      <td>20.979167</td>\n",
       "      <td>1.637742e+09</td>\n",
       "      <td>3.014308</td>\n",
       "      <td>0.072509</td>\n",
       "      <td>...</td>\n",
       "      <td>964.143942</td>\n",
       "      <td>7.433022</td>\n",
       "      <td>26056.717104</td>\n",
       "      <td>61425.546122</td>\n",
       "      <td>4913.515424</td>\n",
       "      <td>78.874792</td>\n",
       "      <td>0.857917</td>\n",
       "      <td>31.123859</td>\n",
       "      <td>49302.893297</td>\n",
       "      <td>3.051919e+08</td>\n",
       "    </tr>\n",
       "    <tr>\n",
       "      <th>2</th>\n",
       "      <td>14.180162</td>\n",
       "      <td>2.558610e+07</td>\n",
       "      <td>0.735640</td>\n",
       "      <td>1.197156e+08</td>\n",
       "      <td>1.472314e+08</td>\n",
       "      <td>512.987914</td>\n",
       "      <td>0.094065</td>\n",
       "      <td>6.280935e+06</td>\n",
       "      <td>3.259911</td>\n",
       "      <td>147.757620</td>\n",
       "      <td>...</td>\n",
       "      <td>2629.650092</td>\n",
       "      <td>62.136629</td>\n",
       "      <td>2984.572559</td>\n",
       "      <td>3527.255371</td>\n",
       "      <td>1016.873133</td>\n",
       "      <td>36.910661</td>\n",
       "      <td>8.658429</td>\n",
       "      <td>116.594387</td>\n",
       "      <td>3706.197757</td>\n",
       "      <td>1.952800e+07</td>\n",
       "    </tr>\n",
       "    <tr>\n",
       "      <th>3</th>\n",
       "      <td>19.831352</td>\n",
       "      <td>3.149207e+09</td>\n",
       "      <td>2.463833</td>\n",
       "      <td>1.432680e+09</td>\n",
       "      <td>3.915459e+09</td>\n",
       "      <td>35517.383542</td>\n",
       "      <td>10.933333</td>\n",
       "      <td>2.191417e+08</td>\n",
       "      <td>16.213795</td>\n",
       "      <td>132.159339</td>\n",
       "      <td>...</td>\n",
       "      <td>60912.311895</td>\n",
       "      <td>1765.129307</td>\n",
       "      <td>228012.691542</td>\n",
       "      <td>411923.571069</td>\n",
       "      <td>56154.186658</td>\n",
       "      <td>33.544688</td>\n",
       "      <td>5.998958</td>\n",
       "      <td>249.008456</td>\n",
       "      <td>3911.556322</td>\n",
       "      <td>1.243952e+08</td>\n",
       "    </tr>\n",
       "  </tbody>\n",
       "</table>\n",
       "<p>4 rows × 24 columns</p>\n",
       "</div>"
      ],
      "text/plain": [
       "    Deaths %  CO2 Emissions  CO2 Emissions Per Cap  Food Emissions  \\\n",
       "0   8.763674   1.457661e+08               7.629768    9.371892e+07   \n",
       "1   3.911636   5.664404e+09              19.946500    1.411459e+09   \n",
       "2  14.180162   2.558610e+07               0.735640    1.197156e+08   \n",
       "3  19.831352   3.149207e+09               2.463833    1.432680e+09   \n",
       "\n",
       "      Total GHG  Consumption of Ozone  Shared CO2 Emissions     Transport  \\\n",
       "0  2.222096e+08           1561.236547              0.524411  2.808024e+07   \n",
       "1  6.159870e+09          47467.956667             20.979167  1.637742e+09   \n",
       "2  1.472314e+08            512.987914              0.094065  6.280935e+06   \n",
       "3  3.915459e+09          35517.383542             10.933333  2.191417e+08   \n",
       "\n",
       "   Death_rate_ambient_ozone_pol  Death_rate_household_air_pol  ...  \\\n",
       "0                      1.774759                     15.142651  ...   \n",
       "1                      3.014308                      0.072509  ...   \n",
       "2                      3.259911                    147.757620  ...   \n",
       "3                     16.213795                    132.159339  ...   \n",
       "\n",
       "   Death_under5   Death_5-14    Death_50-69      Death_70+   Death_15-49  \\\n",
       "0    588.066618    18.777536    4006.583782    5796.508713   1114.645613   \n",
       "1    964.143942     7.433022   26056.717104   61425.546122   4913.515424   \n",
       "2   2629.650092    62.136629    2984.572559    3527.255371   1016.873133   \n",
       "3  60912.311895  1765.129307  228012.691542  411923.571069  56154.186658   \n",
       "\n",
       "      Urban%  Child Mortality  Population           GDP   Forest area  \n",
       "0  69.806035         2.150918  216.513486  22521.525633  3.734389e+07  \n",
       "1  78.874792         0.857917   31.123859  49302.893297  3.051919e+08  \n",
       "2  36.910661         8.658429  116.594387   3706.197757  1.952800e+07  \n",
       "3  33.544688         5.998958  249.008456   3911.556322  1.243952e+08  \n",
       "\n",
       "[4 rows x 24 columns]"
      ]
     },
     "execution_count": 12,
     "metadata": {},
     "output_type": "execute_result"
    }
   ],
   "source": [
    "centroids = pd.DataFrame(\n",
    "    sc.inverse_transform(km.cluster_centers_),\n",
    "    columns=columns\n",
    ")\n",
    "centroids"
   ]
  },
  {
   "cell_type": "code",
   "execution_count": 13,
   "id": "8c0f7aa2-a32e-494e-8d10-346cfc750083",
   "metadata": {},
   "outputs": [],
   "source": [
    "scores = []\n",
    "for k in range(2, 31):\n",
    "    cl = KMeans(n_clusters=k)\n",
    "    cl.fit(X_sc)\n",
    "    inertia = cl.inertia_\n",
    "    sil = silhouette_score(X_sc, cl.labels_)\n",
    "    scores.append([k, inertia, sil])\n",
    "    \n",
    "score_df = pd.DataFrame(scores)\n",
    "score_df.columns = ['k', 'inertia', 'silhouette']"
   ]
  },
  {
   "cell_type": "code",
   "execution_count": 14,
   "id": "1cfe7cc1-7963-4fdd-bdc4-d068fc4773f4",
   "metadata": {},
   "outputs": [
    {
     "data": {
      "text/html": [
       "<div>\n",
       "<style scoped>\n",
       "    .dataframe tbody tr th:only-of-type {\n",
       "        vertical-align: middle;\n",
       "    }\n",
       "\n",
       "    .dataframe tbody tr th {\n",
       "        vertical-align: top;\n",
       "    }\n",
       "\n",
       "    .dataframe thead th {\n",
       "        text-align: right;\n",
       "    }\n",
       "</style>\n",
       "<table border=\"1\" class=\"dataframe\">\n",
       "  <thead>\n",
       "    <tr style=\"text-align: right;\">\n",
       "      <th></th>\n",
       "      <th>k</th>\n",
       "      <th>inertia</th>\n",
       "      <th>silhouette</th>\n",
       "    </tr>\n",
       "  </thead>\n",
       "  <tbody>\n",
       "    <tr>\n",
       "      <th>0</th>\n",
       "      <td>2</td>\n",
       "      <td>38563.314328</td>\n",
       "      <td>0.798139</td>\n",
       "    </tr>\n",
       "    <tr>\n",
       "      <th>1</th>\n",
       "      <td>3</td>\n",
       "      <td>32001.744490</td>\n",
       "      <td>0.761287</td>\n",
       "    </tr>\n",
       "    <tr>\n",
       "      <th>2</th>\n",
       "      <td>4</td>\n",
       "      <td>25712.994794</td>\n",
       "      <td>0.276625</td>\n",
       "    </tr>\n",
       "    <tr>\n",
       "      <th>3</th>\n",
       "      <td>5</td>\n",
       "      <td>22556.376336</td>\n",
       "      <td>0.278933</td>\n",
       "    </tr>\n",
       "    <tr>\n",
       "      <th>4</th>\n",
       "      <td>6</td>\n",
       "      <td>19631.993139</td>\n",
       "      <td>0.301169</td>\n",
       "    </tr>\n",
       "    <tr>\n",
       "      <th>5</th>\n",
       "      <td>7</td>\n",
       "      <td>16958.828483</td>\n",
       "      <td>0.316305</td>\n",
       "    </tr>\n",
       "    <tr>\n",
       "      <th>6</th>\n",
       "      <td>8</td>\n",
       "      <td>14944.602318</td>\n",
       "      <td>0.324841</td>\n",
       "    </tr>\n",
       "    <tr>\n",
       "      <th>7</th>\n",
       "      <td>9</td>\n",
       "      <td>12962.792801</td>\n",
       "      <td>0.310387</td>\n",
       "    </tr>\n",
       "    <tr>\n",
       "      <th>8</th>\n",
       "      <td>10</td>\n",
       "      <td>11713.396022</td>\n",
       "      <td>0.323114</td>\n",
       "    </tr>\n",
       "    <tr>\n",
       "      <th>9</th>\n",
       "      <td>11</td>\n",
       "      <td>10624.890052</td>\n",
       "      <td>0.324430</td>\n",
       "    </tr>\n",
       "    <tr>\n",
       "      <th>10</th>\n",
       "      <td>12</td>\n",
       "      <td>9774.126848</td>\n",
       "      <td>0.325814</td>\n",
       "    </tr>\n",
       "  </tbody>\n",
       "</table>\n",
       "</div>"
      ],
      "text/plain": [
       "     k       inertia  silhouette\n",
       "0    2  38563.314328    0.798139\n",
       "1    3  32001.744490    0.761287\n",
       "2    4  25712.994794    0.276625\n",
       "3    5  22556.376336    0.278933\n",
       "4    6  19631.993139    0.301169\n",
       "5    7  16958.828483    0.316305\n",
       "6    8  14944.602318    0.324841\n",
       "7    9  12962.792801    0.310387\n",
       "8   10  11713.396022    0.323114\n",
       "9   11  10624.890052    0.324430\n",
       "10  12   9774.126848    0.325814"
      ]
     },
     "execution_count": 14,
     "metadata": {},
     "output_type": "execute_result"
    }
   ],
   "source": [
    "score_df.head(11)"
   ]
  },
  {
   "cell_type": "code",
   "execution_count": 15,
   "id": "81381fef-2b3c-4862-a2da-25d4a2cb2dfb",
   "metadata": {},
   "outputs": [
    {
     "data": {
      "image/png": "[encoded data removed]",
      "text/plain": [
       "<Figure size 1008x504 with 2 Axes>"
      ]
     },
     "metadata": {
      "needs_background": "light"
     },
     "output_type": "display_data"
    }
   ],
   "source": [
    "fig, axes = plt.subplots(1, 2, figsize=(14, 7))\n",
    "axes[0].plot(score_df.k, score_df.inertia)\n",
    "axes[0].set_title('Inertia over k')\n",
    "axes[1].plot(score_df.k, score_df.silhouette);\n",
    "axes[1].set_title('Silhouette Score over k');"
   ]
  },
  {
   "cell_type": "code",
   "execution_count": 16,
   "id": "c0fb78b7-7a75-4a75-9b0e-ab2cca9fbcd1",
   "metadata": {},
   "outputs": [
    {
     "data": {
      "text/plain": [
       "0    1502\n",
       "2     835\n",
       "3      48\n",
       "1      24\n",
       "Name: cluster, dtype: int64"
      ]
     },
     "execution_count": 16,
     "metadata": {},
     "output_type": "execute_result"
    }
   ],
   "source": [
    "# group is the largest cluster by far\n",
    "df['cluster'].value_counts()"
   ]
  },
  {
   "cell_type": "code",
   "execution_count": 17,
   "id": "68a71a6b-5578-4a53-9f32-66f770b4cae2",
   "metadata": {},
   "outputs": [
    {
     "data": {
      "text/plain": [
       "KMeans(n_clusters=10, random_state=42)"
      ]
     },
     "execution_count": 17,
     "metadata": {},
     "output_type": "execute_result"
    }
   ],
   "source": [
    "km_10 = KMeans(n_clusters=10, random_state=42)\n",
    "km_10.fit(X_sc)"
   ]
  },
  {
   "cell_type": "code",
   "execution_count": 18,
   "id": "d87ab688-d5cb-4a64-b24d-8d97ec72dbff",
   "metadata": {},
   "outputs": [],
   "source": [
    "df['clusterx10'] = km_10.labels_"
   ]
  },
  {
   "cell_type": "code",
   "execution_count": 19,
   "id": "b8f7a072-1f0a-4a86-8617-6d1d1f8e7422",
   "metadata": {},
   "outputs": [
    {
     "data": {
      "text/plain": [
       "8    1167\n",
       "3     561\n",
       "0     398\n",
       "4     121\n",
       "6      66\n",
       "1      24\n",
       "9      24\n",
       "2      24\n",
       "5      14\n",
       "7      10\n",
       "Name: clusterx10, dtype: int64"
      ]
     },
     "execution_count": 19,
     "metadata": {},
     "output_type": "execute_result"
    }
   ],
   "source": [
    "df['clusterx10'].value_counts()"
   ]
  },
  {
   "cell_type": "code",
   "execution_count": 20,
   "id": "23d60ca3-6b09-46a6-b9f0-7e6ca2024e78",
   "metadata": {},
   "outputs": [
    {
     "data": {
      "text/plain": [
       "<AxesSubplot:>"
      ]
     },
     "execution_count": 20,
     "metadata": {},
     "output_type": "execute_result"
    },
    {
     "data": {
      "image/png": "[encoded data removed]",
      "text/plain": [
       "<Figure size 432x288 with 1 Axes>"
      ]
     },
     "metadata": {
      "needs_background": "light"
     },
     "output_type": "display_data"
    }
   ],
   "source": [
    "df.groupby(by='clusterx10').mean().T.plot(kind='barh')"
   ]
  },
  {
   "cell_type": "code",
   "execution_count": 21,
   "id": "0a3d88b6-cc2b-495e-9539-f0926d267bd9",
   "metadata": {},
   "outputs": [
    {
     "data": {
      "text/plain": [
       "Ecuador      25\n",
       "Pakistan     25\n",
       "Togo         25\n",
       "Egypt        25\n",
       "Brazil       25\n",
       "             ..\n",
       "Lithuania     9\n",
       "Sweden        5\n",
       "Finland       5\n",
       "Austria       5\n",
       "Sudan         2\n",
       "Name: Entity, Length: 116, dtype: int64"
      ]
     },
     "execution_count": 21,
     "metadata": {},
     "output_type": "execute_result"
    }
   ],
   "source": [
    "df['Entity'].value_counts()"
   ]
  },
  {
   "cell_type": "code",
   "execution_count": 22,
   "id": "5b219463-dc57-4b6e-9315-7f44218f8ea1",
   "metadata": {},
   "outputs": [
    {
     "data": {
      "text/plain": [
       "<Figure size 2880x1440 with 0 Axes>"
      ]
     },
     "execution_count": 22,
     "metadata": {},
     "output_type": "execute_result"
    },
    {
     "data": {
      "image/png": "[encoded data removed]",
      "text/plain": [
       "<Figure size 432x288 with 1 Axes>"
      ]
     },
     "metadata": {
      "needs_background": "light"
     },
     "output_type": "display_data"
    },
    {
     "data": {
      "text/plain": [
       "<Figure size 2880x1440 with 0 Axes>"
      ]
     },
     "metadata": {},
     "output_type": "display_data"
    }
   ],
   "source": [
    "df.groupby('cluster').mean().T.plot(kind='barh')\n",
    "plt.figure(figsize=(40,20))\n"
   ]
  },
  {
   "cell_type": "code",
   "execution_count": 23,
   "id": "fa96aeb2-70d2-498a-b5dc-40f365ec9fe9",
   "metadata": {},
   "outputs": [
    {
     "data": {
      "text/plain": [
       "[4, 4, 3, 2, 1]"
      ]
     },
     "execution_count": 23,
     "metadata": {},
     "output_type": "execute_result"
    }
   ],
   "source": [
    "lis = [1,2,3,4,4]\n",
    "lis.reverse()\n",
    "lis"
   ]
  },
  {
   "cell_type": "code",
   "execution_count": 24,
   "id": "c8ec89ce-3625-4d39-a967-3e237b9575d3",
   "metadata": {},
   "outputs": [],
   "source": [
    "rev_columns = list(columns.astype(str))\n",
    "rev_columns.reverse()"
   ]
  },
  {
   "cell_type": "code",
   "execution_count": 25,
   "id": "1dda716c-2545-48c7-9dd3-a2b8913fb959",
   "metadata": {},
   "outputs": [],
   "source": [
    "china = df[df['Entity'] == 'China']"
   ]
  },
  {
   "cell_type": "code",
   "execution_count": 26,
   "id": "c026c528-48e5-494d-a42a-acd0dacfc6fa",
   "metadata": {},
   "outputs": [
    {
     "data": {
      "text/plain": [
       "Text(0.5, 1.0, 'China: Death % over Time')"
      ]
     },
     "execution_count": 26,
     "metadata": {},
     "output_type": "execute_result"
    },
    {
     "data": {
      "image/png": "[encoded data removed]",
      "text/plain": [
       "<Figure size 432x288 with 1 Axes>"
      ]
     },
     "metadata": {
      "needs_background": "light"
     },
     "output_type": "display_data"
    }
   ],
   "source": [
    "plt.bar(china['Year'], china['Deaths %'])\n",
    "plt.xlabel('Year')\n",
    "plt.ylabel('Death %')\n",
    "plt.title('China: Death % over Time')"
   ]
  },
  {
   "cell_type": "code",
   "execution_count": 27,
   "id": "21636ed4-5a96-4a18-8cb7-ff40524bb154",
   "metadata": {
    "tags": []
   },
   "outputs": [
    {
     "data": {
      "text/plain": [
       "Text(0.5, 1.0, 'China: Death % over Time')"
      ]
     },
     "execution_count": 27,
     "metadata": {},
     "output_type": "execute_result"
    },
    {
     "data": {
      "image/png": "[encoded data removed]",
      "text/plain": [
       "<Figure size 432x288 with 1 Axes>"
      ]
     },
     "metadata": {
      "needs_background": "light"
     },
     "output_type": "display_data"
    }
   ],
   "source": [
    "plt.scatter(china['Year'], china['Deaths %'])\n",
    "plt.xlabel('Year')\n",
    "plt.ylabel('Death %')\n",
    "plt.title('China: Death % over Time')"
   ]
  },
  {
   "cell_type": "code",
   "execution_count": 28,
   "id": "92765df2",
   "metadata": {
    "tags": []
   },
   "outputs": [
    {
     "ename": "IndexError",
     "evalue": "list index out of range",
     "output_type": "error",
     "traceback": [
      "\u001b[1;31m---------------------------------------------------------------------------\u001b[0m",
      "\u001b[1;31mIndexError\u001b[0m                                Traceback (most recent call last)",
      "\u001b[1;32m~\\AppData\\Local\\Temp/ipykernel_1268/2885120062.py\u001b[0m in \u001b[0;36m<module>\u001b[1;34m\u001b[0m\n\u001b[0;32m      1\u001b[0m \u001b[1;32mfor\u001b[0m \u001b[0mx\u001b[0m\u001b[1;33m,\u001b[0m \u001b[0my\u001b[0m \u001b[1;32min\u001b[0m \u001b[0mzip\u001b[0m\u001b[1;33m(\u001b[0m\u001b[0mcolumns\u001b[0m\u001b[1;33m,\u001b[0m \u001b[0mrev_columns\u001b[0m\u001b[1;33m)\u001b[0m\u001b[1;33m:\u001b[0m\u001b[1;33m\u001b[0m\u001b[1;33m\u001b[0m\u001b[0m\n\u001b[0;32m      2\u001b[0m     \u001b[0mcolors\u001b[0m \u001b[1;33m=\u001b[0m \u001b[1;33m[\u001b[0m\u001b[1;34m\"red\"\u001b[0m\u001b[1;33m,\u001b[0m \u001b[1;34m\"green\"\u001b[0m\u001b[1;33m,\u001b[0m \u001b[1;34m\"blue\"\u001b[0m\u001b[1;33m]\u001b[0m\u001b[1;33m\u001b[0m\u001b[1;33m\u001b[0m\u001b[0m\n\u001b[1;32m----> 3\u001b[1;33m     \u001b[0mdf\u001b[0m\u001b[1;33m[\u001b[0m\u001b[1;34m'color'\u001b[0m\u001b[1;33m]\u001b[0m \u001b[1;33m=\u001b[0m \u001b[0mdf\u001b[0m\u001b[1;33m[\u001b[0m\u001b[1;34m'cluster'\u001b[0m\u001b[1;33m]\u001b[0m\u001b[1;33m.\u001b[0m\u001b[0mmap\u001b[0m\u001b[1;33m(\u001b[0m\u001b[1;32mlambda\u001b[0m \u001b[0mp\u001b[0m\u001b[1;33m:\u001b[0m \u001b[0mcolors\u001b[0m\u001b[1;33m[\u001b[0m\u001b[0mp\u001b[0m\u001b[1;33m]\u001b[0m\u001b[1;33m)\u001b[0m\u001b[1;33m\u001b[0m\u001b[1;33m\u001b[0m\u001b[0m\n\u001b[0m\u001b[0;32m      4\u001b[0m \u001b[1;33m\u001b[0m\u001b[0m\n\u001b[0;32m      5\u001b[0m     ax = df.plot(    \n",
      "\u001b[1;32m~\\anaconda3\\lib\\site-packages\\pandas\\core\\series.py\u001b[0m in \u001b[0;36mmap\u001b[1;34m(self, arg, na_action)\u001b[0m\n\u001b[0;32m   4159\u001b[0m         \u001b[0mdtype\u001b[0m\u001b[1;33m:\u001b[0m \u001b[0mobject\u001b[0m\u001b[1;33m\u001b[0m\u001b[1;33m\u001b[0m\u001b[0m\n\u001b[0;32m   4160\u001b[0m         \"\"\"\n\u001b[1;32m-> 4161\u001b[1;33m         \u001b[0mnew_values\u001b[0m \u001b[1;33m=\u001b[0m \u001b[0msuper\u001b[0m\u001b[1;33m(\u001b[0m\u001b[1;33m)\u001b[0m\u001b[1;33m.\u001b[0m\u001b[0m_map_values\u001b[0m\u001b[1;33m(\u001b[0m\u001b[0marg\u001b[0m\u001b[1;33m,\u001b[0m \u001b[0mna_action\u001b[0m\u001b[1;33m=\u001b[0m\u001b[0mna_action\u001b[0m\u001b[1;33m)\u001b[0m\u001b[1;33m\u001b[0m\u001b[1;33m\u001b[0m\u001b[0m\n\u001b[0m\u001b[0;32m   4162\u001b[0m         return self._constructor(new_values, index=self.index).__finalize__(\n\u001b[0;32m   4163\u001b[0m             \u001b[0mself\u001b[0m\u001b[1;33m,\u001b[0m \u001b[0mmethod\u001b[0m\u001b[1;33m=\u001b[0m\u001b[1;34m\"map\"\u001b[0m\u001b[1;33m\u001b[0m\u001b[1;33m\u001b[0m\u001b[0m\n",
      "\u001b[1;32m~\\anaconda3\\lib\\site-packages\\pandas\\core\\base.py\u001b[0m in \u001b[0;36m_map_values\u001b[1;34m(self, mapper, na_action)\u001b[0m\n\u001b[0;32m    868\u001b[0m \u001b[1;33m\u001b[0m\u001b[0m\n\u001b[0;32m    869\u001b[0m         \u001b[1;31m# mapper is a function\u001b[0m\u001b[1;33m\u001b[0m\u001b[1;33m\u001b[0m\u001b[0m\n\u001b[1;32m--> 870\u001b[1;33m         \u001b[0mnew_values\u001b[0m \u001b[1;33m=\u001b[0m \u001b[0mmap_f\u001b[0m\u001b[1;33m(\u001b[0m\u001b[0mvalues\u001b[0m\u001b[1;33m,\u001b[0m \u001b[0mmapper\u001b[0m\u001b[1;33m)\u001b[0m\u001b[1;33m\u001b[0m\u001b[1;33m\u001b[0m\u001b[0m\n\u001b[0m\u001b[0;32m    871\u001b[0m \u001b[1;33m\u001b[0m\u001b[0m\n\u001b[0;32m    872\u001b[0m         \u001b[1;32mreturn\u001b[0m \u001b[0mnew_values\u001b[0m\u001b[1;33m\u001b[0m\u001b[1;33m\u001b[0m\u001b[0m\n",
      "\u001b[1;32m~\\anaconda3\\lib\\site-packages\\pandas\\_libs\\lib.pyx\u001b[0m in \u001b[0;36mpandas._libs.lib.map_infer\u001b[1;34m()\u001b[0m\n",
      "\u001b[1;32m~\\AppData\\Local\\Temp/ipykernel_1268/2885120062.py\u001b[0m in \u001b[0;36m<lambda>\u001b[1;34m(p)\u001b[0m\n\u001b[0;32m      1\u001b[0m \u001b[1;32mfor\u001b[0m \u001b[0mx\u001b[0m\u001b[1;33m,\u001b[0m \u001b[0my\u001b[0m \u001b[1;32min\u001b[0m \u001b[0mzip\u001b[0m\u001b[1;33m(\u001b[0m\u001b[0mcolumns\u001b[0m\u001b[1;33m,\u001b[0m \u001b[0mrev_columns\u001b[0m\u001b[1;33m)\u001b[0m\u001b[1;33m:\u001b[0m\u001b[1;33m\u001b[0m\u001b[1;33m\u001b[0m\u001b[0m\n\u001b[0;32m      2\u001b[0m     \u001b[0mcolors\u001b[0m \u001b[1;33m=\u001b[0m \u001b[1;33m[\u001b[0m\u001b[1;34m\"red\"\u001b[0m\u001b[1;33m,\u001b[0m \u001b[1;34m\"green\"\u001b[0m\u001b[1;33m,\u001b[0m \u001b[1;34m\"blue\"\u001b[0m\u001b[1;33m]\u001b[0m\u001b[1;33m\u001b[0m\u001b[1;33m\u001b[0m\u001b[0m\n\u001b[1;32m----> 3\u001b[1;33m     \u001b[0mdf\u001b[0m\u001b[1;33m[\u001b[0m\u001b[1;34m'color'\u001b[0m\u001b[1;33m]\u001b[0m \u001b[1;33m=\u001b[0m \u001b[0mdf\u001b[0m\u001b[1;33m[\u001b[0m\u001b[1;34m'cluster'\u001b[0m\u001b[1;33m]\u001b[0m\u001b[1;33m.\u001b[0m\u001b[0mmap\u001b[0m\u001b[1;33m(\u001b[0m\u001b[1;32mlambda\u001b[0m \u001b[0mp\u001b[0m\u001b[1;33m:\u001b[0m \u001b[0mcolors\u001b[0m\u001b[1;33m[\u001b[0m\u001b[0mp\u001b[0m\u001b[1;33m]\u001b[0m\u001b[1;33m)\u001b[0m\u001b[1;33m\u001b[0m\u001b[1;33m\u001b[0m\u001b[0m\n\u001b[0m\u001b[0;32m      4\u001b[0m \u001b[1;33m\u001b[0m\u001b[0m\n\u001b[0;32m      5\u001b[0m     ax = df.plot(    \n",
      "\u001b[1;31mIndexError\u001b[0m: list index out of range"
     ]
    }
   ],
   "source": [
    "for x, y in zip(columns, rev_columns):\n",
    "    colors = [\"red\", \"green\", \"blue\"]\n",
    "    df['color'] = df['cluster'].map(lambda p: colors[p])\n",
    "\n",
    "    ax = df.plot(    \n",
    "        kind=\"scatter\", \n",
    "        x=x, y=y,\n",
    "        figsize=(10,8),\n",
    "        c = df['color']\n",
    "    )\n",
    "    centroids.plot(\n",
    "    kind=\"scatter\", \n",
    "    x=x, y=y, \n",
    "    marker=\"*\", c=[\"maroon\", \"darkgreen\", \"navy\"], s=550,\n",
    "    ax=ax\n",
    "    );"
   ]
  },
  {
   "cell_type": "markdown",
   "id": "f6572054-37ee-47b2-85a3-62e95629bad9",
   "metadata": {},
   "source": [
    "### "
   ]
  },
  {
   "cell_type": "code",
   "execution_count": null,
   "id": "bba19c4a-2f9b-4734-984b-8ab5737a4b34",
   "metadata": {},
   "outputs": [],
   "source": [
    "plt.figure(figsize=(15, 7))\n",
    "sns.heatmap(df.corr(), annot=True, vmin=-1, vmax=1, fmt=\".2f\", cmap=\"Spectral\")\n",
    "plt.show()"
   ]
  },
  {
   "cell_type": "code",
   "execution_count": null,
   "id": "1945909e-8de3-43b4-8f41-a41fe182f62e",
   "metadata": {},
   "outputs": [],
   "source": [
    "le = LabelEncoder()\n",
    "df['Entity'] = le.fit_transform(df['Entity'])\n",
    "scaler = StandardScaler()\n",
    "subset = df.copy()\n",
    "subset.color = subset.color.map({'red':1, 'green':2, 'blue':3})\n",
    "subset_scaled = scaler.fit_transform(subset)\n",
    "subset_scaled_df = pd.DataFrame(subset_scaled, columns=subset.columns)\n",
    "k_means_df = subset_scaled_df.copy()"
   ]
  },
  {
   "cell_type": "code",
   "execution_count": null,
   "id": "db42433f-4321-409c-82d6-b1b1ebc25f9b",
   "metadata": {},
   "outputs": [],
   "source": [
    "model = KMeans(random_state=1)\n",
    "visualizer = KElbowVisualizer(model, k=(2, 30), metric=\"silhouette\", timings=True)\n",
    "visualizer.fit(k_means_df)  # fit the data to the visualizer\n",
    "visualizer.show()  # finalize and render figure"
   ]
  },
  {
   "cell_type": "code",
   "execution_count": null,
   "id": "88d175b6-8a33-4874-bca5-65ae49bde658",
   "metadata": {},
   "outputs": [],
   "source": [
    "sil_score = []\n",
    "cluster_list = range(2, 10)\n",
    "for n_clusters in cluster_list:\n",
    "    clusterer = KMeans(n_clusters=n_clusters, random_state=1)\n",
    "    preds = clusterer.fit_predict((subset_scaled_df))\n",
    "    score = silhouette_score(k_means_df, preds)\n",
    "    sil_score.append(score)\n",
    "    print(\"For n_clusters = {}, the silhouette score is {})\".format(n_clusters, score))"
   ]
  },
  {
   "cell_type": "code",
   "execution_count": null,
   "id": "605dcdb8-969c-4453-b096-e521ceed8101",
   "metadata": {},
   "outputs": [],
   "source": [
    "# finding optimal no. of clusters with silhouette coefficients\n",
    "visualizer = SilhouetteVisualizer(KMeans(5, random_state=1))\n",
    "visualizer.fit(k_means_df)\n",
    "visualizer.show()"
   ]
  },
  {
   "cell_type": "code",
   "execution_count": null,
   "id": "07641103-7e36-4812-b215-1984c3c1d35f",
   "metadata": {},
   "outputs": [],
   "source": [
    "# finding optimal no. of clusters with silhouette coefficients\n",
    "visualizer = SilhouetteVisualizer(KMeans(4, random_state=1))\n",
    "visualizer.fit(k_means_df)\n",
    "visualizer.show()"
   ]
  },
  {
   "cell_type": "code",
   "execution_count": null,
   "id": "d11ffeb2-b0f8-4c62-87db-f83faaad219a",
   "metadata": {},
   "outputs": [],
   "source": [
    "# finding optimal no. of clusters with silhouette coefficients\n",
    "visualizer = SilhouetteVisualizer(KMeans(3, random_state=1))\n",
    "visualizer.fit(k_means_df)\n",
    "visualizer.show()"
   ]
  },
  {
   "cell_type": "code",
   "execution_count": null,
   "id": "fac45463-ce65-4041-ba8b-ab663e9919f3",
   "metadata": {},
   "outputs": [],
   "source": [
    "# finding optimal no. of clusters with silhouette coefficients\n",
    "visualizer = SilhouetteVisualizer(KMeans(2, random_state=1))\n",
    "visualizer.fit(k_means_df)\n",
    "visualizer.show()"
   ]
  },
  {
   "cell_type": "markdown",
   "id": "2e2e2edb-ef79-4d6e-852f-e10397e4c8af",
   "metadata": {},
   "source": [
    "**Observations**\n",
    "\n",
    "- The silhouette coefficient for 3 clusters is the highest.\n",
    "- We can also see that the score for 3 clusters is close to the average score and the shape of the clusters is very uniform in SilhouetteVisualizer, even though the magnitude may be different.\n",
    "- So, we will proceed with 3 clusters."
   ]
  },
  {
   "cell_type": "markdown",
   "id": "c1325d99-0705-4e04-857f-8ce054784f53",
   "metadata": {},
   "source": [
    "## Hierarchical Clustering"
   ]
  },
  {
   "cell_type": "code",
   "execution_count": null,
   "id": "bbfc9bb5-0e7a-4e2c-a38b-7ac0ade064ae",
   "metadata": {},
   "outputs": [],
   "source": [
    "df.color = df.color.map({'red':1, 'green':2, 'blue':3})"
   ]
  },
  {
   "cell_type": "code",
   "execution_count": null,
   "id": "30181da7-4bf3-4e28-b864-f93e277aa035",
   "metadata": {},
   "outputs": [],
   "source": [
    "ss = StandardScaler()\n",
    "df_sc = ss.fit_transform(df)\n",
    "\n",
    "model = AgglomerativeClustering(distance_threshold=100, affinity='euclidean',  linkage='average', n_clusters =None)\n",
    "model.fit(df_sc)\n",
    "df['labels'] = model.labels_\n",
    "df_clust = df.groupby(['labels'])"
   ]
  },
  {
   "cell_type": "code",
   "execution_count": null,
   "id": "da6298de-8b35-4a74-b467-d15405e334a1",
   "metadata": {},
   "outputs": [],
   "source": [
    "Z = linkage(df_sc, metric='euclidean', method='average')\n",
    "c, coph_dists = cophenet(Z , pdist(df_sc))"
   ]
  },
  {
   "cell_type": "code",
   "execution_count": null,
   "id": "4330c084-7600-415e-8cfe-8f05cdce7c3c",
   "metadata": {},
   "outputs": [],
   "source": [
    "%%time\n",
    "plt.figure(figsize=(25, 5))\n",
    "plt.title('Agglomerative Hierarchical Clustering Dendogram')\n",
    "plt.xlabel('sample index')\n",
    "plt.ylabel('Distance')\n",
    "dendrogram(Z, leaf_rotation=90.,color_threshold = 40, truncate_mode ='level' ,leaf_font_size=8. )\n",
    "plt.tight_layout()"
   ]
  }
 ],
 "metadata": {
  "kernelspec": {
   "display_name": "Python 3 (ipykernel)",
   "language": "python",
   "name": "python3"
  },
  "language_info": {
   "codemirror_mode": {
    "name": "ipython",
    "version": 3
   },
   "file_extension": ".py",
   "mimetype": "text/x-python",
   "name": "python",
   "nbconvert_exporter": "python",
   "pygments_lexer": "ipython3",
   "version": "3.9.7"
  }
 },
 "nbformat": 4,
 "nbformat_minor": 5
}
