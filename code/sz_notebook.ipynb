{
 "cells": [
  {
   "cell_type": "code",
   "execution_count": 1,
   "id": "9321e6cb-0700-40c5-980c-156b057bdb75",
   "metadata": {},
   "outputs": [],
   "source": [
    "import pandas as pd\n",
    "import numpy as np\n",
    "import matplotlib.pyplot as plt"
   ]
  },
  {
   "cell_type": "markdown",
   "id": "c82c453d-5652-4f12-942c-87cc2c93869b",
   "metadata": {},
   "source": [
    "## Grabbing and Cleaning Data"
   ]
  },
  {
   "cell_type": "code",
   "execution_count": 2,
   "id": "294a4a8b-c9c2-430c-bcd9-9605b3411abd",
   "metadata": {},
   "outputs": [],
   "source": [
    "ghg = pd.read_csv('p5/data/total-ghg-emissions.csv')\n",
    "ghg.drop(columns=['Code'], inplace=True)\n",
    "ghg.rename(columns={\"Total GHG emissions including LUCF (CAIT)\":\"Total GHG\"}, inplace=True)\n",
    "ghg = ghg[ghg['Year']>1989]\n",
    "ghg = ghg[ghg['Year'] < 2015]\n",
    "ghg.to_csv('../data/new_cleaned/ghg.csv')"
   ]
  },
  {
   "cell_type": "code",
   "execution_count": 3,
   "id": "ad093666-f1a7-48b2-8112-f45e0b83346b",
   "metadata": {},
   "outputs": [],
   "source": [
    "airpol_death_share = pd.read_csv('p5/data/share-deaths-air-pollution.csv')\n",
    "airpol_death_share.drop(columns=['Code'], inplace=True)\n",
    "airpol_death_share.rename(columns={\"Deaths - Cause: All causes - Risk: Air pollution - Sex: Both - Age: Age-standardized (Percent)\": \"Deaths %\"}, inplace=True)\n",
    "airpol_death_share = airpol_death_share[airpol_death_share['Year']>1989]\n",
    "airpol_death_share = airpol_death_share[airpol_death_share['Year'] < 2015]\n",
    "airpol_death_share.to_csv('../data/new_cleaned/airpol_death_share.csv')"
   ]
  },
  {
   "cell_type": "code",
   "execution_count": 4,
   "id": "6237bd1c-ff7b-4d29-8654-f778f6fd4266",
   "metadata": {},
   "outputs": [],
   "source": [
    "airpol = pd.read_csv('p5/data/PM25-air-pollution.csv')\n",
    "airpol.drop(columns=['Code'], inplace=True)\n",
    "airpol.rename(columns={\"PM2.5 air pollution, mean annual exposure (micrograms per cubic meter)\": \"Air Pollution\"}, inplace=True)\n",
    "airpol = airpol[airpol['Year']>1989]\n",
    "airpol = airpol[airpol['Year'] < 2015]\n",
    "airpol.to_csv('../data/new_cleaned/airpol.csv')"
   ]
  },
  {
   "cell_type": "code",
   "execution_count": 5,
   "id": "0ef86ca5-b374-4c55-87a8-124f6f398b4e",
   "metadata": {},
   "outputs": [],
   "source": [
    "net_zero_binary = pd.read_csv('p5/data/net-zero-target-set.csv')\n",
    "net_zero_binary.drop(columns=['Code'], inplace=True)\n",
    "net_zero_binary.rename(columns={\"Is there a net-zero target?\":\"Net-Zero Target\"}, inplace=True)\n",
    "net_zero_binary.rename(columns={\"Year\":\"Year-Zs\"}, inplace=True)\n",
    "net_zero_binary['Net-Zero Target'] = net_zero_binary['Net-Zero Target'].map({\"Yes\":1, \"No\":0})\n",
    "#net_zero_binary = net_zero_binary[net_zero_binary['Year']>1989]\n",
    "net_zero_binary.to_csv('../data/new_cleaned/net_zero_binary.csv')"
   ]
  },
  {
   "cell_type": "code",
   "execution_count": 6,
   "id": "290fab8c-2ae1-413a-be84-d4bbcb56dce2",
   "metadata": {},
   "outputs": [
    {
     "data": {
      "text/plain": [
       "\"\\nenergy_country=pd.read_csv('../p5/data/country-primary-energy.csv')\\nenergy_country.drop(columns=['Code'], inplace=True)\\nenergy_country = energy_country[energy_country['Year']>1989]\\nenergy_country.to_csv('../data/new_cleaned/energy_country.csv')\\nenergy_country = energy_country[energy_country['Entity'] != 'World']\\n\""
      ]
     },
     "execution_count": 6,
     "metadata": {},
     "output_type": "execute_result"
    }
   ],
   "source": [
    "'''\n",
    "energy_country=pd.read_csv('../p5/data/country-primary-energy.csv')\n",
    "energy_country.drop(columns=['Code'], inplace=True)\n",
    "energy_country = energy_country[energy_country['Year']>1989]\n",
    "energy_country.to_csv('../data/new_cleaned/energy_country.csv')\n",
    "energy_country = energy_country[energy_country['Entity'] != 'World']\n",
    "'''"
   ]
  },
  {
   "cell_type": "code",
   "execution_count": 7,
   "id": "3831e783-a9bb-42cd-8e3b-c638c3f79fb4",
   "metadata": {},
   "outputs": [],
   "source": [
    "food_co2e = pd.read_csv('p5/data/emissions-from-food.csv')\n",
    "food_co2e.drop(columns=['Code'], inplace=True)\n",
    "food_co2e.rename(columns={\"Food emissions by country\":\"Food Emissions\"}, inplace=True)\n",
    "food_co2e = food_co2e[food_co2e['Year']>1989]\n",
    "food_co2e = food_co2e[food_co2e['Year'] < 2015]\n",
    "food_co2e.to_csv('../data/new_cleaned/food_co2e.csv')"
   ]
  },
  {
   "cell_type": "code",
   "execution_count": 8,
   "id": "bfb5960a-2b13-4ad6-996b-01ca75e37443",
   "metadata": {},
   "outputs": [],
   "source": [
    "ozone = pd.read_csv('p5/data/consumption-of-ozone-depleting-substances.csv')\n",
    "ozone.drop(columns=['Code'], inplace=True)\n",
    "ozone.rename(columns={\"Consumption of Ozone-Depleting Substances - All\":\"Consumption of Ozone\"}, inplace=True)\n",
    "ozone = ozone[ozone['Year']>1989]\n",
    "ozone = ozone[ozone['Year'] < 2015]\n",
    "ozone.to_csv('../data/new_cleaned/ozone.csv')"
   ]
  },
  {
   "cell_type": "code",
   "execution_count": 9,
   "id": "d67a5a01-5a9d-473f-801b-a6ad1d593350",
   "metadata": {},
   "outputs": [],
   "source": [
    "transport = pd.read_csv('p5/data/co2-emissions-transport.csv')\n",
    "transport.drop(columns=['Code'], inplace=True)\n",
    "transport.rename(columns={\"Transport (CAIT, 2020)\":\"Transport\"}, inplace=True)\n",
    "transport = transport[transport['Year']>1989]\n",
    "transport = transport[transport['Year'] < 2015]\n",
    "transport = transport[transport['Entity'] != 'World']\n",
    "transport = transport[transport['Entity'] != 'European Union (27)']\n",
    "transport.to_csv('../data/new_cleaned/transport.csv')"
   ]
  },
  {
   "cell_type": "code",
   "execution_count": 10,
   "id": "5be80d04-9b7c-40dc-aa72-3a0a3d8940e7",
   "metadata": {},
   "outputs": [],
   "source": [
    "co2_percap = pd.read_csv('p5/data/co-emissions-per-capita.csv')\n",
    "co2_percap.drop(columns=['Code'], inplace=True)\n",
    "co2_percap.rename(columns={\"Annual CO2 emissions (per capita)\":\"CO2 Emissions Per Cap\"}, inplace=True)\n",
    "co2_percap = co2_percap[co2_percap['Year']>1989]\n",
    "co2_percap = co2_percap[co2_percap['Year'] < 2015]\n",
    "co2_percap.to_csv('../data/new_cleaned/co2_percap.csv')"
   ]
  },
  {
   "cell_type": "code",
   "execution_count": 11,
   "id": "5c87a0b8-1029-426e-94e7-0374f33f4e15",
   "metadata": {},
   "outputs": [],
   "source": [
    "share_co2 = pd.read_csv('p5/data/annual-share-of-co2-emissions.csv')\n",
    "share_co2.drop(columns=['Code'], inplace=True)\n",
    "share_co2.rename(columns={\"Share of global annual CO2 emissions\":\"Shared CO2 Emissions\"}, inplace=True)\n",
    "share_co2 = share_co2[share_co2['Year']>1989]\n",
    "share_co2 = share_co2[share_co2['Year'] < 2015]\n",
    "share_co2.to_csv('../data/new_cleaned/share_co2.csv')"
   ]
  },
  {
   "cell_type": "code",
   "execution_count": 12,
   "id": "4e3fb8b1-f4fe-4e3d-b49d-80b58bf0b2e3",
   "metadata": {},
   "outputs": [],
   "source": [
    "co2 = pd.read_csv('p5/data/annual_country_co2.csv')\n",
    "co2.drop(columns=['Code'], inplace=True)\n",
    "co2.rename(columns={\"Annual CO2 emissions\":\"CO2 Emissions\"}, inplace=True)\n",
    "co2 = co2[co2['Year']>1989]\n",
    "co2 = co2[co2['Year'] < 2015]\n",
    "co2.to_csv('../data/new_cleaned/co2.csv')"
   ]
  },
  {
   "cell_type": "code",
   "execution_count": 13,
   "id": "68cace74-113b-4f00-86dd-62f04b6f1fe4",
   "metadata": {},
   "outputs": [],
   "source": [
    "list_data = [airpol_death_share, co2, co2_percap, food_co2e, ghg, ozone, share_co2, transport]"
   ]
  },
  {
   "cell_type": "markdown",
   "id": "ad2c5973-a92e-4b27-81e1-c9245c25d156",
   "metadata": {},
   "source": [
    "------------------------------"
   ]
  },
  {
   "cell_type": "markdown",
   "id": "4c81cbf1-2922-4e41-9cab-fc5e4a7e4f9a",
   "metadata": {},
   "source": [
    "## Combining All Data"
   ]
  },
  {
   "cell_type": "code",
   "execution_count": 14,
   "id": "9b60c394-d5d0-47fa-ae47-798b77c29486",
   "metadata": {},
   "outputs": [],
   "source": [
    "combos = pd.merge(airpol_death_share, co2, on=['Year', 'Entity'])\n",
    "combos = pd.merge(combos, co2_percap, on=['Year', 'Entity'])\n",
    "combos = pd.merge(combos, food_co2e, on=['Year', 'Entity'])\n",
    "combos = pd.merge(combos, ghg, on=['Year', 'Entity'])\n",
    "combos = pd.merge(combos, ozone, on=['Year', 'Entity'])\n",
    "combos = pd.merge(combos, share_co2, on=['Year', 'Entity'])\n",
    "combos = pd.merge(combos, transport, on=['Year', 'Entity'])\n",
    "combos = combos.loc[:,~combos.columns.duplicated()]"
   ]
  },
  {
   "cell_type": "code",
   "execution_count": 15,
   "id": "77db1ec8-5ffb-41fb-ace7-68d6b7971d5b",
   "metadata": {
    "tags": []
   },
   "outputs": [
    {
     "data": {
      "text/html": [
       "<div>\n",
       "<style scoped>\n",
       "    .dataframe tbody tr th:only-of-type {\n",
       "        vertical-align: middle;\n",
       "    }\n",
       "\n",
       "    .dataframe tbody tr th {\n",
       "        vertical-align: top;\n",
       "    }\n",
       "\n",
       "    .dataframe thead th {\n",
       "        text-align: right;\n",
       "    }\n",
       "</style>\n",
       "<table border=\"1\" class=\"dataframe\">\n",
       "  <thead>\n",
       "    <tr style=\"text-align: right;\">\n",
       "      <th></th>\n",
       "      <th>Entity</th>\n",
       "      <th>Year</th>\n",
       "      <th>Deaths %</th>\n",
       "      <th>CO2 Emissions</th>\n",
       "      <th>CO2 Emissions Per Cap</th>\n",
       "      <th>Food Emissions</th>\n",
       "      <th>Total GHG</th>\n",
       "      <th>Consumption of Ozone</th>\n",
       "      <th>Shared CO2 Emissions</th>\n",
       "      <th>Transport</th>\n",
       "    </tr>\n",
       "  </thead>\n",
       "  <tbody>\n",
       "    <tr>\n",
       "      <th>0</th>\n",
       "      <td>Albania</td>\n",
       "      <td>1991</td>\n",
       "      <td>17.613636</td>\n",
       "      <td>4228256</td>\n",
       "      <td>1.2889</td>\n",
       "      <td>4011691.0</td>\n",
       "      <td>9030000.0</td>\n",
       "      <td>0.00</td>\n",
       "      <td>0.02</td>\n",
       "      <td>500000.0</td>\n",
       "    </tr>\n",
       "    <tr>\n",
       "      <th>1</th>\n",
       "      <td>Albania</td>\n",
       "      <td>1995</td>\n",
       "      <td>16.789055</td>\n",
       "      <td>2066496</td>\n",
       "      <td>0.6638</td>\n",
       "      <td>4861321.1</td>\n",
       "      <td>7480000.0</td>\n",
       "      <td>43.40</td>\n",
       "      <td>0.01</td>\n",
       "      <td>600000.0</td>\n",
       "    </tr>\n",
       "    <tr>\n",
       "      <th>2</th>\n",
       "      <td>Albania</td>\n",
       "      <td>1996</td>\n",
       "      <td>16.588451</td>\n",
       "      <td>1993216</td>\n",
       "      <td>0.6432</td>\n",
       "      <td>4569702.9</td>\n",
       "      <td>7280000.0</td>\n",
       "      <td>43.20</td>\n",
       "      <td>0.01</td>\n",
       "      <td>600000.0</td>\n",
       "    </tr>\n",
       "    <tr>\n",
       "      <th>3</th>\n",
       "      <td>Albania</td>\n",
       "      <td>1997</td>\n",
       "      <td>15.081361</td>\n",
       "      <td>1531552</td>\n",
       "      <td>0.4941</td>\n",
       "      <td>4431656.7</td>\n",
       "      <td>6510000.0</td>\n",
       "      <td>45.20</td>\n",
       "      <td>0.01</td>\n",
       "      <td>500000.0</td>\n",
       "    </tr>\n",
       "    <tr>\n",
       "      <th>4</th>\n",
       "      <td>Albania</td>\n",
       "      <td>1998</td>\n",
       "      <td>15.965796</td>\n",
       "      <td>1744064</td>\n",
       "      <td>0.5607</td>\n",
       "      <td>4344061.6</td>\n",
       "      <td>6810000.0</td>\n",
       "      <td>49.60</td>\n",
       "      <td>0.01</td>\n",
       "      <td>700000.0</td>\n",
       "    </tr>\n",
       "    <tr>\n",
       "      <th>...</th>\n",
       "      <td>...</td>\n",
       "      <td>...</td>\n",
       "      <td>...</td>\n",
       "      <td>...</td>\n",
       "      <td>...</td>\n",
       "      <td>...</td>\n",
       "      <td>...</td>\n",
       "      <td>...</td>\n",
       "      <td>...</td>\n",
       "      <td>...</td>\n",
       "    </tr>\n",
       "    <tr>\n",
       "      <th>2653</th>\n",
       "      <td>Zimbabwe</td>\n",
       "      <td>2010</td>\n",
       "      <td>9.450169</td>\n",
       "      <td>7878316</td>\n",
       "      <td>0.6205</td>\n",
       "      <td>55244889.2</td>\n",
       "      <td>66540000.0</td>\n",
       "      <td>29.30</td>\n",
       "      <td>0.02</td>\n",
       "      <td>1300000.0</td>\n",
       "    </tr>\n",
       "    <tr>\n",
       "      <th>2654</th>\n",
       "      <td>Zimbabwe</td>\n",
       "      <td>2011</td>\n",
       "      <td>10.053401</td>\n",
       "      <td>9743983</td>\n",
       "      <td>0.7557</td>\n",
       "      <td>53985614.6</td>\n",
       "      <td>67420000.0</td>\n",
       "      <td>22.22</td>\n",
       "      <td>0.03</td>\n",
       "      <td>2300000.0</td>\n",
       "    </tr>\n",
       "    <tr>\n",
       "      <th>2655</th>\n",
       "      <td>Zimbabwe</td>\n",
       "      <td>2012</td>\n",
       "      <td>10.455091</td>\n",
       "      <td>7882889</td>\n",
       "      <td>0.6011</td>\n",
       "      <td>54211027.7</td>\n",
       "      <td>67630000.0</td>\n",
       "      <td>16.20</td>\n",
       "      <td>0.02</td>\n",
       "      <td>2600000.0</td>\n",
       "    </tr>\n",
       "    <tr>\n",
       "      <th>2656</th>\n",
       "      <td>Zimbabwe</td>\n",
       "      <td>2013</td>\n",
       "      <td>10.691584</td>\n",
       "      <td>11836254</td>\n",
       "      <td>0.8866</td>\n",
       "      <td>54321218.5</td>\n",
       "      <td>67550000.0</td>\n",
       "      <td>15.76</td>\n",
       "      <td>0.03</td>\n",
       "      <td>2900000.0</td>\n",
       "    </tr>\n",
       "    <tr>\n",
       "      <th>2657</th>\n",
       "      <td>Zimbabwe</td>\n",
       "      <td>2014</td>\n",
       "      <td>10.858493</td>\n",
       "      <td>11905687</td>\n",
       "      <td>0.8763</td>\n",
       "      <td>51674911.7</td>\n",
       "      <td>66100000.0</td>\n",
       "      <td>13.32</td>\n",
       "      <td>0.03</td>\n",
       "      <td>2600000.0</td>\n",
       "    </tr>\n",
       "  </tbody>\n",
       "</table>\n",
       "<p>2658 rows × 10 columns</p>\n",
       "</div>"
      ],
      "text/plain": [
       "        Entity  Year   Deaths %  CO2 Emissions  CO2 Emissions Per Cap  \\\n",
       "0      Albania  1991  17.613636        4228256                 1.2889   \n",
       "1      Albania  1995  16.789055        2066496                 0.6638   \n",
       "2      Albania  1996  16.588451        1993216                 0.6432   \n",
       "3      Albania  1997  15.081361        1531552                 0.4941   \n",
       "4      Albania  1998  15.965796        1744064                 0.5607   \n",
       "...        ...   ...        ...            ...                    ...   \n",
       "2653  Zimbabwe  2010   9.450169        7878316                 0.6205   \n",
       "2654  Zimbabwe  2011  10.053401        9743983                 0.7557   \n",
       "2655  Zimbabwe  2012  10.455091        7882889                 0.6011   \n",
       "2656  Zimbabwe  2013  10.691584       11836254                 0.8866   \n",
       "2657  Zimbabwe  2014  10.858493       11905687                 0.8763   \n",
       "\n",
       "      Food Emissions   Total GHG  Consumption of Ozone  Shared CO2 Emissions  \\\n",
       "0          4011691.0   9030000.0                  0.00                  0.02   \n",
       "1          4861321.1   7480000.0                 43.40                  0.01   \n",
       "2          4569702.9   7280000.0                 43.20                  0.01   \n",
       "3          4431656.7   6510000.0                 45.20                  0.01   \n",
       "4          4344061.6   6810000.0                 49.60                  0.01   \n",
       "...              ...         ...                   ...                   ...   \n",
       "2653      55244889.2  66540000.0                 29.30                  0.02   \n",
       "2654      53985614.6  67420000.0                 22.22                  0.03   \n",
       "2655      54211027.7  67630000.0                 16.20                  0.02   \n",
       "2656      54321218.5  67550000.0                 15.76                  0.03   \n",
       "2657      51674911.7  66100000.0                 13.32                  0.03   \n",
       "\n",
       "      Transport  \n",
       "0      500000.0  \n",
       "1      600000.0  \n",
       "2      600000.0  \n",
       "3      500000.0  \n",
       "4      700000.0  \n",
       "...         ...  \n",
       "2653  1300000.0  \n",
       "2654  2300000.0  \n",
       "2655  2600000.0  \n",
       "2656  2900000.0  \n",
       "2657  2600000.0  \n",
       "\n",
       "[2658 rows x 10 columns]"
      ]
     },
     "execution_count": 15,
     "metadata": {},
     "output_type": "execute_result"
    }
   ],
   "source": [
    "combos"
   ]
  },
  {
   "cell_type": "code",
   "execution_count": 16,
   "id": "16b2f5ff-8aab-4cbf-ae11-f33369c4d17e",
   "metadata": {},
   "outputs": [],
   "source": [
    "combos.to_csv('../data/new_cleaned/all_cleaned.csv')"
   ]
  },
  {
   "cell_type": "markdown",
   "id": "dc7d2992-da0a-4826-adb7-5f8caa91b75c",
   "metadata": {},
   "source": [
    "-------------------------"
   ]
  },
  {
   "cell_type": "markdown",
   "id": "f5095e77-2352-4218-9c66-5a16abb80332",
   "metadata": {},
   "source": [
    "## Plotting"
   ]
  },
  {
   "cell_type": "code",
   "execution_count": 17,
   "id": "054034ef-cd34-4397-b69f-301bcbb87cad",
   "metadata": {},
   "outputs": [
    {
     "data": {
      "text/plain": [
       "<AxesSubplot:>"
      ]
     },
     "execution_count": 17,
     "metadata": {},
     "output_type": "execute_result"
    },
    {
     "data": {
      "image/png": "[encoded data removed]",
      "text/plain": [
       "<Figure size 432x288 with 1 Axes>"
      ]
     },
     "metadata": {
      "needs_background": "light"
     },
     "output_type": "display_data"
    }
   ],
   "source": [
    "combos.plot()"
   ]
  },
  {
   "cell_type": "code",
   "execution_count": 18,
   "id": "d38dfb16-e2d7-4ac1-b688-e5527ea65615",
   "metadata": {},
   "outputs": [
    {
     "data": {
      "text/plain": [
       "Index(['Entity', 'Year', 'Deaths %', 'CO2 Emissions', 'CO2 Emissions Per Cap',\n",
       "       'Food Emissions', 'Total GHG', 'Consumption of Ozone',\n",
       "       'Shared CO2 Emissions', 'Transport'],\n",
       "      dtype='object')"
      ]
     },
     "execution_count": 18,
     "metadata": {},
     "output_type": "execute_result"
    }
   ],
   "source": [
    "combos.columns"
   ]
  },
  {
   "cell_type": "code",
   "execution_count": 19,
   "id": "be7e4896-f7cd-4ca6-b43c-778e03d2c185",
   "metadata": {},
   "outputs": [
    {
     "ename": "NameError",
     "evalue": "name 'hc_df' is not defined",
     "output_type": "error",
     "traceback": [
      "\u001b[1;31m---------------------------------------------------------------------------\u001b[0m",
      "\u001b[1;31mNameError\u001b[0m                                 Traceback (most recent call last)",
      "\u001b[1;32m~\\AppData\\Local\\Temp/ipykernel_14900/697588246.py\u001b[0m in \u001b[0;36m<module>\u001b[1;34m\u001b[0m\n\u001b[0;32m     38\u001b[0m \u001b[1;32mfor\u001b[0m \u001b[0mdm\u001b[0m \u001b[1;32min\u001b[0m \u001b[0mdistance_metrics\u001b[0m\u001b[1;33m:\u001b[0m\u001b[1;33m\u001b[0m\u001b[1;33m\u001b[0m\u001b[0m\n\u001b[0;32m     39\u001b[0m     \u001b[1;32mfor\u001b[0m \u001b[0mlm\u001b[0m \u001b[1;32min\u001b[0m \u001b[0mlinkage_methods\u001b[0m\u001b[1;33m:\u001b[0m\u001b[1;33m\u001b[0m\u001b[1;33m\u001b[0m\u001b[0m\n\u001b[1;32m---> 40\u001b[1;33m         \u001b[0mZ\u001b[0m \u001b[1;33m=\u001b[0m \u001b[0mlinkage\u001b[0m\u001b[1;33m(\u001b[0m\u001b[0mhc_df\u001b[0m\u001b[1;33m,\u001b[0m \u001b[0mmetric\u001b[0m\u001b[1;33m=\u001b[0m\u001b[0mdm\u001b[0m\u001b[1;33m,\u001b[0m \u001b[0mmethod\u001b[0m\u001b[1;33m=\u001b[0m\u001b[0mlm\u001b[0m\u001b[1;33m)\u001b[0m\u001b[1;33m\u001b[0m\u001b[1;33m\u001b[0m\u001b[0m\n\u001b[0m\u001b[0;32m     41\u001b[0m         \u001b[0mc\u001b[0m\u001b[1;33m,\u001b[0m \u001b[0mcoph_dists\u001b[0m \u001b[1;33m=\u001b[0m \u001b[0mcophenet\u001b[0m\u001b[1;33m(\u001b[0m\u001b[0mZ\u001b[0m\u001b[1;33m,\u001b[0m \u001b[0mpdist\u001b[0m\u001b[1;33m(\u001b[0m\u001b[0mhc_df\u001b[0m\u001b[1;33m)\u001b[0m\u001b[1;33m)\u001b[0m\u001b[1;33m\u001b[0m\u001b[1;33m\u001b[0m\u001b[0m\n\u001b[0;32m     42\u001b[0m         print(\n",
      "\u001b[1;31mNameError\u001b[0m: name 'hc_df' is not defined"
     ]
    }
   ],
   "source": [
    "from sklearn.datasets import make_blobs\n",
    "from sklearn.cluster import KMeans\n",
    "from sklearn.metrics import silhouette_score\n",
    "from sklearn.preprocessing import StandardScaler, PolynomialFeatures\n",
    "from sklearn.pipeline import Pipeline\n",
    "from sklearn.cluster import DBSCAN, AgglomerativeClustering\n",
    "from scipy.cluster.hierarchy import dendrogram, linkage, cophenet\n",
    "\n",
    "df = combos.drop(columns=['Entity'])\n",
    "# random seed\n",
    "np.random.seed(24)\n",
    "\n",
    "# Scaling \n",
    "ss = StandardScaler()\n",
    "ss.fit(df)\n",
    "\n",
    "X = ss.transform(df)\n",
    "\n",
    "\n",
    "# clustering- pick min & max clusters\n",
    "scores = []\n",
    "for ki in range(len(df)):\n",
    "  kmeans = KMeans(n_clusters=4, random_state=24)\n",
    "  kmeans.fit(X)\n",
    "  inertia = kmeans.inertia_\n",
    "  scores.append([ki, inertia])\n",
    "\n",
    "inertia_df = pd.DataFrame(scores, columns=['n_clusters', 'inertia'])\n",
    "\n",
    "\n",
    "# hierarchical clustering\n",
    "# list of distance metrics\n",
    "distance_metrics = [\"euclidean\", \"chebyshev\", \"mahalanobis\", \"cityblock\"]\n",
    "# list of linkage methods\n",
    "linkage_methods = [\"single\", \"complete\", \"average\", \"weighted\"]\n",
    "high_cophenet_corr = 0\n",
    "high_dm_lm = [0, 0]\n",
    "for dm in distance_metrics:\n",
    "    for lm in linkage_methods:\n",
    "        Z = linkage(hc_df, metric=dm, method=lm)\n",
    "        c, coph_dists = cophenet(Z, pdist(hc_df))\n",
    "        print(\n",
    "            \"Cophenetic correlation for {} distance and {} linkage is {}.\".format(\n",
    "                dm.capitalize(), lm, c\n",
    "            )\n",
    "        )\n",
    "        if high_cophenet_corr < c:\n",
    "            high_cophenet_corr = c\n",
    "            high_dm_lm[0] = dm\n",
    "            high_dm_lm[1] = lm\n",
    "\n",
    "\n",
    "# DBSCAN\n",
    "dbscan = combos\n",
    "dbscan.fit(X)\n",
    "\n",
    "# DBSCAN stuffs\n",
    "def find_best_silhouette(df):\n",
    "    \n",
    "    max_score = -1\n",
    "    ss = StandardScaler()\n",
    "    df_scaled = ss.fit_transform(df)\n",
    "    \n",
    "    for epsilon in np.linspace(.2, 5, 30):\n",
    "        for minsamples in range(3, len(df)//2):\n",
    "            dbscan = DBSCAN(eps=epsilon, min_samples=minsamples, n_jobs=-1)\n",
    "            dbscan.fit(df_scaled)\n",
    "            if len(set(dbscan.labels_))>1:\n",
    "                score = silhouette_score(df_scaled, dbscan.labels_)\n",
    "                if score > max_score:\n",
    "                    max_score = score\n",
    "                    best_eps = epsilon\n",
    "                    best_minsamples = minsamples\n",
    "                    \n",
    "    print(f'Best silhouette score was {max_score}')\n",
    "    print(f'Best eps was {best_eps}')\n",
    "    print(f'Best min_samples was {best_minsamples}')\n",
    "    return\n",
    "\n"
   ]
  }
 ],
 "metadata": {
  "kernelspec": {
   "display_name": "Python 3 (ipykernel)",
   "language": "python",
   "name": "python3"
  },
  "language_info": {
   "codemirror_mode": {
    "name": "ipython",
    "version": 3
   },
   "file_extension": ".py",
   "mimetype": "text/x-python",
   "name": "python",
   "nbconvert_exporter": "python",
   "pygments_lexer": "ipython3",
   "version": "3.9.7"
  }
 },
 "nbformat": 4,
 "nbformat_minor": 5
}
