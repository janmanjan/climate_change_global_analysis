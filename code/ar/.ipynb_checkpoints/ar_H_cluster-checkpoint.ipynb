{
 "cells": [
  {
   "cell_type": "code",
   "execution_count": 1,
   "id": "dbed4916-7f52-4e62-95df-c6381b9d784f",
   "metadata": {},
   "outputs": [],
   "source": [
    "import pandas as pd\n",
    "\n",
    "import numpy as np\n",
    "\n",
    "import matplotlib.pyplot as plt \n",
    "%matplotlib inline\n",
    "\n",
    "from scipy.stats import zscore\n",
    "\n",
    "import seaborn as sns"
   ]
  },
  {
   "cell_type": "code",
   "execution_count": 2,
   "id": "6d4f41a1-cfef-409e-aff0-f29593be41f9",
   "metadata": {},
   "outputs": [],
   "source": [
    "data = pd.read_csv('clean_with_air.csv')"
   ]
  },
  {
   "cell_type": "code",
   "execution_count": 3,
   "id": "6e3a969c-3a74-4aa5-af9a-6f07dfbeea6d",
   "metadata": {},
   "outputs": [
    {
     "data": {
      "text/html": [
       "<div>\n",
       "<style scoped>\n",
       "    .dataframe tbody tr th:only-of-type {\n",
       "        vertical-align: middle;\n",
       "    }\n",
       "\n",
       "    .dataframe tbody tr th {\n",
       "        vertical-align: top;\n",
       "    }\n",
       "\n",
       "    .dataframe thead th {\n",
       "        text-align: right;\n",
       "    }\n",
       "</style>\n",
       "<table border=\"1\" class=\"dataframe\">\n",
       "  <thead>\n",
       "    <tr style=\"text-align: right;\">\n",
       "      <th></th>\n",
       "      <th>Unnamed: 0</th>\n",
       "      <th>Entity</th>\n",
       "      <th>Year</th>\n",
       "      <th>Deaths %</th>\n",
       "      <th>CO2 Emissions</th>\n",
       "      <th>CO2 Emissions Per Cap</th>\n",
       "      <th>Food Emissions</th>\n",
       "      <th>Total GHG</th>\n",
       "      <th>Consumption of Ozone</th>\n",
       "      <th>Shared CO2 Emissions</th>\n",
       "      <th>...</th>\n",
       "      <th>Death_rate_household_air_pol</th>\n",
       "      <th>Death_rate_all_causes</th>\n",
       "      <th>Death_actual_ozone</th>\n",
       "      <th>Death_actual_particulate</th>\n",
       "      <th>Death_actual_household</th>\n",
       "      <th>Death_under5</th>\n",
       "      <th>Death_5-14</th>\n",
       "      <th>Death_50-69</th>\n",
       "      <th>Death_70+</th>\n",
       "      <th>Death_15-49</th>\n",
       "    </tr>\n",
       "  </thead>\n",
       "  <tbody>\n",
       "    <tr>\n",
       "      <th>0</th>\n",
       "      <td>0</td>\n",
       "      <td>Albania</td>\n",
       "      <td>1991</td>\n",
       "      <td>17.613636</td>\n",
       "      <td>4228256</td>\n",
       "      <td>1.2889</td>\n",
       "      <td>4011691.0</td>\n",
       "      <td>9030000.0</td>\n",
       "      <td>0.0</td>\n",
       "      <td>0.02</td>\n",
       "      <td>...</td>\n",
       "      <td>98.112348</td>\n",
       "      <td>46.051505</td>\n",
       "      <td>73.711348</td>\n",
       "      <td>949.199276</td>\n",
       "      <td>2033.148497</td>\n",
       "      <td>172.433312</td>\n",
       "      <td>5.975427</td>\n",
       "      <td>271.661092</td>\n",
       "      <td>512.126572</td>\n",
       "      <td>60.714220</td>\n",
       "    </tr>\n",
       "    <tr>\n",
       "      <th>1</th>\n",
       "      <td>1</td>\n",
       "      <td>Albania</td>\n",
       "      <td>1995</td>\n",
       "      <td>16.789055</td>\n",
       "      <td>2066496</td>\n",
       "      <td>0.6638</td>\n",
       "      <td>4861321.1</td>\n",
       "      <td>7480000.0</td>\n",
       "      <td>43.4</td>\n",
       "      <td>0.01</td>\n",
       "      <td>...</td>\n",
       "      <td>81.760043</td>\n",
       "      <td>37.768185</td>\n",
       "      <td>63.413417</td>\n",
       "      <td>828.043002</td>\n",
       "      <td>1792.207903</td>\n",
       "      <td>127.035936</td>\n",
       "      <td>4.580403</td>\n",
       "      <td>240.740486</td>\n",
       "      <td>469.406670</td>\n",
       "      <td>49.692924</td>\n",
       "    </tr>\n",
       "    <tr>\n",
       "      <th>2</th>\n",
       "      <td>2</td>\n",
       "      <td>Albania</td>\n",
       "      <td>1996</td>\n",
       "      <td>16.588451</td>\n",
       "      <td>1993216</td>\n",
       "      <td>0.6432</td>\n",
       "      <td>4569702.9</td>\n",
       "      <td>7280000.0</td>\n",
       "      <td>43.2</td>\n",
       "      <td>0.01</td>\n",
       "      <td>...</td>\n",
       "      <td>80.923134</td>\n",
       "      <td>38.585679</td>\n",
       "      <td>58.832538</td>\n",
       "      <td>858.066586</td>\n",
       "      <td>1795.573829</td>\n",
       "      <td>113.537473</td>\n",
       "      <td>4.373679</td>\n",
       "      <td>255.560407</td>\n",
       "      <td>491.357876</td>\n",
       "      <td>52.069689</td>\n",
       "    </tr>\n",
       "  </tbody>\n",
       "</table>\n",
       "<p>3 rows × 22 columns</p>\n",
       "</div>"
      ],
      "text/plain": [
       "   Unnamed: 0   Entity  Year   Deaths %  CO2 Emissions  CO2 Emissions Per Cap  \\\n",
       "0           0  Albania  1991  17.613636        4228256                 1.2889   \n",
       "1           1  Albania  1995  16.789055        2066496                 0.6638   \n",
       "2           2  Albania  1996  16.588451        1993216                 0.6432   \n",
       "\n",
       "   Food Emissions  Total GHG  Consumption of Ozone  Shared CO2 Emissions  ...  \\\n",
       "0       4011691.0  9030000.0                   0.0                  0.02  ...   \n",
       "1       4861321.1  7480000.0                  43.4                  0.01  ...   \n",
       "2       4569702.9  7280000.0                  43.2                  0.01  ...   \n",
       "\n",
       "   Death_rate_household_air_pol  Death_rate_all_causes  Death_actual_ozone  \\\n",
       "0                     98.112348              46.051505           73.711348   \n",
       "1                     81.760043              37.768185           63.413417   \n",
       "2                     80.923134              38.585679           58.832538   \n",
       "\n",
       "   Death_actual_particulate  Death_actual_household  Death_under5  Death_5-14  \\\n",
       "0                949.199276             2033.148497    172.433312    5.975427   \n",
       "1                828.043002             1792.207903    127.035936    4.580403   \n",
       "2                858.066586             1795.573829    113.537473    4.373679   \n",
       "\n",
       "   Death_50-69   Death_70+  Death_15-49  \n",
       "0   271.661092  512.126572    60.714220  \n",
       "1   240.740486  469.406670    49.692924  \n",
       "2   255.560407  491.357876    52.069689  \n",
       "\n",
       "[3 rows x 22 columns]"
      ]
     },
     "execution_count": 3,
     "metadata": {},
     "output_type": "execute_result"
    }
   ],
   "source": [
    "data.head(3)"
   ]
  },
  {
   "cell_type": "code",
   "execution_count": 9,
   "id": "3d31f5de-5ec6-4ea2-b73f-f0d6f92a3998",
   "metadata": {},
   "outputs": [],
   "source": [
    "df = data.drop(columns = ['Unnamed: 0', 'Entity'])"
   ]
  },
  {
   "cell_type": "code",
   "execution_count": 10,
   "id": "318b31c0-40c1-4644-9c15-1f043d79d584",
   "metadata": {},
   "outputs": [
    {
     "data": {
      "text/plain": [
       "Unnamed: 0                      0\n",
       "Entity                          0\n",
       "Year                            0\n",
       "Deaths %                        0\n",
       "CO2 Emissions                   0\n",
       "CO2 Emissions Per Cap           0\n",
       "Food Emissions                  0\n",
       "Total GHG                       0\n",
       "Consumption of Ozone            0\n",
       "Shared CO2 Emissions            0\n",
       "Transport                       0\n",
       "Death_rate_ambient_ozone_pol    0\n",
       "Death_rate_household_air_pol    0\n",
       "Death_rate_all_causes           0\n",
       "Death_actual_ozone              0\n",
       "Death_actual_particulate        0\n",
       "Death_actual_household          0\n",
       "Death_under5                    0\n",
       "Death_5-14                      0\n",
       "Death_50-69                     0\n",
       "Death_70+                       0\n",
       "Death_15-49                     0\n",
       "dtype: int64"
      ]
     },
     "execution_count": 10,
     "metadata": {},
     "output_type": "execute_result"
    }
   ],
   "source": [
    "data.isnull().sum()"
   ]
  },
  {
   "cell_type": "code",
   "execution_count": 29,
   "id": "aea51245-a468-4c7f-a759-fe7e79d5787c",
   "metadata": {},
   "outputs": [
    {
     "data": {
      "text/plain": [
       "(2658, 21)"
      ]
     },
     "execution_count": 29,
     "metadata": {},
     "output_type": "execute_result"
    }
   ],
   "source": [
    "df.shape"
   ]
  },
  {
   "cell_type": "code",
   "execution_count": 15,
   "id": "eeb16b36-28ad-47b3-bc4c-1f835d0f8c34",
   "metadata": {},
   "outputs": [],
   "source": [
    "from sklearn.preprocessing import StandardScaler"
   ]
  },
  {
   "cell_type": "code",
   "execution_count": 20,
   "id": "1e3792a9-6b69-42a0-87bc-646ae98b23a8",
   "metadata": {},
   "outputs": [
    {
     "data": {
      "text/plain": [
       "array([[-1.59686082,  1.39274063, -0.25649491, ..., -0.23011028,\n",
       "        -0.18740543, -0.24954037],\n",
       "       [-1.01296894,  1.22022274, -0.2592441 , ..., -0.23105735,\n",
       "        -0.18806345, -0.25091018],\n",
       "       [-0.86699597,  1.17825259, -0.25933729, ..., -0.23060343,\n",
       "        -0.18772533, -0.25061478],\n",
       "       ...,\n",
       "       [ 1.46857156, -0.10496212, -0.25184718, ..., -0.21443314,\n",
       "        -0.18433082, -0.22493594],\n",
       "       [ 1.61454453, -0.05548318, -0.24681955, ..., -0.21317972,\n",
       "        -0.18389309, -0.22391278],\n",
       "       [ 1.7605175 , -0.0205627 , -0.24673124, ..., -0.21193042,\n",
       "        -0.183492  , -0.22225229]])"
      ]
     },
     "execution_count": 20,
     "metadata": {},
     "output_type": "execute_result"
    }
   ],
   "source": [
    "ss = StandardScaler()\n",
    "df_sc = ss.fit_transform(df)\n",
    "\n"
   ]
  },
  {
   "cell_type": "code",
   "execution_count": 66,
   "id": "79999780-2d63-4ec0-9a43-371081009a7a",
   "metadata": {},
   "outputs": [
    {
     "data": {
      "text/plain": [
       "AgglomerativeClustering(linkage='average', n_clusters=10)"
      ]
     },
     "execution_count": 66,
     "metadata": {},
     "output_type": "execute_result"
    }
   ],
   "source": [
    "from sklearn.cluster import AgglomerativeClustering \n",
    "\n",
    "model = AgglomerativeClustering(distance_threshold=None, affinity='euclidean',  linkage='average', n_clusters =10)\n",
    "\n",
    "\n",
    "model.fit(df_sc)"
   ]
  },
  {
   "cell_type": "code",
   "execution_count": 67,
   "id": "6d31fd3a-4f85-4774-92e6-f98c2f253da4",
   "metadata": {},
   "outputs": [
    {
     "data": {
      "text/plain": [
       "array([1, 1, 1, ..., 1, 1, 1], dtype=int64)"
      ]
     },
     "execution_count": 67,
     "metadata": {},
     "output_type": "execute_result"
    }
   ],
   "source": [
    "model.labels_"
   ]
  },
  {
   "cell_type": "code",
   "execution_count": 68,
   "id": "3b392141-d7df-44ae-883b-c371f45f0ee8",
   "metadata": {},
   "outputs": [],
   "source": [
    "df['labels'] = model.labels_"
   ]
  },
  {
   "cell_type": "code",
   "execution_count": 69,
   "id": "f4aa2a46-e990-45c6-b574-6ac0217bd0e1",
   "metadata": {},
   "outputs": [
    {
     "data": {
      "text/plain": [
       "1    2545\n",
       "0      24\n",
       "8      23\n",
       "3      19\n",
       "2      14\n",
       "7      13\n",
       "5      10\n",
       "6       5\n",
       "4       4\n",
       "9       1\n",
       "Name: labels, dtype: int64"
      ]
     },
     "execution_count": 69,
     "metadata": {},
     "output_type": "execute_result"
    }
   ],
   "source": [
    "df.labels.value_counts()"
   ]
  },
  {
   "cell_type": "code",
   "execution_count": 30,
   "id": "7a2aa9fb-a5b4-4c28-b58a-84f74cf5d7f0",
   "metadata": {},
   "outputs": [],
   "source": [
    "df_clust = df.groupby(['labels'])"
   ]
  },
  {
   "cell_type": "code",
   "execution_count": 31,
   "id": "ca46b5ce-9b58-4b2c-90c9-3f45fe2513c5",
   "metadata": {},
   "outputs": [
    {
     "data": {
      "text/plain": [
       "(2658, 21)"
      ]
     },
     "execution_count": 31,
     "metadata": {},
     "output_type": "execute_result"
    }
   ],
   "source": [
    "df.shape"
   ]
  },
  {
   "cell_type": "code",
   "execution_count": 32,
   "id": "ac72e015-17e4-4f92-8bab-335ca8d6a3d6",
   "metadata": {},
   "outputs": [
    {
     "data": {
      "text/html": [
       "<div>\n",
       "<style scoped>\n",
       "    .dataframe tbody tr th:only-of-type {\n",
       "        vertical-align: middle;\n",
       "    }\n",
       "\n",
       "    .dataframe tbody tr th {\n",
       "        vertical-align: top;\n",
       "    }\n",
       "\n",
       "    .dataframe thead th {\n",
       "        text-align: right;\n",
       "    }\n",
       "</style>\n",
       "<table border=\"1\" class=\"dataframe\">\n",
       "  <thead>\n",
       "    <tr style=\"text-align: right;\">\n",
       "      <th></th>\n",
       "      <th>Year</th>\n",
       "      <th>Deaths %</th>\n",
       "      <th>CO2 Emissions</th>\n",
       "      <th>CO2 Emissions Per Cap</th>\n",
       "      <th>Food Emissions</th>\n",
       "      <th>Total GHG</th>\n",
       "      <th>Consumption of Ozone</th>\n",
       "      <th>Shared CO2 Emissions</th>\n",
       "      <th>Transport</th>\n",
       "      <th>Death_rate_ambient_ozone_pol</th>\n",
       "      <th>...</th>\n",
       "      <th>Death_rate_all_causes</th>\n",
       "      <th>Death_actual_ozone</th>\n",
       "      <th>Death_actual_particulate</th>\n",
       "      <th>Death_actual_household</th>\n",
       "      <th>Death_under5</th>\n",
       "      <th>Death_5-14</th>\n",
       "      <th>Death_50-69</th>\n",
       "      <th>Death_70+</th>\n",
       "      <th>Death_15-49</th>\n",
       "      <th>labels</th>\n",
       "    </tr>\n",
       "  </thead>\n",
       "  <tbody>\n",
       "    <tr>\n",
       "      <th>0</th>\n",
       "      <td>1991</td>\n",
       "      <td>17.613636</td>\n",
       "      <td>4228256</td>\n",
       "      <td>1.2889</td>\n",
       "      <td>4.011691e+06</td>\n",
       "      <td>9.030000e+06</td>\n",
       "      <td>0.00</td>\n",
       "      <td>0.02</td>\n",
       "      <td>5.000000e+05</td>\n",
       "      <td>4.360865</td>\n",
       "      <td>...</td>\n",
       "      <td>46.051505</td>\n",
       "      <td>73.711348</td>\n",
       "      <td>949.199276</td>\n",
       "      <td>2033.148497</td>\n",
       "      <td>172.433312</td>\n",
       "      <td>5.975427</td>\n",
       "      <td>271.661092</td>\n",
       "      <td>512.126572</td>\n",
       "      <td>60.714220</td>\n",
       "      <td>1</td>\n",
       "    </tr>\n",
       "    <tr>\n",
       "      <th>1</th>\n",
       "      <td>1995</td>\n",
       "      <td>16.789055</td>\n",
       "      <td>2066496</td>\n",
       "      <td>0.6638</td>\n",
       "      <td>4.861321e+06</td>\n",
       "      <td>7.480000e+06</td>\n",
       "      <td>43.40</td>\n",
       "      <td>0.01</td>\n",
       "      <td>6.000000e+05</td>\n",
       "      <td>3.420271</td>\n",
       "      <td>...</td>\n",
       "      <td>37.768185</td>\n",
       "      <td>63.413417</td>\n",
       "      <td>828.043002</td>\n",
       "      <td>1792.207903</td>\n",
       "      <td>127.035936</td>\n",
       "      <td>4.580403</td>\n",
       "      <td>240.740486</td>\n",
       "      <td>469.406670</td>\n",
       "      <td>49.692924</td>\n",
       "      <td>1</td>\n",
       "    </tr>\n",
       "    <tr>\n",
       "      <th>2</th>\n",
       "      <td>1996</td>\n",
       "      <td>16.588451</td>\n",
       "      <td>1993216</td>\n",
       "      <td>0.6432</td>\n",
       "      <td>4.569703e+06</td>\n",
       "      <td>7.280000e+06</td>\n",
       "      <td>43.20</td>\n",
       "      <td>0.01</td>\n",
       "      <td>6.000000e+05</td>\n",
       "      <td>3.079414</td>\n",
       "      <td>...</td>\n",
       "      <td>38.585679</td>\n",
       "      <td>58.832538</td>\n",
       "      <td>858.066586</td>\n",
       "      <td>1795.573829</td>\n",
       "      <td>113.537473</td>\n",
       "      <td>4.373679</td>\n",
       "      <td>255.560407</td>\n",
       "      <td>491.357876</td>\n",
       "      <td>52.069689</td>\n",
       "      <td>1</td>\n",
       "    </tr>\n",
       "    <tr>\n",
       "      <th>3</th>\n",
       "      <td>1997</td>\n",
       "      <td>15.081361</td>\n",
       "      <td>1531552</td>\n",
       "      <td>0.4941</td>\n",
       "      <td>4.431657e+06</td>\n",
       "      <td>6.510000e+06</td>\n",
       "      <td>45.20</td>\n",
       "      <td>0.01</td>\n",
       "      <td>5.000000e+05</td>\n",
       "      <td>3.023884</td>\n",
       "      <td>...</td>\n",
       "      <td>39.243796</td>\n",
       "      <td>59.782109</td>\n",
       "      <td>898.700084</td>\n",
       "      <td>1757.484535</td>\n",
       "      <td>105.434149</td>\n",
       "      <td>4.414006</td>\n",
       "      <td>269.448518</td>\n",
       "      <td>521.197486</td>\n",
       "      <td>57.988035</td>\n",
       "      <td>1</td>\n",
       "    </tr>\n",
       "    <tr>\n",
       "      <th>4</th>\n",
       "      <td>1998</td>\n",
       "      <td>15.965796</td>\n",
       "      <td>1744064</td>\n",
       "      <td>0.5607</td>\n",
       "      <td>4.344062e+06</td>\n",
       "      <td>6.810000e+06</td>\n",
       "      <td>49.60</td>\n",
       "      <td>0.01</td>\n",
       "      <td>7.000000e+05</td>\n",
       "      <td>2.600204</td>\n",
       "      <td>...</td>\n",
       "      <td>40.057266</td>\n",
       "      <td>53.195387</td>\n",
       "      <td>943.590146</td>\n",
       "      <td>1691.903067</td>\n",
       "      <td>99.530736</td>\n",
       "      <td>4.493629</td>\n",
       "      <td>280.472022</td>\n",
       "      <td>547.315668</td>\n",
       "      <td>64.973478</td>\n",
       "      <td>1</td>\n",
       "    </tr>\n",
       "    <tr>\n",
       "      <th>...</th>\n",
       "      <td>...</td>\n",
       "      <td>...</td>\n",
       "      <td>...</td>\n",
       "      <td>...</td>\n",
       "      <td>...</td>\n",
       "      <td>...</td>\n",
       "      <td>...</td>\n",
       "      <td>...</td>\n",
       "      <td>...</td>\n",
       "      <td>...</td>\n",
       "      <td>...</td>\n",
       "      <td>...</td>\n",
       "      <td>...</td>\n",
       "      <td>...</td>\n",
       "      <td>...</td>\n",
       "      <td>...</td>\n",
       "      <td>...</td>\n",
       "      <td>...</td>\n",
       "      <td>...</td>\n",
       "      <td>...</td>\n",
       "      <td>...</td>\n",
       "    </tr>\n",
       "    <tr>\n",
       "      <th>2493</th>\n",
       "      <td>2009</td>\n",
       "      <td>2.997720</td>\n",
       "      <td>5478209686</td>\n",
       "      <td>17.8847</td>\n",
       "      <td>1.489593e+09</td>\n",
       "      <td>5.865860e+09</td>\n",
       "      <td>4285.20</td>\n",
       "      <td>17.33</td>\n",
       "      <td>1.622500e+09</td>\n",
       "      <td>2.758361</td>\n",
       "      <td>...</td>\n",
       "      <td>13.606110</td>\n",
       "      <td>13085.256012</td>\n",
       "      <td>61679.928779</td>\n",
       "      <td>205.178258</td>\n",
       "      <td>771.000475</td>\n",
       "      <td>4.959677</td>\n",
       "      <td>21262.264946</td>\n",
       "      <td>49012.653749</td>\n",
       "      <td>3714.305944</td>\n",
       "      <td>0</td>\n",
       "    </tr>\n",
       "    <tr>\n",
       "      <th>2494</th>\n",
       "      <td>2010</td>\n",
       "      <td>2.854517</td>\n",
       "      <td>5675786435</td>\n",
       "      <td>18.3676</td>\n",
       "      <td>1.500705e+09</td>\n",
       "      <td>6.111810e+09</td>\n",
       "      <td>2332.50</td>\n",
       "      <td>17.02</td>\n",
       "      <td>1.679800e+09</td>\n",
       "      <td>2.710908</td>\n",
       "      <td>...</td>\n",
       "      <td>12.570955</td>\n",
       "      <td>13171.292592</td>\n",
       "      <td>58311.889071</td>\n",
       "      <td>193.582510</td>\n",
       "      <td>713.345956</td>\n",
       "      <td>4.338604</td>\n",
       "      <td>20436.658952</td>\n",
       "      <td>46948.904467</td>\n",
       "      <td>3379.933684</td>\n",
       "      <td>0</td>\n",
       "    </tr>\n",
       "    <tr>\n",
       "      <th>2495</th>\n",
       "      <td>2011</td>\n",
       "      <td>2.782746</td>\n",
       "      <td>5540173478</td>\n",
       "      <td>17.7807</td>\n",
       "      <td>1.533755e+09</td>\n",
       "      <td>6.235850e+09</td>\n",
       "      <td>1629.78</td>\n",
       "      <td>16.07</td>\n",
       "      <td>1.633600e+09</td>\n",
       "      <td>2.935783</td>\n",
       "      <td>...</td>\n",
       "      <td>11.932344</td>\n",
       "      <td>14580.398939</td>\n",
       "      <td>56524.604217</td>\n",
       "      <td>186.217489</td>\n",
       "      <td>692.850103</td>\n",
       "      <td>4.170049</td>\n",
       "      <td>20358.642782</td>\n",
       "      <td>46873.507932</td>\n",
       "      <td>3175.832290</td>\n",
       "      <td>0</td>\n",
       "    </tr>\n",
       "    <tr>\n",
       "      <th>2496</th>\n",
       "      <td>2012</td>\n",
       "      <td>2.656376</td>\n",
       "      <td>5338698344</td>\n",
       "      <td>16.9998</td>\n",
       "      <td>1.448819e+09</td>\n",
       "      <td>5.936090e+09</td>\n",
       "      <td>-67.80</td>\n",
       "      <td>15.26</td>\n",
       "      <td>1.597500e+09</td>\n",
       "      <td>2.798086</td>\n",
       "      <td>...</td>\n",
       "      <td>11.277427</td>\n",
       "      <td>14225.973551</td>\n",
       "      <td>54581.351016</td>\n",
       "      <td>178.188240</td>\n",
       "      <td>674.958570</td>\n",
       "      <td>3.911759</td>\n",
       "      <td>19943.839678</td>\n",
       "      <td>45246.089140</td>\n",
       "      <td>2938.525420</td>\n",
       "      <td>0</td>\n",
       "    </tr>\n",
       "    <tr>\n",
       "      <th>2497</th>\n",
       "      <td>2013</td>\n",
       "      <td>2.526777</td>\n",
       "      <td>5474256770</td>\n",
       "      <td>17.3017</td>\n",
       "      <td>1.440518e+09</td>\n",
       "      <td>6.056310e+09</td>\n",
       "      <td>714.38</td>\n",
       "      <td>15.52</td>\n",
       "      <td>1.646900e+09</td>\n",
       "      <td>2.633749</td>\n",
       "      <td>...</td>\n",
       "      <td>10.690710</td>\n",
       "      <td>13733.255475</td>\n",
       "      <td>52906.862274</td>\n",
       "      <td>170.646299</td>\n",
       "      <td>661.683574</td>\n",
       "      <td>3.869343</td>\n",
       "      <td>19427.018812</td>\n",
       "      <td>43806.642844</td>\n",
       "      <td>2740.903177</td>\n",
       "      <td>0</td>\n",
       "    </tr>\n",
       "  </tbody>\n",
       "</table>\n",
       "<p>150 rows × 21 columns</p>\n",
       "</div>"
      ],
      "text/plain": [
       "      Year   Deaths %  CO2 Emissions  CO2 Emissions Per Cap  Food Emissions  \\\n",
       "0     1991  17.613636        4228256                 1.2889    4.011691e+06   \n",
       "1     1995  16.789055        2066496                 0.6638    4.861321e+06   \n",
       "2     1996  16.588451        1993216                 0.6432    4.569703e+06   \n",
       "3     1997  15.081361        1531552                 0.4941    4.431657e+06   \n",
       "4     1998  15.965796        1744064                 0.5607    4.344062e+06   \n",
       "...    ...        ...            ...                    ...             ...   \n",
       "2493  2009   2.997720     5478209686                17.8847    1.489593e+09   \n",
       "2494  2010   2.854517     5675786435                18.3676    1.500705e+09   \n",
       "2495  2011   2.782746     5540173478                17.7807    1.533755e+09   \n",
       "2496  2012   2.656376     5338698344                16.9998    1.448819e+09   \n",
       "2497  2013   2.526777     5474256770                17.3017    1.440518e+09   \n",
       "\n",
       "         Total GHG  Consumption of Ozone  Shared CO2 Emissions     Transport  \\\n",
       "0     9.030000e+06                  0.00                  0.02  5.000000e+05   \n",
       "1     7.480000e+06                 43.40                  0.01  6.000000e+05   \n",
       "2     7.280000e+06                 43.20                  0.01  6.000000e+05   \n",
       "3     6.510000e+06                 45.20                  0.01  5.000000e+05   \n",
       "4     6.810000e+06                 49.60                  0.01  7.000000e+05   \n",
       "...            ...                   ...                   ...           ...   \n",
       "2493  5.865860e+09               4285.20                 17.33  1.622500e+09   \n",
       "2494  6.111810e+09               2332.50                 17.02  1.679800e+09   \n",
       "2495  6.235850e+09               1629.78                 16.07  1.633600e+09   \n",
       "2496  5.936090e+09                -67.80                 15.26  1.597500e+09   \n",
       "2497  6.056310e+09                714.38                 15.52  1.646900e+09   \n",
       "\n",
       "      Death_rate_ambient_ozone_pol  ...  Death_rate_all_causes  \\\n",
       "0                         4.360865  ...              46.051505   \n",
       "1                         3.420271  ...              37.768185   \n",
       "2                         3.079414  ...              38.585679   \n",
       "3                         3.023884  ...              39.243796   \n",
       "4                         2.600204  ...              40.057266   \n",
       "...                            ...  ...                    ...   \n",
       "2493                      2.758361  ...              13.606110   \n",
       "2494                      2.710908  ...              12.570955   \n",
       "2495                      2.935783  ...              11.932344   \n",
       "2496                      2.798086  ...              11.277427   \n",
       "2497                      2.633749  ...              10.690710   \n",
       "\n",
       "      Death_actual_ozone  Death_actual_particulate  Death_actual_household  \\\n",
       "0              73.711348                949.199276             2033.148497   \n",
       "1              63.413417                828.043002             1792.207903   \n",
       "2              58.832538                858.066586             1795.573829   \n",
       "3              59.782109                898.700084             1757.484535   \n",
       "4              53.195387                943.590146             1691.903067   \n",
       "...                  ...                       ...                     ...   \n",
       "2493        13085.256012              61679.928779              205.178258   \n",
       "2494        13171.292592              58311.889071              193.582510   \n",
       "2495        14580.398939              56524.604217              186.217489   \n",
       "2496        14225.973551              54581.351016              178.188240   \n",
       "2497        13733.255475              52906.862274              170.646299   \n",
       "\n",
       "      Death_under5  Death_5-14   Death_50-69     Death_70+  Death_15-49  \\\n",
       "0       172.433312    5.975427    271.661092    512.126572    60.714220   \n",
       "1       127.035936    4.580403    240.740486    469.406670    49.692924   \n",
       "2       113.537473    4.373679    255.560407    491.357876    52.069689   \n",
       "3       105.434149    4.414006    269.448518    521.197486    57.988035   \n",
       "4        99.530736    4.493629    280.472022    547.315668    64.973478   \n",
       "...            ...         ...           ...           ...          ...   \n",
       "2493    771.000475    4.959677  21262.264946  49012.653749  3714.305944   \n",
       "2494    713.345956    4.338604  20436.658952  46948.904467  3379.933684   \n",
       "2495    692.850103    4.170049  20358.642782  46873.507932  3175.832290   \n",
       "2496    674.958570    3.911759  19943.839678  45246.089140  2938.525420   \n",
       "2497    661.683574    3.869343  19427.018812  43806.642844  2740.903177   \n",
       "\n",
       "      labels  \n",
       "0          1  \n",
       "1          1  \n",
       "2          1  \n",
       "3          1  \n",
       "4          1  \n",
       "...      ...  \n",
       "2493       0  \n",
       "2494       0  \n",
       "2495       0  \n",
       "2496       0  \n",
       "2497       0  \n",
       "\n",
       "[150 rows x 21 columns]"
      ]
     },
     "execution_count": 32,
     "metadata": {},
     "output_type": "execute_result"
    }
   ],
   "source": [
    "df_clust.head(100)"
   ]
  },
  {
   "cell_type": "code",
   "execution_count": 34,
   "id": "d21a6912-52ab-4d3d-80f1-e131e238d7bd",
   "metadata": {},
   "outputs": [
    {
     "data": {
      "text/html": [
       "<div>\n",
       "<style scoped>\n",
       "    .dataframe tbody tr th:only-of-type {\n",
       "        vertical-align: middle;\n",
       "    }\n",
       "\n",
       "    .dataframe tbody tr th {\n",
       "        vertical-align: top;\n",
       "    }\n",
       "\n",
       "    .dataframe thead th {\n",
       "        text-align: right;\n",
       "    }\n",
       "</style>\n",
       "<table border=\"1\" class=\"dataframe\">\n",
       "  <thead>\n",
       "    <tr style=\"text-align: right;\">\n",
       "      <th></th>\n",
       "      <th>Year</th>\n",
       "      <th>Deaths %</th>\n",
       "      <th>CO2 Emissions</th>\n",
       "      <th>CO2 Emissions Per Cap</th>\n",
       "      <th>Food Emissions</th>\n",
       "      <th>Total GHG</th>\n",
       "      <th>Consumption of Ozone</th>\n",
       "      <th>Shared CO2 Emissions</th>\n",
       "      <th>Transport</th>\n",
       "      <th>Death_rate_ambient_ozone_pol</th>\n",
       "      <th>Death_rate_household_air_pol</th>\n",
       "      <th>Death_rate_all_causes</th>\n",
       "      <th>Death_actual_ozone</th>\n",
       "      <th>Death_actual_particulate</th>\n",
       "      <th>Death_actual_household</th>\n",
       "      <th>Death_under5</th>\n",
       "      <th>Death_5-14</th>\n",
       "      <th>Death_50-69</th>\n",
       "      <th>Death_70+</th>\n",
       "      <th>Death_15-49</th>\n",
       "    </tr>\n",
       "    <tr>\n",
       "      <th>labels</th>\n",
       "      <th></th>\n",
       "      <th></th>\n",
       "      <th></th>\n",
       "      <th></th>\n",
       "      <th></th>\n",
       "      <th></th>\n",
       "      <th></th>\n",
       "      <th></th>\n",
       "      <th></th>\n",
       "      <th></th>\n",
       "      <th></th>\n",
       "      <th></th>\n",
       "      <th></th>\n",
       "      <th></th>\n",
       "      <th></th>\n",
       "      <th></th>\n",
       "      <th></th>\n",
       "      <th></th>\n",
       "      <th></th>\n",
       "      <th></th>\n",
       "    </tr>\n",
       "  </thead>\n",
       "  <tbody>\n",
       "    <tr>\n",
       "      <th>0</th>\n",
       "      <td>1999.604651</td>\n",
       "      <td>11.604666</td>\n",
       "      <td>4.761715e+09</td>\n",
       "      <td>13.070816</td>\n",
       "      <td>1.526904e+09</td>\n",
       "      <td>5.358882e+09</td>\n",
       "      <td>62073.359535</td>\n",
       "      <td>18.011395</td>\n",
       "      <td>1.011267e+09</td>\n",
       "      <td>8.867990</td>\n",
       "      <td>52.160467</td>\n",
       "      <td>49.702915</td>\n",
       "      <td>58747.355817</td>\n",
       "      <td>3.463433e+05</td>\n",
       "      <td>417615.160839</td>\n",
       "      <td>14800.263869</td>\n",
       "      <td>432.668022</td>\n",
       "      <td>116470.724693</td>\n",
       "      <td>246936.125446</td>\n",
       "      <td>26450.876765</td>\n",
       "    </tr>\n",
       "    <tr>\n",
       "      <th>1</th>\n",
       "      <td>2001.956288</td>\n",
       "      <td>10.923117</td>\n",
       "      <td>1.082585e+08</td>\n",
       "      <td>5.161772</td>\n",
       "      <td>1.073901e+08</td>\n",
       "      <td>2.020842e+08</td>\n",
       "      <td>1247.445004</td>\n",
       "      <td>0.391461</td>\n",
       "      <td>2.035230e+07</td>\n",
       "      <td>2.479965</td>\n",
       "      <td>64.976973</td>\n",
       "      <td>55.975959</td>\n",
       "      <td>1101.430907</td>\n",
       "      <td>1.412719e+04</td>\n",
       "      <td>21768.425304</td>\n",
       "      <td>2103.527615</td>\n",
       "      <td>56.748919</td>\n",
       "      <td>5048.160559</td>\n",
       "      <td>6576.967381</td>\n",
       "      <td>1443.212759</td>\n",
       "    </tr>\n",
       "    <tr>\n",
       "      <th>2</th>\n",
       "      <td>2010.000000</td>\n",
       "      <td>19.517517</td>\n",
       "      <td>8.605079e+09</td>\n",
       "      <td>6.278200</td>\n",
       "      <td>2.308477e+09</td>\n",
       "      <td>9.819426e+09</td>\n",
       "      <td>20406.164286</td>\n",
       "      <td>25.732857</td>\n",
       "      <td>5.872429e+08</td>\n",
       "      <td>12.688985</td>\n",
       "      <td>49.450038</td>\n",
       "      <td>94.383105</td>\n",
       "      <td>136668.255282</td>\n",
       "      <td>1.168677e+06</td>\n",
       "      <td>598699.366239</td>\n",
       "      <td>13037.932971</td>\n",
       "      <td>386.284091</td>\n",
       "      <td>359631.139028</td>\n",
       "      <td>847039.296093</td>\n",
       "      <td>85250.626125</td>\n",
       "    </tr>\n",
       "  </tbody>\n",
       "</table>\n",
       "</div>"
      ],
      "text/plain": [
       "               Year   Deaths %  CO2 Emissions  CO2 Emissions Per Cap  \\\n",
       "labels                                                                 \n",
       "0       1999.604651  11.604666   4.761715e+09              13.070816   \n",
       "1       2001.956288  10.923117   1.082585e+08               5.161772   \n",
       "2       2010.000000  19.517517   8.605079e+09               6.278200   \n",
       "\n",
       "        Food Emissions     Total GHG  Consumption of Ozone  \\\n",
       "labels                                                       \n",
       "0         1.526904e+09  5.358882e+09          62073.359535   \n",
       "1         1.073901e+08  2.020842e+08           1247.445004   \n",
       "2         2.308477e+09  9.819426e+09          20406.164286   \n",
       "\n",
       "        Shared CO2 Emissions     Transport  Death_rate_ambient_ozone_pol  \\\n",
       "labels                                                                     \n",
       "0                  18.011395  1.011267e+09                      8.867990   \n",
       "1                   0.391461  2.035230e+07                      2.479965   \n",
       "2                  25.732857  5.872429e+08                     12.688985   \n",
       "\n",
       "        Death_rate_household_air_pol  Death_rate_all_causes  \\\n",
       "labels                                                        \n",
       "0                          52.160467              49.702915   \n",
       "1                          64.976973              55.975959   \n",
       "2                          49.450038              94.383105   \n",
       "\n",
       "        Death_actual_ozone  Death_actual_particulate  Death_actual_household  \\\n",
       "labels                                                                         \n",
       "0             58747.355817              3.463433e+05           417615.160839   \n",
       "1              1101.430907              1.412719e+04            21768.425304   \n",
       "2            136668.255282              1.168677e+06           598699.366239   \n",
       "\n",
       "        Death_under5  Death_5-14    Death_50-69      Death_70+   Death_15-49  \n",
       "labels                                                                        \n",
       "0       14800.263869  432.668022  116470.724693  246936.125446  26450.876765  \n",
       "1        2103.527615   56.748919    5048.160559    6576.967381   1443.212759  \n",
       "2       13037.932971  386.284091  359631.139028  847039.296093  85250.626125  "
      ]
     },
     "execution_count": 34,
     "metadata": {},
     "output_type": "execute_result"
    }
   ],
   "source": [
    "df_clust.mean()"
   ]
  },
  {
   "cell_type": "code",
   "execution_count": 49,
   "id": "8bdad3a5-60c0-4302-b0ea-403ace1de20e",
   "metadata": {},
   "outputs": [],
   "source": [
    "from scipy.cluster.hierarchy import cophenet, dendrogram, linkage\n",
    "\n",
    "from scipy.spatial.distance import pdist"
   ]
  },
  {
   "cell_type": "code",
   "execution_count": 50,
   "id": "1a24db1b-0602-4d1a-a30d-6c063594f98d",
   "metadata": {},
   "outputs": [
    {
     "data": {
      "text/plain": [
       "0.9583233157758574"
      ]
     },
     "execution_count": 50,
     "metadata": {},
     "output_type": "execute_result"
    }
   ],
   "source": [
    "Z = linkage(df_sc, metric='euclidean', method='average')\n",
    "c, coph_dists = cophenet(Z , pdist(df_sc))\n",
    "\n",
    "c"
   ]
  },
  {
   "cell_type": "code",
   "execution_count": 70,
   "id": "e0107cbc-88fd-4a03-81c1-06ca92501ebc",
   "metadata": {},
   "outputs": [
    {
     "name": "stdout",
     "output_type": "stream",
     "text": [
      "Wall time: 19.1 s\n"
     ]
    },
    {
     "data": {
      "image/png": "[encoded data removed]",
      "text/plain": [
       "<Figure size 1800x360 with 1 Axes>"
      ]
     },
     "metadata": {
      "needs_background": "light"
     },
     "output_type": "display_data"
    }
   ],
   "source": [
    "%%time\n",
    "plt.figure(figsize=(25, 5))\n",
    "plt.title('Agglomerative Hierarchical Clustering Dendogram')\n",
    "plt.xlabel('sample index')\n",
    "plt.ylabel('Distance')\n",
    "dendrogram(Z, leaf_rotation=90.,color_threshold = 40, truncate_mode ='level' ,leaf_font_size=8. )\n",
    "plt.tight_layout()"
   ]
  },
  {
   "cell_type": "code",
   "execution_count": 40,
   "id": "7e4cc7a3-840d-4b20-b21f-39abc5591228",
   "metadata": {},
   "outputs": [
    {
     "data": {
      "text/plain": [
       "0.9259660866546814"
      ]
     },
     "execution_count": 40,
     "metadata": {},
     "output_type": "execute_result"
    }
   ],
   "source": [
    "Z = linkage(df_sc, metric='euclidean', method='complete')\n",
    "c, coph_dists = cophenet(Z , pdist(df_sc))\n",
    "\n",
    "c"
   ]
  },
  {
   "cell_type": "code",
   "execution_count": 41,
   "id": "376d6597-e193-4aab-a091-5cc4564307a6",
   "metadata": {},
   "outputs": [
    {
     "name": "stdout",
     "output_type": "stream",
     "text": [
      "Wall time: 18.3 s\n"
     ]
    },
    {
     "data": {
      "image/png": "[encoded data removed]",
      "text/plain": [
       "<Figure size 720x360 with 1 Axes>"
      ]
     },
     "metadata": {
      "needs_background": "light"
     },
     "output_type": "display_data"
    }
   ],
   "source": [
    "%%time\n",
    "plt.figure(figsize=(10, 5))\n",
    "plt.title('Agglomerative Hierarchical Clustering Dendogram')\n",
    "plt.xlabel('sample index')\n",
    "plt.ylabel('Distance')\n",
    "dendrogram(Z, leaf_rotation=90.,color_threshold = 40, leaf_font_size=8. )\n",
    "plt.tight_layout()"
   ]
  },
  {
   "cell_type": "code",
   "execution_count": 42,
   "id": "783fa7e6-41d0-4a63-b933-92ecae703064",
   "metadata": {},
   "outputs": [
    {
     "data": {
      "text/plain": [
       "0.7465843884146193"
      ]
     },
     "execution_count": 42,
     "metadata": {},
     "output_type": "execute_result"
    }
   ],
   "source": [
    "Z = linkage(df_sc, metric='euclidean', method='ward')\n",
    "c, coph_dists = cophenet(Z , pdist(df_sc))\n",
    "\n",
    "c"
   ]
  },
  {
   "cell_type": "code",
   "execution_count": 43,
   "id": "7d642b28-2c64-43e3-a1f9-c5190bf7d4e3",
   "metadata": {},
   "outputs": [
    {
     "data": {
      "image/png": "[encoded data removed]",
      "text/plain": [
       "<Figure size 720x360 with 1 Axes>"
      ]
     },
     "metadata": {
      "needs_background": "light"
     },
     "output_type": "display_data"
    }
   ],
   "source": [
    "plt.figure(figsize=(10, 5))\n",
    "plt.title('Agglomerative Hierarchical Clustering Dendogram')\n",
    "plt.xlabel('sample index')\n",
    "plt.ylabel('Distance')\n",
    "dendrogram(Z, leaf_rotation=90.,color_threshold=600,  leaf_font_size=10. )\n",
    "plt.tight_layout()"
   ]
  },
  {
   "cell_type": "code",
   "execution_count": 44,
   "id": "48451c29-4af0-4c87-8bb0-d90d9381c3d2",
   "metadata": {},
   "outputs": [
    {
     "ename": "ValueError",
     "evalue": "Unknown Distance Metric: manhattan",
     "output_type": "error",
     "traceback": [
      "\u001b[1;31m---------------------------------------------------------------------------\u001b[0m",
      "\u001b[1;31mValueError\u001b[0m                                Traceback (most recent call last)",
      "\u001b[1;32m~\\AppData\\Local\\Temp/ipykernel_16484/342673730.py\u001b[0m in \u001b[0;36m<module>\u001b[1;34m\u001b[0m\n\u001b[1;32m----> 1\u001b[1;33m \u001b[0mZ\u001b[0m \u001b[1;33m=\u001b[0m \u001b[0mlinkage\u001b[0m\u001b[1;33m(\u001b[0m\u001b[0mdf_sc\u001b[0m\u001b[1;33m,\u001b[0m \u001b[0mmetric\u001b[0m\u001b[1;33m=\u001b[0m\u001b[1;34m'manhattan'\u001b[0m\u001b[1;33m,\u001b[0m \u001b[0mmethod\u001b[0m\u001b[1;33m=\u001b[0m\u001b[1;34m'average'\u001b[0m\u001b[1;33m)\u001b[0m\u001b[1;33m\u001b[0m\u001b[1;33m\u001b[0m\u001b[0m\n\u001b[0m\u001b[0;32m      2\u001b[0m \u001b[0mc\u001b[0m\u001b[1;33m,\u001b[0m \u001b[0mcoph_dists\u001b[0m \u001b[1;33m=\u001b[0m \u001b[0mcophenet\u001b[0m\u001b[1;33m(\u001b[0m\u001b[0mZ\u001b[0m \u001b[1;33m,\u001b[0m \u001b[0mpdist\u001b[0m\u001b[1;33m(\u001b[0m\u001b[0mdf_sc\u001b[0m\u001b[1;33m)\u001b[0m\u001b[1;33m)\u001b[0m\u001b[1;33m\u001b[0m\u001b[1;33m\u001b[0m\u001b[0m\n\u001b[0;32m      3\u001b[0m \u001b[1;33m\u001b[0m\u001b[0m\n\u001b[0;32m      4\u001b[0m \u001b[0mc\u001b[0m\u001b[1;33m\u001b[0m\u001b[1;33m\u001b[0m\u001b[0m\n",
      "\u001b[1;32m~\\anaconda3\\lib\\site-packages\\scipy\\cluster\\hierarchy.py\u001b[0m in \u001b[0;36mlinkage\u001b[1;34m(y, method, metric, optimal_ordering)\u001b[0m\n\u001b[0;32m   1058\u001b[0m                          \u001b[1;34m'matrix looks suspiciously like an uncondensed '\u001b[0m\u001b[1;33m\u001b[0m\u001b[1;33m\u001b[0m\u001b[0m\n\u001b[0;32m   1059\u001b[0m                          'distance matrix')\n\u001b[1;32m-> 1060\u001b[1;33m         \u001b[0my\u001b[0m \u001b[1;33m=\u001b[0m \u001b[0mdistance\u001b[0m\u001b[1;33m.\u001b[0m\u001b[0mpdist\u001b[0m\u001b[1;33m(\u001b[0m\u001b[0my\u001b[0m\u001b[1;33m,\u001b[0m \u001b[0mmetric\u001b[0m\u001b[1;33m)\u001b[0m\u001b[1;33m\u001b[0m\u001b[1;33m\u001b[0m\u001b[0m\n\u001b[0m\u001b[0;32m   1061\u001b[0m     \u001b[1;32melse\u001b[0m\u001b[1;33m:\u001b[0m\u001b[1;33m\u001b[0m\u001b[1;33m\u001b[0m\u001b[0m\n\u001b[0;32m   1062\u001b[0m         \u001b[1;32mraise\u001b[0m \u001b[0mValueError\u001b[0m\u001b[1;33m(\u001b[0m\u001b[1;34m\"`y` must be 1 or 2 dimensional.\"\u001b[0m\u001b[1;33m)\u001b[0m\u001b[1;33m\u001b[0m\u001b[1;33m\u001b[0m\u001b[0m\n",
      "\u001b[1;32m~\\anaconda3\\lib\\site-packages\\scipy\\spatial\\distance.py\u001b[0m in \u001b[0;36mpdist\u001b[1;34m(X, metric, out, **kwargs)\u001b[0m\n\u001b[0;32m   2258\u001b[0m                 X, metric=metric_info.dist_func, out=out, **kwargs)\n\u001b[0;32m   2259\u001b[0m         \u001b[1;32melse\u001b[0m\u001b[1;33m:\u001b[0m\u001b[1;33m\u001b[0m\u001b[1;33m\u001b[0m\u001b[0m\n\u001b[1;32m-> 2260\u001b[1;33m             \u001b[1;32mraise\u001b[0m \u001b[0mValueError\u001b[0m\u001b[1;33m(\u001b[0m\u001b[1;34m'Unknown Distance Metric: %s'\u001b[0m \u001b[1;33m%\u001b[0m \u001b[0mmstr\u001b[0m\u001b[1;33m)\u001b[0m\u001b[1;33m\u001b[0m\u001b[1;33m\u001b[0m\u001b[0m\n\u001b[0m\u001b[0;32m   2261\u001b[0m     \u001b[1;32melse\u001b[0m\u001b[1;33m:\u001b[0m\u001b[1;33m\u001b[0m\u001b[1;33m\u001b[0m\u001b[0m\n\u001b[0;32m   2262\u001b[0m         raise TypeError('2nd argument metric must be a string identifier '\n",
      "\u001b[1;31mValueError\u001b[0m: Unknown Distance Metric: manhattan"
     ]
    }
   ],
   "source": [
    "Z = linkage(df_sc, metric='', method='average')\n",
    "c, coph_dists = cophenet(Z , pdist(df_sc))\n",
    "\n",
    "c"
   ]
  },
  {
   "cell_type": "code",
   "execution_count": null,
   "id": "4ac6c7c8-aaef-44e1-a9e3-14185595d673",
   "metadata": {},
   "outputs": [],
   "source": [
    "plt.figure(figsize=(10, 5))\n",
    "plt.title('Agglomerative Hierarchical Clustering Dendogram')\n",
    "plt.xlabel('sample index')\n",
    "plt.ylabel('Distance')\n",
    "dendrogram(Z, leaf_rotation=90.,color_threshold=600,  leaf_font_size=10. )\n",
    "plt.tight_layout()"
   ]
  },
  {
   "cell_type": "code",
   "execution_count": null,
   "id": "0d597a1a-fa2c-4def-9a72-2ff88d4f0653",
   "metadata": {},
   "outputs": [],
   "source": []
  }
 ],
 "metadata": {
  "kernelspec": {
   "display_name": "Python 3 (ipykernel)",
   "language": "python",
   "name": "python3"
  },
  "language_info": {
   "codemirror_mode": {
    "name": "ipython",
    "version": 3
   },
   "file_extension": ".py",
   "mimetype": "text/x-python",
   "name": "python",
   "nbconvert_exporter": "python",
   "pygments_lexer": "ipython3",
   "version": "3.9.7"
  }
 },
 "nbformat": 4,
 "nbformat_minor": 5
}
