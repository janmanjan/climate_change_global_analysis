{
 "cells": [
  {
   "cell_type": "markdown",
   "id": "c3c4c41e-ad4a-409b-9cd7-572da334b8a5",
   "metadata": {},
   "source": [
    "### New Features"
   ]
  },
  {
   "cell_type": "markdown",
   "id": "208cd97d-db45-4b10-8c61-bda99a80ebf7",
   "metadata": {},
   "source": [
    "After compiling and cleaning our environmental data, we want to identify and inlcude additional features for focus in EDA after cluster modeling."
   ]
  },
  {
   "cell_type": "code",
   "execution_count": 2,
   "id": "54263761-835a-4a81-856c-82ed3719c021",
   "metadata": {},
   "outputs": [],
   "source": [
    "import pandas as pd"
   ]
  },
  {
   "cell_type": "code",
   "execution_count": null,
   "id": "2cbf55ef-d76f-46d3-88cd-7b0c0a3c7c6a",
   "metadata": {},
   "outputs": [],
   "source": []
  }
 ],
 "metadata": {
  "kernelspec": {
   "display_name": "Python 3 (ipykernel)",
   "language": "python",
   "name": "python3"
  },
  "language_info": {
   "codemirror_mode": {
    "name": "ipython",
    "version": 3
   },
   "file_extension": ".py",
   "mimetype": "text/x-python",
   "name": "python",
   "nbconvert_exporter": "python",
   "pygments_lexer": "ipython3",
   "version": "3.9.7"
  }
 },
 "nbformat": 4,
 "nbformat_minor": 5
}
