{
 "cells": [
  {
   "cell_type": "code",
   "execution_count": 257,
   "id": "a9888e37-0371-49cd-8c45-f53555b97d59",
   "metadata": {},
   "outputs": [],
   "source": [
    "# Imports\n",
    "import pandas as pd\n",
    "import numpy as np\n",
    "\n",
    "import seaborn as sns\n",
    "import matplotlib.pyplot as plt\n",
    "import matplotlib\n",
    "\n",
    "from sklearn.cluster import KMeans\n",
    "from sklearn.metrics import silhouette_score\n",
    "from sklearn.preprocessing import StandardScaler, LabelEncoder\n",
    "from sklearn.linear_model import LinearRegression, LogisticRegression\n",
    "from sklearn.model_selection import train_test_split\n",
    "from sklearn.ensemble import RandomForestClassifier"
   ]
  },
  {
   "cell_type": "code",
   "execution_count": 258,
   "id": "70d8919b-e637-43d1-8661-464a0e913456",
   "metadata": {},
   "outputs": [],
   "source": [
    "# reading in final dataframe\n",
    "df = pd.read_csv('../data/cleaned_data/kahuna.csv')"
   ]
  },
  {
   "cell_type": "markdown",
   "id": "dc7d2992-da0a-4826-adb7-5f8caa91b75c",
   "metadata": {},
   "source": [
    "-------------------------"
   ]
  },
  {
   "cell_type": "markdown",
   "id": "f5095e77-2352-4218-9c66-5a16abb80332",
   "metadata": {},
   "source": [
    "## KMeans Clustering Preprocessing"
   ]
  },
  {
   "cell_type": "code",
   "execution_count": 3,
   "id": "51445b12-209d-4380-aee4-a1953a3c5462",
   "metadata": {},
   "outputs": [],
   "source": [
    "X = df.drop(columns=['Entity', 'Year'])\n",
    "sc = StandardScaler()\n",
    "X_sc = sc.fit_transform(X)"
   ]
  },
  {
   "cell_type": "code",
   "execution_count": 4,
   "id": "28f65315-61d8-4d29-8b00-aa0f6880e64f",
   "metadata": {},
   "outputs": [
    {
     "data": {
      "text/plain": [
       "KMeans(n_clusters=2, random_state=42)"
      ]
     },
     "execution_count": 4,
     "metadata": {},
     "output_type": "execute_result"
    }
   ],
   "source": [
    "km_2 = KMeans(n_clusters=2, random_state=42)\n",
    "km_2.fit(X_sc)"
   ]
  },
  {
   "cell_type": "code",
   "execution_count": 5,
   "id": "b949339a-343c-4f79-b40a-29241da3174d",
   "metadata": {},
   "outputs": [],
   "source": [
    "df['clusterx2'] = km_2.labels_"
   ]
  },
  {
   "cell_type": "code",
   "execution_count": 6,
   "id": "68a71a6b-5578-4a53-9f32-66f770b4cae2",
   "metadata": {},
   "outputs": [
    {
     "data": {
      "text/plain": [
       "KMeans(n_clusters=4, random_state=42)"
      ]
     },
     "execution_count": 6,
     "metadata": {},
     "output_type": "execute_result"
    }
   ],
   "source": [
    "km_4 = KMeans(n_clusters=4, random_state=42)\n",
    "km_4.fit(X_sc)"
   ]
  },
  {
   "cell_type": "code",
   "execution_count": 7,
   "id": "d87ab688-d5cb-4a64-b24d-8d97ec72dbff",
   "metadata": {},
   "outputs": [],
   "source": [
    "df['clusterx4'] = km_4.labels_"
   ]
  },
  {
   "cell_type": "code",
   "execution_count": 8,
   "id": "66d63a7c-f335-43ee-9849-e7a41bff12f5",
   "metadata": {},
   "outputs": [],
   "source": [
    "df.to_csv('../data/cleaned_data/kahuna_clusters.csv')"
   ]
  },
  {
   "cell_type": "markdown",
   "id": "dffed050-500e-4724-b57f-c95f2a01464b",
   "metadata": {},
   "source": [
    "-------------------------"
   ]
  },
  {
   "cell_type": "markdown",
   "id": "dd41de7b-d660-4fa1-b2ca-b51f6ea84202",
   "metadata": {},
   "source": [
    "### Modeling Classification (Entity, Year)"
   ]
  },
  {
   "cell_type": "code",
   "execution_count": 9,
   "id": "7e388a83-7e07-4ae1-8c33-ff736705c7e9",
   "metadata": {},
   "outputs": [],
   "source": [
    "# drop Entity and Year column\n",
    "X = df.drop(columns=['Entity', 'Year'])\n",
    "\n",
    "# set y = entity and label encode\n",
    "y = df['Entity']\n",
    "le = LabelEncoder()\n",
    "y = le.fit_transform(y)\n",
    "\n",
    "# train-test-split\n",
    "X_train, X_test, y_train, y_test = train_test_split(X, y, stratify=y, random_state=24)"
   ]
  },
  {
   "cell_type": "code",
   "execution_count": 10,
   "id": "b216a290-5bbe-4498-a6d8-49d0889e9649",
   "metadata": {},
   "outputs": [],
   "source": [
    "# scale data\n",
    "ss = StandardScaler()\n",
    "\n",
    "X_train_sc = ss.fit_transform(X_train)\n",
    "X_test_sc = ss.transform(X_test)"
   ]
  },
  {
   "cell_type": "markdown",
   "id": "27ac954e-d9bc-4b81-99bf-ed55a8efe1a0",
   "metadata": {},
   "source": [
    "#### Logistic Regression"
   ]
  },
  {
   "cell_type": "code",
   "execution_count": 11,
   "id": "509616c1-7406-43e8-aa98-91283c821192",
   "metadata": {},
   "outputs": [
    {
     "data": {
      "text/plain": [
       "(0.969545957918051, 0.9601990049751243)"
      ]
     },
     "execution_count": 11,
     "metadata": {},
     "output_type": "execute_result"
    }
   ],
   "source": [
    "# model for entity\n",
    "logreg = LogisticRegression(random_state=42, max_iter=500)\n",
    "\n",
    "logreg.fit(X_train_sc, y_train)\n",
    "logiregr = ['logreg', logreg.score(X_train_sc, y_train), logreg.score(X_test_sc, y_test)]\n",
    "class_list.append(logiregr)\n",
    "logreg.score(X_train_sc, y_train), logreg.score(X_test_sc, y_test)"
   ]
  },
  {
   "cell_type": "code",
   "execution_count": 12,
   "id": "f3009955-37aa-4e6b-bad5-41925ac1204d",
   "metadata": {},
   "outputs": [
    {
     "data": {
      "text/plain": [
       "(0.09191583610188261, 0.05638474295190713)"
      ]
     },
     "execution_count": 12,
     "metadata": {},
     "output_type": "execute_result"
    }
   ],
   "source": [
    "# model for year\n",
    "X = df.drop(columns=['Entity', 'Year'])\n",
    "y = df['Year']\n",
    "le = LabelEncoder()\n",
    "y = le.fit_transform(y)\n",
    "\n",
    "X_train, X_test, y_train, y_test = train_test_split(X, y, stratify=y, random_state=42)\n",
    "\n",
    "logreg = LogisticRegression(random_state=42, max_iter=500)\n",
    "\n",
    "logreg.fit(X_train_sc, y_train)\n",
    "logreg.score(X_train_sc, y_train), logreg.score(X_test_sc, y_test)"
   ]
  },
  {
   "cell_type": "markdown",
   "id": "f8baa546-06f6-4dda-a9d5-59c121e98835",
   "metadata": {},
   "source": [
    "### RFC"
   ]
  },
  {
   "cell_type": "code",
   "execution_count": 13,
   "id": "1dfca53f-4b9c-43a3-83d5-585dfcf07662",
   "metadata": {},
   "outputs": [
    {
     "data": {
      "text/plain": [
       "(1.0, 0.001658374792703151)"
      ]
     },
     "execution_count": 13,
     "metadata": {},
     "output_type": "execute_result"
    }
   ],
   "source": [
    "# model for entity \n",
    "rfc = RandomForestClassifier(random_state=42)\n",
    "\n",
    "rfc.fit(X_train, y_train)\n",
    "ranfor = ['rfc', rfc.score(X_train, y_train), rfc.score(X_test, y_test)]\n",
    "class_list.append(ranfor)\n",
    "rfc.score(X_train, y_train), rfc.score(X_test, y_test)"
   ]
  },
  {
   "cell_type": "code",
   "execution_count": 14,
   "id": "93a1a051-8188-4b1b-8c07-66aa3c350000",
   "metadata": {},
   "outputs": [
    {
     "data": {
      "text/plain": [
       "(1.0, 0.001658374792703151)"
      ]
     },
     "execution_count": 14,
     "metadata": {},
     "output_type": "execute_result"
    }
   ],
   "source": [
    "# model for year\n",
    "y = df['Year']\n",
    "le = LabelEncoder()\n",
    "y = le.fit_transform(y)\n",
    "\n",
    "rfc = RandomForestClassifier(random_state=42)\n",
    "\n",
    "rfc.fit(X_train, y_train)\n",
    "rfc.score(X_train, y_train), rfc.score(X_test, y_test)"
   ]
  },
  {
   "cell_type": "code",
   "execution_count": 251,
   "id": "b6d5e520-c508-4542-a1fa-b401d87f95a3",
   "metadata": {},
   "outputs": [],
   "source": [
    "class_table = pd.DataFrame(class_list, columns=['Model', 'Train', 'Test'])"
   ]
  },
  {
   "cell_type": "code",
   "execution_count": 254,
   "id": "bed94c24-c67b-40dd-ae10-2b60641a64ca",
   "metadata": {},
   "outputs": [
    {
     "data": {
      "text/html": [
       "<div>\n",
       "<style scoped>\n",
       "    .dataframe tbody tr th:only-of-type {\n",
       "        vertical-align: middle;\n",
       "    }\n",
       "\n",
       "    .dataframe tbody tr th {\n",
       "        vertical-align: top;\n",
       "    }\n",
       "\n",
       "    .dataframe thead th {\n",
       "        text-align: right;\n",
       "    }\n",
       "</style>\n",
       "<table border=\"1\" class=\"dataframe\">\n",
       "  <thead>\n",
       "    <tr style=\"text-align: right;\">\n",
       "      <th></th>\n",
       "      <th>Model</th>\n",
       "      <th>Train</th>\n",
       "      <th>Test</th>\n",
       "    </tr>\n",
       "  </thead>\n",
       "  <tbody>\n",
       "    <tr>\n",
       "      <th>0</th>\n",
       "      <td>logreg</td>\n",
       "      <td>0.976744</td>\n",
       "      <td>0.970149</td>\n",
       "    </tr>\n",
       "    <tr>\n",
       "      <th>1</th>\n",
       "      <td>rfc</td>\n",
       "      <td>1.000000</td>\n",
       "      <td>0.998342</td>\n",
       "    </tr>\n",
       "  </tbody>\n",
       "</table>\n",
       "</div>"
      ],
      "text/plain": [
       "    Model     Train      Test\n",
       "0  logreg  0.976744  0.970149\n",
       "1     rfc  1.000000  0.998342"
      ]
     },
     "execution_count": 254,
     "metadata": {},
     "output_type": "execute_result"
    }
   ],
   "source": [
    "class_table"
   ]
  },
  {
   "cell_type": "markdown",
   "id": "04c351b3-4484-463a-8c68-1714d8ce751b",
   "metadata": {},
   "source": [
    "### Linear Regression for all features"
   ]
  },
  {
   "cell_type": "code",
   "execution_count": 15,
   "id": "d5bd6173-98c5-44e7-8c0d-027ae7ac3590",
   "metadata": {},
   "outputs": [
    {
     "data": {
      "text/plain": [
       "(0.15427894203502657, 0.16626836037207637)"
      ]
     },
     "execution_count": 15,
     "metadata": {},
     "output_type": "execute_result"
    }
   ],
   "source": [
    "# linear model for year\n",
    "X = df.drop(columns=['Entity', 'Year'])\n",
    "y = df['Year']\n",
    "\n",
    "X_train, X_test, y_train, y_test = train_test_split(X, y, random_state=42)\n",
    "\n",
    "ss = StandardScaler()\n",
    "\n",
    "X_train_sc = ss.fit_transform(X_train)\n",
    "X_test_sc = ss.transform(X_test)\n",
    "\n",
    "lr = LinearRegression()\n",
    "\n",
    "lr.fit(X_train_sc, y_train)\n",
    "lr.score(X_train_sc, y_train), lr.score(X_test_sc, y_test)"
   ]
  },
  {
   "cell_type": "code",
   "execution_count": 16,
   "id": "ca14422b-b922-4051-97e1-07f8316b388f",
   "metadata": {},
   "outputs": [
    {
     "name": "stdout",
     "output_type": "stream",
     "text": [
      "lr of Deaths % = 0.8478493248767202, 0.8438292736590294\n",
      "lr of CO2 Emissions = 0.9968284002763721, 0.9942443862826758\n",
      "lr of CO2 Emissions Per Cap = 0.7523298444827954, 0.7455938765298069\n",
      "lr of Food Emissions = 0.9399067613574666, 0.9326619048382266\n",
      "lr of Total GHG = 0.9941656129588595, 0.9954734013354128\n",
      "lr of Consumption of Ozone = 0.6037682556220387, 0.5774918543609984\n",
      "lr of Shared CO2 Emissions = 0.9893337023827512, 0.9908065181656995\n",
      "lr of Transport = 0.9860563651112924, 0.9665303986983664\n",
      "lr of Death_rate_ambient_ozone_pol = 0.5772885812808108, 0.6055922170966381\n",
      "lr of Death_rate_household_air_pol = 0.9233304643692063, 0.930303557511951\n",
      "lr of Death_rate_all_causes = 0.7369886517958553, 0.7121029496611306\n",
      "lr of Death_actual_ozone = 1.0, 1.0\n",
      "lr of Death_actual_particulate = 1.0, 1.0\n",
      "lr of Death_actual_household = 0.9715809090521157, 0.9780723294744573\n",
      "lr of Death_under5 = 1.0, 1.0\n",
      "lr of Death_5-14 = 1.0, 1.0\n",
      "lr of Death_50-69 = 1.0, 1.0\n",
      "lr of Death_70+ = 1.0, 1.0\n",
      "lr of Death_15-49 = 1.0, 1.0\n",
      "lr of Urban% = 0.7407174691201193, 0.7316277063944963\n",
      "lr of Child Mortality = 0.8297158935694213, 0.8348502535260605\n",
      "lr of Population = 0.14815223945641398, 0.16207030430835856\n",
      "lr of GDP = 0.7779566480050752, 0.7842496550563197\n",
      "lr of Forest area = 0.6356216431758828, 0.579917828565776\n",
      "lr of clusterx2 = 0.9798832743010636, 0.9818011196841807\n",
      "lr of clusterx4 = 0.7981757473082596, 0.7877127832620758\n"
     ]
    }
   ],
   "source": [
    "lr_list = []\n",
    "for each in df.drop(columns=['Entity', 'Year']).columns:\n",
    "    X = df.drop(columns=['Entity', 'Year', each])\n",
    "    y = df[each]\n",
    "    \n",
    "    X_train, X_test, y_train, y_test = train_test_split(X, y, random_state=42)\n",
    "    \n",
    "    # scale data\n",
    "    ss = StandardScaler()\n",
    "\n",
    "    X_train_sc = ss.fit_transform(X_train)\n",
    "    X_test_sc = ss.transform(X_test)\n",
    "    \n",
    "    lr = LinearRegression()\n",
    "    \n",
    "    lr.fit(X_train_sc, y_train)\n",
    "    n = [each, lr.score(X_train_sc, y_train), lr.score(X_test_sc, y_test)]\n",
    "    lr_list.append(n)\n",
    "    print(f'lr of {each} = {lr.score(X_train_sc, y_train)}, {lr.score(X_test_sc, y_test)}')"
   ]
  },
  {
   "cell_type": "code",
   "execution_count": 17,
   "id": "ff44bdc8-9047-46d0-86b3-9beef0763e1b",
   "metadata": {},
   "outputs": [],
   "source": [
    "lr_table = pd.DataFrame(lr_list, columns=['Predictor', 'Train', 'Test'])"
   ]
  },
  {
   "cell_type": "code",
   "execution_count": 18,
   "id": "2b735614-bff2-4da2-88f6-74b70e099f95",
   "metadata": {},
   "outputs": [
    {
     "data": {
      "text/html": [
       "<div>\n",
       "<style scoped>\n",
       "    .dataframe tbody tr th:only-of-type {\n",
       "        vertical-align: middle;\n",
       "    }\n",
       "\n",
       "    .dataframe tbody tr th {\n",
       "        vertical-align: top;\n",
       "    }\n",
       "\n",
       "    .dataframe thead th {\n",
       "        text-align: right;\n",
       "    }\n",
       "</style>\n",
       "<table border=\"1\" class=\"dataframe\">\n",
       "  <thead>\n",
       "    <tr style=\"text-align: right;\">\n",
       "      <th></th>\n",
       "      <th>Predictor</th>\n",
       "      <th>Train</th>\n",
       "      <th>Test</th>\n",
       "    </tr>\n",
       "  </thead>\n",
       "  <tbody>\n",
       "    <tr>\n",
       "      <th>4</th>\n",
       "      <td>Total GHG</td>\n",
       "      <td>0.994166</td>\n",
       "      <td>0.995473</td>\n",
       "    </tr>\n",
       "    <tr>\n",
       "      <th>1</th>\n",
       "      <td>CO2 Emissions</td>\n",
       "      <td>0.996828</td>\n",
       "      <td>0.994244</td>\n",
       "    </tr>\n",
       "    <tr>\n",
       "      <th>6</th>\n",
       "      <td>Shared CO2 Emissions</td>\n",
       "      <td>0.989334</td>\n",
       "      <td>0.990807</td>\n",
       "    </tr>\n",
       "    <tr>\n",
       "      <th>24</th>\n",
       "      <td>clusterx2</td>\n",
       "      <td>0.979883</td>\n",
       "      <td>0.981801</td>\n",
       "    </tr>\n",
       "    <tr>\n",
       "      <th>13</th>\n",
       "      <td>Death_actual_household</td>\n",
       "      <td>0.971581</td>\n",
       "      <td>0.978072</td>\n",
       "    </tr>\n",
       "    <tr>\n",
       "      <th>7</th>\n",
       "      <td>Transport</td>\n",
       "      <td>0.986056</td>\n",
       "      <td>0.96653</td>\n",
       "    </tr>\n",
       "    <tr>\n",
       "      <th>3</th>\n",
       "      <td>Food Emissions</td>\n",
       "      <td>0.939907</td>\n",
       "      <td>0.932662</td>\n",
       "    </tr>\n",
       "    <tr>\n",
       "      <th>9</th>\n",
       "      <td>Death_rate_household_air_pol</td>\n",
       "      <td>0.92333</td>\n",
       "      <td>0.930304</td>\n",
       "    </tr>\n",
       "    <tr>\n",
       "      <th>0</th>\n",
       "      <td>Deaths %</td>\n",
       "      <td>0.847849</td>\n",
       "      <td>0.843829</td>\n",
       "    </tr>\n",
       "    <tr>\n",
       "      <th>20</th>\n",
       "      <td>Child Mortality</td>\n",
       "      <td>0.829716</td>\n",
       "      <td>0.83485</td>\n",
       "    </tr>\n",
       "    <tr>\n",
       "      <th>25</th>\n",
       "      <td>clusterx4</td>\n",
       "      <td>0.798176</td>\n",
       "      <td>0.787713</td>\n",
       "    </tr>\n",
       "    <tr>\n",
       "      <th>22</th>\n",
       "      <td>GDP</td>\n",
       "      <td>0.777957</td>\n",
       "      <td>0.78425</td>\n",
       "    </tr>\n",
       "    <tr>\n",
       "      <th>2</th>\n",
       "      <td>CO2 Emissions Per Cap</td>\n",
       "      <td>0.75233</td>\n",
       "      <td>0.745594</td>\n",
       "    </tr>\n",
       "    <tr>\n",
       "      <th>19</th>\n",
       "      <td>Urban%</td>\n",
       "      <td>0.740717</td>\n",
       "      <td>0.731628</td>\n",
       "    </tr>\n",
       "    <tr>\n",
       "      <th>10</th>\n",
       "      <td>Death_rate_all_causes</td>\n",
       "      <td>0.736989</td>\n",
       "      <td>0.712103</td>\n",
       "    </tr>\n",
       "    <tr>\n",
       "      <th>8</th>\n",
       "      <td>Death_rate_ambient_ozone_pol</td>\n",
       "      <td>0.577289</td>\n",
       "      <td>0.605592</td>\n",
       "    </tr>\n",
       "    <tr>\n",
       "      <th>23</th>\n",
       "      <td>Forest area</td>\n",
       "      <td>0.635622</td>\n",
       "      <td>0.579918</td>\n",
       "    </tr>\n",
       "    <tr>\n",
       "      <th>5</th>\n",
       "      <td>Consumption of Ozone</td>\n",
       "      <td>0.603768</td>\n",
       "      <td>0.577492</td>\n",
       "    </tr>\n",
       "    <tr>\n",
       "      <th>21</th>\n",
       "      <td>Population</td>\n",
       "      <td>0.148152</td>\n",
       "      <td>0.16207</td>\n",
       "    </tr>\n",
       "  </tbody>\n",
       "</table>\n",
       "</div>"
      ],
      "text/plain": [
       "                       Predictor     Train      Test\n",
       "4                      Total GHG  0.994166  0.995473\n",
       "1                  CO2 Emissions  0.996828  0.994244\n",
       "6           Shared CO2 Emissions  0.989334  0.990807\n",
       "24                     clusterx2  0.979883  0.981801\n",
       "13        Death_actual_household  0.971581  0.978072\n",
       "7                      Transport  0.986056   0.96653\n",
       "3                 Food Emissions  0.939907  0.932662\n",
       "9   Death_rate_household_air_pol   0.92333  0.930304\n",
       "0                       Deaths %  0.847849  0.843829\n",
       "20               Child Mortality  0.829716   0.83485\n",
       "25                     clusterx4  0.798176  0.787713\n",
       "22                           GDP  0.777957   0.78425\n",
       "2          CO2 Emissions Per Cap   0.75233  0.745594\n",
       "19                        Urban%  0.740717  0.731628\n",
       "10         Death_rate_all_causes  0.736989  0.712103\n",
       "8   Death_rate_ambient_ozone_pol  0.577289  0.605592\n",
       "23                   Forest area  0.635622  0.579918\n",
       "5           Consumption of Ozone  0.603768  0.577492\n",
       "21                    Population  0.148152   0.16207"
      ]
     },
     "execution_count": 18,
     "metadata": {},
     "output_type": "execute_result"
    }
   ],
   "source": [
    "lr_table.T.drop(columns=[11, 12, 14, 15, 16, 17, 18]).T.sort_values(by='Test', ascending=False)"
   ]
  },
  {
   "cell_type": "code",
   "execution_count": 19,
   "id": "fb422a6a-0243-4ae2-b063-9abaa961cc8d",
   "metadata": {},
   "outputs": [],
   "source": [
    "cancer = pd.read_csv('../data/cleaned_data/cancer-incidence.csv')"
   ]
  },
  {
   "cell_type": "code",
   "execution_count": 20,
   "id": "4bf64ee9-ee52-46e4-bf3b-7a19d1f380c9",
   "metadata": {},
   "outputs": [],
   "source": [
    "cancer.rename(columns={'Incidence - Neoplasms - Sex: Both - Age: Age-standardized (Rate)' : 'Cancer_Incidence'}, inplace=True)"
   ]
  },
  {
   "cell_type": "code",
   "execution_count": 21,
   "id": "d2a7e263-cd04-43fe-be97-e699deda5c64",
   "metadata": {},
   "outputs": [],
   "source": [
    "cancer = cancer.drop(columns='Code')"
   ]
  },
  {
   "cell_type": "code",
   "execution_count": 22,
   "id": "22f15344-a8dc-417a-999f-1e9ecd7d2739",
   "metadata": {},
   "outputs": [],
   "source": [
    "cancer = cancer[cancer['Year']<=2014]"
   ]
  },
  {
   "cell_type": "code",
   "execution_count": 23,
   "id": "4d28fad6-fe80-468d-bc78-82e6aeee754a",
   "metadata": {},
   "outputs": [],
   "source": [
    "df = df.merge(cancer, on=['Entity', 'Year'])"
   ]
  },
  {
   "cell_type": "code",
   "execution_count": 24,
   "id": "98220339-0893-4475-b253-3d1bc8aba8f2",
   "metadata": {},
   "outputs": [],
   "source": [
    "df.to_csv('../data/cleaned_data/kahuna_clusters_cancer')"
   ]
  },
  {
   "cell_type": "code",
   "execution_count": 207,
   "id": "0cb69a29-ca70-44f5-8b9f-0cf7707ef804",
   "metadata": {},
   "outputs": [
    {
     "name": "stdout",
     "output_type": "stream",
     "text": [
      "lr of Deaths % = 0.8716562191520321, 0.8567322448758011\n",
      "lr of CO2 Emissions = 0.9968081264652657, 0.9945468498821548\n",
      "lr of CO2 Emissions Per Cap = 0.754423805500311, 0.7469525334750731\n",
      "lr of Food Emissions = 0.9407673782125073, 0.9316752211978517\n",
      "lr of Total GHG = 0.9942444251942821, 0.9955435649402853\n",
      "lr of Consumption of Ozone = 0.6124460486741606, 0.5395352564406828\n",
      "lr of Shared CO2 Emissions = 0.9891531003527557, 0.9906501377849518\n",
      "lr of Transport = 0.9890096438713155, 0.978879303040661\n",
      "lr of Death_rate_household_air_pol = 0.9291674192039528, 0.9337958437122305\n",
      "lr of Death_rate_all_causes = 0.7377652887033654, 0.709095667782081\n",
      "lr of Death_actual_ozone = 1.0, 1.0\n",
      "lr of Death_actual_particulate = 1.0, 1.0\n",
      "lr of Death_actual_household = 0.969916848966614, 0.9762501015911581\n",
      "lr of Death_under5 = 1.0, 1.0\n",
      "lr of Death_5-14 = 1.0, 1.0\n",
      "lr of Death_50-69 = 1.0, 1.0\n",
      "lr of Death_70+ = 1.0, 1.0\n",
      "lr of Death_15-49 = 1.0, 1.0\n",
      "lr of Urban% = 0.7437850075570294, 0.729705080735542\n",
      "lr of Child Mortality = 0.8387682054552286, 0.8446668807831306\n",
      "lr of Population = 0.15909093500664395, 0.17635094972726695\n",
      "lr of GDP = 0.7784970651782847, 0.7840461357746211\n",
      "lr of Forest area = 0.6695101536732821, 0.6309989861261196\n",
      "lr of Incidence - Neoplasms - Sex: Both - Age: Age-standardized (Rate) = 0.65462309346579, 0.6533669327674252\n",
      "lr of clusterx2 = 0.9745423049411467, 0.9766096077498753\n",
      "lr of clusterx4 = 0.7859484446314225, 0.7645288394084316\n"
     ]
    }
   ],
   "source": [
    "for each in kahuna.drop(columns=['Entity', 'Year', 'clusterx2', 'clusterx4', 'Death_rate_ambient_ozone_pol']).columns:\n",
    "    X = kahuna.drop(columns=['Entity', 'Year', 'clusterx2', 'clusterx4', each])\n",
    "    y = kahuna[each]\n",
    "    \n",
    "    X_train, X_test, y_train, y_test = train_test_split(X, y, random_state=42)\n",
    "    \n",
    "    # scale data\n",
    "    ss = StandardScaler()\n",
    "\n",
    "    X_train_sc = ss.fit_transform(X_train)\n",
    "    X_test_sc = ss.transform(X_test)\n",
    "    \n",
    "    lr = LinearRegression()\n",
    "    \n",
    "    lr_each.fit(X_train_sc, y_train)\n",
    "    print(f'lr of {each} = {lr_each.score(X_train_sc, y_train)}, {lr_each.score(X_test_sc, y_test)}')"
   ]
  },
  {
   "cell_type": "code",
   "execution_count": 255,
   "id": "6bcb2859-4e54-4e45-ad32-d443ecbd16d1",
   "metadata": {},
   "outputs": [
    {
     "data": {
      "text/html": [
       "<div>\n",
       "<style scoped>\n",
       "    .dataframe tbody tr th:only-of-type {\n",
       "        vertical-align: middle;\n",
       "    }\n",
       "\n",
       "    .dataframe tbody tr th {\n",
       "        vertical-align: top;\n",
       "    }\n",
       "\n",
       "    .dataframe thead th {\n",
       "        text-align: right;\n",
       "    }\n",
       "</style>\n",
       "<table border=\"1\" class=\"dataframe\">\n",
       "  <thead>\n",
       "    <tr style=\"text-align: right;\">\n",
       "      <th></th>\n",
       "      <th>Entity</th>\n",
       "      <th>Year</th>\n",
       "      <th>Deaths %</th>\n",
       "      <th>CO2 Emissions</th>\n",
       "      <th>CO2 Emissions Per Cap</th>\n",
       "      <th>Food Emissions</th>\n",
       "      <th>Total GHG</th>\n",
       "      <th>Consumption of Ozone</th>\n",
       "      <th>Shared CO2 Emissions</th>\n",
       "      <th>Transport</th>\n",
       "      <th>...</th>\n",
       "      <th>Death_70+</th>\n",
       "      <th>Death_15-49</th>\n",
       "      <th>Urban%</th>\n",
       "      <th>Child Mortality</th>\n",
       "      <th>Population</th>\n",
       "      <th>GDP</th>\n",
       "      <th>Forest area</th>\n",
       "      <th>clusterx2</th>\n",
       "      <th>clusterx4</th>\n",
       "      <th>Cancer_Incidence</th>\n",
       "    </tr>\n",
       "  </thead>\n",
       "  <tbody>\n",
       "    <tr>\n",
       "      <th>0</th>\n",
       "      <td>Albania</td>\n",
       "      <td>1991</td>\n",
       "      <td>17.613636</td>\n",
       "      <td>4228256</td>\n",
       "      <td>1.2889</td>\n",
       "      <td>4011691.0</td>\n",
       "      <td>9030000.0</td>\n",
       "      <td>0.00</td>\n",
       "      <td>0.02</td>\n",
       "      <td>500000.0</td>\n",
       "      <td>...</td>\n",
       "      <td>512.126572</td>\n",
       "      <td>60.714220</td>\n",
       "      <td>36.700</td>\n",
       "      <td>3.93</td>\n",
       "      <td>119.225912</td>\n",
       "      <td>3496.580246</td>\n",
       "      <td>786850.0</td>\n",
       "      <td>0</td>\n",
       "      <td>2</td>\n",
       "      <td>190.046659</td>\n",
       "    </tr>\n",
       "    <tr>\n",
       "      <th>1</th>\n",
       "      <td>Albania</td>\n",
       "      <td>1995</td>\n",
       "      <td>16.789055</td>\n",
       "      <td>2066496</td>\n",
       "      <td>0.6638</td>\n",
       "      <td>4861321.1</td>\n",
       "      <td>7480000.0</td>\n",
       "      <td>43.40</td>\n",
       "      <td>0.01</td>\n",
       "      <td>600000.0</td>\n",
       "      <td>...</td>\n",
       "      <td>469.406670</td>\n",
       "      <td>49.692924</td>\n",
       "      <td>38.911</td>\n",
       "      <td>3.39</td>\n",
       "      <td>116.342482</td>\n",
       "      <td>4471.871070</td>\n",
       "      <td>779050.0</td>\n",
       "      <td>0</td>\n",
       "      <td>2</td>\n",
       "      <td>183.178817</td>\n",
       "    </tr>\n",
       "    <tr>\n",
       "      <th>2</th>\n",
       "      <td>Albania</td>\n",
       "      <td>1996</td>\n",
       "      <td>16.588451</td>\n",
       "      <td>1993216</td>\n",
       "      <td>0.6432</td>\n",
       "      <td>4569702.9</td>\n",
       "      <td>7280000.0</td>\n",
       "      <td>43.20</td>\n",
       "      <td>0.01</td>\n",
       "      <td>600000.0</td>\n",
       "      <td>...</td>\n",
       "      <td>491.357876</td>\n",
       "      <td>52.069689</td>\n",
       "      <td>39.473</td>\n",
       "      <td>3.26</td>\n",
       "      <td>115.621642</td>\n",
       "      <td>4909.228105</td>\n",
       "      <td>777100.0</td>\n",
       "      <td>0</td>\n",
       "      <td>2</td>\n",
       "      <td>187.578978</td>\n",
       "    </tr>\n",
       "    <tr>\n",
       "      <th>3</th>\n",
       "      <td>Albania</td>\n",
       "      <td>1997</td>\n",
       "      <td>15.081361</td>\n",
       "      <td>1531552</td>\n",
       "      <td>0.4941</td>\n",
       "      <td>4431656.7</td>\n",
       "      <td>6510000.0</td>\n",
       "      <td>45.20</td>\n",
       "      <td>0.01</td>\n",
       "      <td>500000.0</td>\n",
       "      <td>...</td>\n",
       "      <td>521.197486</td>\n",
       "      <td>57.988035</td>\n",
       "      <td>40.035</td>\n",
       "      <td>3.13</td>\n",
       "      <td>114.900766</td>\n",
       "      <td>4400.577827</td>\n",
       "      <td>775150.0</td>\n",
       "      <td>0</td>\n",
       "      <td>2</td>\n",
       "      <td>191.441640</td>\n",
       "    </tr>\n",
       "    <tr>\n",
       "      <th>4</th>\n",
       "      <td>Albania</td>\n",
       "      <td>1998</td>\n",
       "      <td>15.965796</td>\n",
       "      <td>1744064</td>\n",
       "      <td>0.5607</td>\n",
       "      <td>4344061.6</td>\n",
       "      <td>6810000.0</td>\n",
       "      <td>49.60</td>\n",
       "      <td>0.01</td>\n",
       "      <td>700000.0</td>\n",
       "      <td>...</td>\n",
       "      <td>547.315668</td>\n",
       "      <td>64.973478</td>\n",
       "      <td>40.601</td>\n",
       "      <td>2.99</td>\n",
       "      <td>114.179927</td>\n",
       "      <td>4819.387534</td>\n",
       "      <td>773200.0</td>\n",
       "      <td>0</td>\n",
       "      <td>2</td>\n",
       "      <td>195.033589</td>\n",
       "    </tr>\n",
       "    <tr>\n",
       "      <th>...</th>\n",
       "      <td>...</td>\n",
       "      <td>...</td>\n",
       "      <td>...</td>\n",
       "      <td>...</td>\n",
       "      <td>...</td>\n",
       "      <td>...</td>\n",
       "      <td>...</td>\n",
       "      <td>...</td>\n",
       "      <td>...</td>\n",
       "      <td>...</td>\n",
       "      <td>...</td>\n",
       "      <td>...</td>\n",
       "      <td>...</td>\n",
       "      <td>...</td>\n",
       "      <td>...</td>\n",
       "      <td>...</td>\n",
       "      <td>...</td>\n",
       "      <td>...</td>\n",
       "      <td>...</td>\n",
       "      <td>...</td>\n",
       "      <td>...</td>\n",
       "    </tr>\n",
       "    <tr>\n",
       "      <th>2404</th>\n",
       "      <td>Zimbabwe</td>\n",
       "      <td>2010</td>\n",
       "      <td>9.450169</td>\n",
       "      <td>7878316</td>\n",
       "      <td>0.6205</td>\n",
       "      <td>55244889.2</td>\n",
       "      <td>66540000.0</td>\n",
       "      <td>29.30</td>\n",
       "      <td>0.02</td>\n",
       "      <td>1300000.0</td>\n",
       "      <td>...</td>\n",
       "      <td>684.000846</td>\n",
       "      <td>253.211851</td>\n",
       "      <td>33.196</td>\n",
       "      <td>8.76</td>\n",
       "      <td>32.823389</td>\n",
       "      <td>2458.220626</td>\n",
       "      <td>17905280.0</td>\n",
       "      <td>0</td>\n",
       "      <td>2</td>\n",
       "      <td>224.459639</td>\n",
       "    </tr>\n",
       "    <tr>\n",
       "      <th>2405</th>\n",
       "      <td>Zimbabwe</td>\n",
       "      <td>2011</td>\n",
       "      <td>10.053401</td>\n",
       "      <td>9743983</td>\n",
       "      <td>0.7557</td>\n",
       "      <td>53985614.6</td>\n",
       "      <td>67420000.0</td>\n",
       "      <td>22.22</td>\n",
       "      <td>0.03</td>\n",
       "      <td>2300000.0</td>\n",
       "      <td>...</td>\n",
       "      <td>687.415400</td>\n",
       "      <td>252.443341</td>\n",
       "      <td>33.015</td>\n",
       "      <td>8.14</td>\n",
       "      <td>33.331583</td>\n",
       "      <td>2764.338916</td>\n",
       "      <td>17859210.0</td>\n",
       "      <td>0</td>\n",
       "      <td>2</td>\n",
       "      <td>216.792521</td>\n",
       "    </tr>\n",
       "    <tr>\n",
       "      <th>2406</th>\n",
       "      <td>Zimbabwe</td>\n",
       "      <td>2012</td>\n",
       "      <td>10.455091</td>\n",
       "      <td>7882889</td>\n",
       "      <td>0.6011</td>\n",
       "      <td>54211027.7</td>\n",
       "      <td>67630000.0</td>\n",
       "      <td>16.20</td>\n",
       "      <td>0.02</td>\n",
       "      <td>2600000.0</td>\n",
       "      <td>...</td>\n",
       "      <td>711.735517</td>\n",
       "      <td>258.678699</td>\n",
       "      <td>32.834</td>\n",
       "      <td>7.38</td>\n",
       "      <td>33.902414</td>\n",
       "      <td>3170.726522</td>\n",
       "      <td>17813140.0</td>\n",
       "      <td>0</td>\n",
       "      <td>2</td>\n",
       "      <td>210.917010</td>\n",
       "    </tr>\n",
       "    <tr>\n",
       "      <th>2407</th>\n",
       "      <td>Zimbabwe</td>\n",
       "      <td>2013</td>\n",
       "      <td>10.691584</td>\n",
       "      <td>11836254</td>\n",
       "      <td>0.8866</td>\n",
       "      <td>54321218.5</td>\n",
       "      <td>67550000.0</td>\n",
       "      <td>15.76</td>\n",
       "      <td>0.03</td>\n",
       "      <td>2900000.0</td>\n",
       "      <td>...</td>\n",
       "      <td>740.153224</td>\n",
       "      <td>266.910947</td>\n",
       "      <td>32.654</td>\n",
       "      <td>6.78</td>\n",
       "      <td>34.510477</td>\n",
       "      <td>3176.829330</td>\n",
       "      <td>17767070.0</td>\n",
       "      <td>0</td>\n",
       "      <td>2</td>\n",
       "      <td>206.449353</td>\n",
       "    </tr>\n",
       "    <tr>\n",
       "      <th>2408</th>\n",
       "      <td>Zimbabwe</td>\n",
       "      <td>2014</td>\n",
       "      <td>10.858493</td>\n",
       "      <td>11905687</td>\n",
       "      <td>0.8763</td>\n",
       "      <td>51674911.7</td>\n",
       "      <td>66100000.0</td>\n",
       "      <td>13.32</td>\n",
       "      <td>0.03</td>\n",
       "      <td>2600000.0</td>\n",
       "      <td>...</td>\n",
       "      <td>766.192922</td>\n",
       "      <td>280.271101</td>\n",
       "      <td>32.504</td>\n",
       "      <td>6.44</td>\n",
       "      <td>35.121391</td>\n",
       "      <td>3195.767970</td>\n",
       "      <td>17721000.0</td>\n",
       "      <td>0</td>\n",
       "      <td>2</td>\n",
       "      <td>203.151575</td>\n",
       "    </tr>\n",
       "  </tbody>\n",
       "</table>\n",
       "<p>2409 rows × 29 columns</p>\n",
       "</div>"
      ],
      "text/plain": [
       "        Entity  Year   Deaths %  CO2 Emissions  CO2 Emissions Per Cap  \\\n",
       "0      Albania  1991  17.613636        4228256                 1.2889   \n",
       "1      Albania  1995  16.789055        2066496                 0.6638   \n",
       "2      Albania  1996  16.588451        1993216                 0.6432   \n",
       "3      Albania  1997  15.081361        1531552                 0.4941   \n",
       "4      Albania  1998  15.965796        1744064                 0.5607   \n",
       "...        ...   ...        ...            ...                    ...   \n",
       "2404  Zimbabwe  2010   9.450169        7878316                 0.6205   \n",
       "2405  Zimbabwe  2011  10.053401        9743983                 0.7557   \n",
       "2406  Zimbabwe  2012  10.455091        7882889                 0.6011   \n",
       "2407  Zimbabwe  2013  10.691584       11836254                 0.8866   \n",
       "2408  Zimbabwe  2014  10.858493       11905687                 0.8763   \n",
       "\n",
       "      Food Emissions   Total GHG  Consumption of Ozone  Shared CO2 Emissions  \\\n",
       "0          4011691.0   9030000.0                  0.00                  0.02   \n",
       "1          4861321.1   7480000.0                 43.40                  0.01   \n",
       "2          4569702.9   7280000.0                 43.20                  0.01   \n",
       "3          4431656.7   6510000.0                 45.20                  0.01   \n",
       "4          4344061.6   6810000.0                 49.60                  0.01   \n",
       "...              ...         ...                   ...                   ...   \n",
       "2404      55244889.2  66540000.0                 29.30                  0.02   \n",
       "2405      53985614.6  67420000.0                 22.22                  0.03   \n",
       "2406      54211027.7  67630000.0                 16.20                  0.02   \n",
       "2407      54321218.5  67550000.0                 15.76                  0.03   \n",
       "2408      51674911.7  66100000.0                 13.32                  0.03   \n",
       "\n",
       "      Transport  ...   Death_70+  Death_15-49  Urban%  Child Mortality  \\\n",
       "0      500000.0  ...  512.126572    60.714220  36.700             3.93   \n",
       "1      600000.0  ...  469.406670    49.692924  38.911             3.39   \n",
       "2      600000.0  ...  491.357876    52.069689  39.473             3.26   \n",
       "3      500000.0  ...  521.197486    57.988035  40.035             3.13   \n",
       "4      700000.0  ...  547.315668    64.973478  40.601             2.99   \n",
       "...         ...  ...         ...          ...     ...              ...   \n",
       "2404  1300000.0  ...  684.000846   253.211851  33.196             8.76   \n",
       "2405  2300000.0  ...  687.415400   252.443341  33.015             8.14   \n",
       "2406  2600000.0  ...  711.735517   258.678699  32.834             7.38   \n",
       "2407  2900000.0  ...  740.153224   266.910947  32.654             6.78   \n",
       "2408  2600000.0  ...  766.192922   280.271101  32.504             6.44   \n",
       "\n",
       "      Population          GDP  Forest area  clusterx2  clusterx4  \\\n",
       "0     119.225912  3496.580246     786850.0          0          2   \n",
       "1     116.342482  4471.871070     779050.0          0          2   \n",
       "2     115.621642  4909.228105     777100.0          0          2   \n",
       "3     114.900766  4400.577827     775150.0          0          2   \n",
       "4     114.179927  4819.387534     773200.0          0          2   \n",
       "...          ...          ...          ...        ...        ...   \n",
       "2404   32.823389  2458.220626   17905280.0          0          2   \n",
       "2405   33.331583  2764.338916   17859210.0          0          2   \n",
       "2406   33.902414  3170.726522   17813140.0          0          2   \n",
       "2407   34.510477  3176.829330   17767070.0          0          2   \n",
       "2408   35.121391  3195.767970   17721000.0          0          2   \n",
       "\n",
       "      Cancer_Incidence  \n",
       "0           190.046659  \n",
       "1           183.178817  \n",
       "2           187.578978  \n",
       "3           191.441640  \n",
       "4           195.033589  \n",
       "...                ...  \n",
       "2404        224.459639  \n",
       "2405        216.792521  \n",
       "2406        210.917010  \n",
       "2407        206.449353  \n",
       "2408        203.151575  \n",
       "\n",
       "[2409 rows x 29 columns]"
      ]
     },
     "execution_count": 255,
     "metadata": {},
     "output_type": "execute_result"
    }
   ],
   "source": [
    "kahuna"
   ]
  },
  {
   "cell_type": "code",
   "execution_count": 256,
   "id": "a7fdb9fc-07c4-417d-b2b6-9a005bb09fbd",
   "metadata": {},
   "outputs": [
    {
     "data": {
      "text/plain": [
       "Index(['Entity', 'Year', 'Deaths %', 'CO2 Emissions', 'CO2 Emissions Per Cap',\n",
       "       'Food Emissions', 'Total GHG', 'Consumption of Ozone',\n",
       "       'Shared CO2 Emissions', 'Transport', 'Death_rate_ambient_ozone_pol',\n",
       "       'Death_rate_household_air_pol', 'Death_rate_all_causes',\n",
       "       'Death_actual_ozone', 'Death_actual_particulate',\n",
       "       'Death_actual_household', 'Death_under5', 'Death_5-14', 'Death_50-69',\n",
       "       'Death_70+', 'Death_15-49', 'Urban%', 'Child Mortality', 'Population',\n",
       "       'GDP', 'Forest area', 'clusterx2', 'clusterx4', 'Cancer_Incidence'],\n",
       "      dtype='object')"
      ]
     },
     "execution_count": 256,
     "metadata": {},
     "output_type": "execute_result"
    }
   ],
   "source": [
    "kahuna.columns"
   ]
  },
  {
   "cell_type": "code",
   "execution_count": null,
   "id": "09b5baa7-9012-4790-a82c-be6c08715d4f",
   "metadata": {},
   "outputs": [],
   "source": []
  }
 ],
 "metadata": {
  "kernelspec": {
   "display_name": "Python 3 (ipykernel)",
   "language": "python",
   "name": "python3"
  },
  "language_info": {
   "codemirror_mode": {
    "name": "ipython",
    "version": 3
   },
   "file_extension": ".py",
   "mimetype": "text/x-python",
   "name": "python",
   "nbconvert_exporter": "python",
   "pygments_lexer": "ipython3",
   "version": "3.9.7"
  }
 },
 "nbformat": 4,
 "nbformat_minor": 5
}
