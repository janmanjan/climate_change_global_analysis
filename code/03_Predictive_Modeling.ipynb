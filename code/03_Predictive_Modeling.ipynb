{
 "cells": [
  {
   "cell_type": "markdown",
   "id": "49e561db-c1f7-4885-af65-c6c3e21e1979",
   "metadata": {},
   "source": [
    "### Imports"
   ]
  },
  {
   "cell_type": "code",
   "execution_count": 4,
   "id": "e88c7499-7690-4109-94cf-d64e9b8ce07a",
   "metadata": {},
   "outputs": [],
   "source": [
    "import pandas as pd\n",
    "import numpy as np\n",
    "\n",
    "import seaborn as sns\n",
    "import matplotlib.pyplot as plt\n",
    "\n",
    "from sklearn.cluster import KMeans, AgglomerativeClustering\n",
    "from sklearn.metrics import silhouette_score\n",
    "from sklearn.preprocessing import StandardScaler, LabelEncoder\n",
    "from sklearn.linear_model import LinearRegression, LogisticRegression\n",
    "from sklearn.ensemble import RandomForestClassifier\n",
    "from sklearn.model_selection import train_test_split"
   ]
  },
  {
   "cell_type": "code",
   "execution_count": 28,
   "id": "2f5a2df8-00cb-4ba7-b43e-12f4f24fb802",
   "metadata": {},
   "outputs": [],
   "source": [
    "# read in dataframe\n",
    "df = pd.read_csv('../data/cleaned_data/kahuna.csv')"
   ]
  },
  {
   "cell_type": "markdown",
   "id": "6fee0b76-50f5-463f-858f-023749ffe019",
   "metadata": {},
   "source": [
    "### KMeans Preprocessing"
   ]
  },
  {
   "cell_type": "code",
   "execution_count": 29,
   "id": "42f92002-4cad-4c93-a90e-5c393a0dba94",
   "metadata": {},
   "outputs": [],
   "source": [
    "# set X and y\n",
    "X = df.drop(columns=['Entity', 'Year'])\n",
    "y = df['Entity']\n",
    "\n",
    "# scale X\n",
    "ss = StandardScaler()\n",
    "X_sc = ss.fit_transform(X)"
   ]
  },
  {
   "cell_type": "code",
   "execution_count": 30,
   "id": "da512f91-60d5-4363-8a49-af572131d861",
   "metadata": {},
   "outputs": [],
   "source": [
    "# adding k=3 cluster column\n",
    "km = KMeans(n_clusters=3)\n",
    "km.fit(X)\n",
    "kahuna['clusterx3'] = km.labels_"
   ]
  },
  {
   "cell_type": "code",
   "execution_count": 31,
   "id": "e16a0fae-9ff0-45d3-9d3d-4222dc5e3db8",
   "metadata": {},
   "outputs": [],
   "source": [
    "# adding k=10 cluster column\n",
    "km = KMeans(n_clusters=10)\n",
    "km.fit(X)\n",
    "kahuna['clusterx10'] = km.labels_"
   ]
  },
  {
   "cell_type": "markdown",
   "id": "e2915d58-7284-444a-8381-53ef0b5eaa89",
   "metadata": {},
   "source": [
    "### Classification (Entity)"
   ]
  },
  {
   "cell_type": "code",
   "execution_count": 32,
   "id": "97995fe2-a6f5-40a6-9a83-16c5e99d8020",
   "metadata": {},
   "outputs": [],
   "source": [
    "X = df.drop(columns=['Entity', 'Year'])\n",
    "y = df['Entity']\n",
    "\n",
    "le = LabelEncoder()\n",
    "y = le.fit_transform(y)\n",
    "\n",
    "X_train, X_test, y_train, y_test = train_test_split(X, y, stratify=y, random_state=42)\n",
    "\n",
    "ss = StandardScaler()\n",
    "X_train_sc = ss.fit_transform(X_train)\n",
    "X_test_sc = ss.transform(X_test)"
   ]
  },
  {
   "cell_type": "markdown",
   "id": "70998301-7606-49a2-9bc2-df1eeb3192fa",
   "metadata": {},
   "source": [
    "#### RFC"
   ]
  },
  {
   "cell_type": "code",
   "execution_count": 33,
   "id": "5e90c93d-b412-46d1-88ea-be5c652ab6ab",
   "metadata": {},
   "outputs": [
    {
     "data": {
      "text/plain": [
       "(1.0, 1.0)"
      ]
     },
     "execution_count": 33,
     "metadata": {},
     "output_type": "execute_result"
    }
   ],
   "source": [
    "rfc = RandomForestClassifier(random_state=42)\n",
    "\n",
    "rfc.fit(X_train_sc, y_train)\n",
    "rfc.score(X_train_sc, y_train), rfc.score(X_test_sc, y_test)"
   ]
  },
  {
   "cell_type": "markdown",
   "id": "1b8bfa53-91d4-4f77-aa0a-479d2b2e7de7",
   "metadata": {},
   "source": [
    "#### Logistic Regression"
   ]
  },
  {
   "cell_type": "code",
   "execution_count": 34,
   "id": "8ea6f368-0292-4a79-8359-9f4da954f913",
   "metadata": {},
   "outputs": [
    {
     "data": {
      "text/plain": [
       "(0.9778516057585825, 0.9701492537313433)"
      ]
     },
     "execution_count": 34,
     "metadata": {},
     "output_type": "execute_result"
    }
   ],
   "source": [
    "logreg = LogisticRegression(random_state=42, max_iter=300)\n",
    "\n",
    "logreg.fit(X_train_sc, y_train)\n",
    "logreg.score(X_train_sc, y_train), logreg.score(X_test_sc, y_test)"
   ]
  },
  {
   "cell_type": "markdown",
   "id": "8667143d-0092-4d74-b130-3fd3863b3dcc",
   "metadata": {},
   "source": [
    "**Note**: Models do an excellent job of classifying each country--country has a distinct enought history"
   ]
  },
  {
   "cell_type": "markdown",
   "id": "ff37cf32-0168-4bcd-b9a4-2cd0f10362e4",
   "metadata": {},
   "source": [
    "### Classification (Year)"
   ]
  },
  {
   "cell_type": "code",
   "execution_count": 35,
   "id": "d12cfbaa-208b-442f-a9dc-570b552bf173",
   "metadata": {},
   "outputs": [],
   "source": [
    "X = df.drop(columns=['Entity', 'Year'])\n",
    "y = df['Year']\n",
    "\n",
    "le = LabelEncoder()\n",
    "y = le.fit_transform(y)\n",
    "\n",
    "X_train, X_test, y_train, y_test = train_test_split(X, y, stratify=y, random_state=42)\n",
    "\n",
    "ss = StandardScaler()\n",
    "X_train_sc = ss.fit_transform(X_train)\n",
    "X_test_sc = ss.transform(X_test)"
   ]
  },
  {
   "cell_type": "markdown",
   "id": "ad84cbe1-4c03-474a-bdf6-2627c2923da8",
   "metadata": {},
   "source": [
    "#### RFC"
   ]
  },
  {
   "cell_type": "code",
   "execution_count": 36,
   "id": "cc6c28bc-33db-48d2-a7c7-b7e91cf72cef",
   "metadata": {},
   "outputs": [
    {
     "data": {
      "text/plain": [
       "(1.0, 0.003316749585406302)"
      ]
     },
     "execution_count": 36,
     "metadata": {},
     "output_type": "execute_result"
    }
   ],
   "source": [
    "rfc = RandomForestClassifier(random_state=42)\n",
    "\n",
    "rfc.fit(X_train_sc, y_train)\n",
    "rfc.score(X_train_sc, y_train), rfc.score(X_test_sc, y_test)"
   ]
  },
  {
   "cell_type": "markdown",
   "id": "3345f58b-60e7-4760-a9fe-61843194522a",
   "metadata": {},
   "source": [
    "#### Logistic Regression"
   ]
  },
  {
   "cell_type": "code",
   "execution_count": 37,
   "id": "4cb5b996-459d-478b-a909-a90212a9f1ac",
   "metadata": {},
   "outputs": [
    {
     "data": {
      "text/plain": [
       "(0.09080841638981174, 0.03482587064676617)"
      ]
     },
     "execution_count": 37,
     "metadata": {},
     "output_type": "execute_result"
    }
   ],
   "source": [
    "logreg = LogisticRegression(random_state=42, max_iter=300)\n",
    "\n",
    "logreg.fit(X_train_sc, y_train)\n",
    "logreg.score(X_train_sc, y_train), logreg.score(X_test_sc, y_test)"
   ]
  },
  {
   "cell_type": "markdown",
   "id": "1e03ed1a-0a2d-4693-8f78-a8189ff83b3e",
   "metadata": {},
   "source": [
    "### Linear Regression"
   ]
  },
  {
   "cell_type": "code",
   "execution_count": 38,
   "id": "d88b78a7-ae00-4b1d-9065-6992c7c6a13d",
   "metadata": {},
   "outputs": [],
   "source": [
    "X = df.drop(columns=['Entity', 'Year'])\n",
    "y = df['Year']\n",
    "\n",
    "X_train, X_test, y_train, y_test = train_test_split(X, y, random_state=42)\n",
    "\n",
    "ss = StandardScaler()\n",
    "X_train_sc = ss.fit_transform(X_train)\n",
    "X_test_sc = ss.transform(X_test)"
   ]
  },
  {
   "cell_type": "code",
   "execution_count": 39,
   "id": "0c94a381-b6e4-4e00-8d94-b8d1b6a407f3",
   "metadata": {},
   "outputs": [
    {
     "data": {
      "text/plain": [
       "(0.15193533628262434, 0.16291335497072834)"
      ]
     },
     "execution_count": 39,
     "metadata": {},
     "output_type": "execute_result"
    }
   ],
   "source": [
    "lr = LinearRegression()\n",
    "\n",
    "lr.fit(X_train_sc, y_train)\n",
    "lr.score(X_train_sc, y_train), lr.score(X_test_sc, y_test)"
   ]
  },
  {
   "cell_type": "markdown",
   "id": "481c02eb-7fa5-46a3-8efb-72613882aa9a",
   "metadata": {},
   "source": [
    "**Note**: Years are not distinct classified or regressed"
   ]
  },
  {
   "cell_type": "markdown",
   "id": "f3fb3dce-ac16-4cdf-9cb7-fc81c382b978",
   "metadata": {},
   "source": [
    "#### All features"
   ]
  },
  {
   "cell_type": "code",
   "execution_count": 65,
   "id": "8f3f09d0-13fc-4adb-8c85-a6cb4572ae5a",
   "metadata": {},
   "outputs": [],
   "source": [
    "# model for each feature\n",
    "lr_list = []\n",
    "for each in kahuna.drop(columns=['Entity', 'Year', 'clusterx3', 'clusterx10']).columns:\n",
    "    X = kahuna.drop(columns=['Entity', 'Year', each])\n",
    "    y = kahuna[each]\n",
    "\n",
    "    X_train, X_test, y_train, y_test = train_test_split(X, y, random_state=42)\n",
    "    \n",
    "    ss = StandardScaler()\n",
    "    \n",
    "    X_train_sc = ss.fit_transform(X_train)\n",
    "    X_test_sc = ss.transform(X_test)\n",
    "    \n",
    "    lr = LinearRegression()\n",
    "    \n",
    "    lr.fit(X_train_sc, y_train)\n",
    "    n = [each, lr.score(X_train_sc, y_train), lr.score(X_test_sc, y_test)]\n",
    "    lr_list.append(n)\n",
    "\n",
    "# table for models    \n",
    "lr_table = pd.DataFrame(lr_list, columns=['Predictor', 'Train', 'Test'])"
   ]
  },
  {
   "cell_type": "code",
   "execution_count": 68,
   "id": "cac697f7-41c9-4476-91c0-28d93b5d6afa",
   "metadata": {},
   "outputs": [
    {
     "data": {
      "text/html": [
       "<div>\n",
       "<style scoped>\n",
       "    .dataframe tbody tr th:only-of-type {\n",
       "        vertical-align: middle;\n",
       "    }\n",
       "\n",
       "    .dataframe tbody tr th {\n",
       "        vertical-align: top;\n",
       "    }\n",
       "\n",
       "    .dataframe thead th {\n",
       "        text-align: right;\n",
       "    }\n",
       "</style>\n",
       "<table border=\"1\" class=\"dataframe\">\n",
       "  <thead>\n",
       "    <tr style=\"text-align: right;\">\n",
       "      <th></th>\n",
       "      <th>Predictor</th>\n",
       "      <th>Train</th>\n",
       "      <th>Test</th>\n",
       "    </tr>\n",
       "  </thead>\n",
       "  <tbody>\n",
       "    <tr>\n",
       "      <th>12</th>\n",
       "      <td>Death_actual_particulate</td>\n",
       "      <td>1.000000</td>\n",
       "      <td>1.000000</td>\n",
       "    </tr>\n",
       "    <tr>\n",
       "      <th>14</th>\n",
       "      <td>Death_under5</td>\n",
       "      <td>1.000000</td>\n",
       "      <td>1.000000</td>\n",
       "    </tr>\n",
       "    <tr>\n",
       "      <th>18</th>\n",
       "      <td>Death_15-49</td>\n",
       "      <td>1.000000</td>\n",
       "      <td>1.000000</td>\n",
       "    </tr>\n",
       "    <tr>\n",
       "      <th>17</th>\n",
       "      <td>Death_70+</td>\n",
       "      <td>1.000000</td>\n",
       "      <td>1.000000</td>\n",
       "    </tr>\n",
       "    <tr>\n",
       "      <th>16</th>\n",
       "      <td>Death_50-69</td>\n",
       "      <td>1.000000</td>\n",
       "      <td>1.000000</td>\n",
       "    </tr>\n",
       "    <tr>\n",
       "      <th>15</th>\n",
       "      <td>Death_5-14</td>\n",
       "      <td>1.000000</td>\n",
       "      <td>1.000000</td>\n",
       "    </tr>\n",
       "    <tr>\n",
       "      <th>11</th>\n",
       "      <td>Death_actual_ozone</td>\n",
       "      <td>1.000000</td>\n",
       "      <td>1.000000</td>\n",
       "    </tr>\n",
       "    <tr>\n",
       "      <th>4</th>\n",
       "      <td>Total GHG</td>\n",
       "      <td>0.994110</td>\n",
       "      <td>0.995465</td>\n",
       "    </tr>\n",
       "    <tr>\n",
       "      <th>1</th>\n",
       "      <td>CO2 Emissions</td>\n",
       "      <td>0.996874</td>\n",
       "      <td>0.994284</td>\n",
       "    </tr>\n",
       "    <tr>\n",
       "      <th>6</th>\n",
       "      <td>Shared CO2 Emissions</td>\n",
       "      <td>0.989207</td>\n",
       "      <td>0.990835</td>\n",
       "    </tr>\n",
       "    <tr>\n",
       "      <th>13</th>\n",
       "      <td>Death_actual_household</td>\n",
       "      <td>0.969721</td>\n",
       "      <td>0.975625</td>\n",
       "    </tr>\n",
       "    <tr>\n",
       "      <th>7</th>\n",
       "      <td>Transport</td>\n",
       "      <td>0.987527</td>\n",
       "      <td>0.970635</td>\n",
       "    </tr>\n",
       "    <tr>\n",
       "      <th>3</th>\n",
       "      <td>Food Emissions</td>\n",
       "      <td>0.946713</td>\n",
       "      <td>0.932355</td>\n",
       "    </tr>\n",
       "    <tr>\n",
       "      <th>9</th>\n",
       "      <td>Death_rate_household_air_pol</td>\n",
       "      <td>0.912320</td>\n",
       "      <td>0.917174</td>\n",
       "    </tr>\n",
       "    <tr>\n",
       "      <th>0</th>\n",
       "      <td>Deaths %</td>\n",
       "      <td>0.839355</td>\n",
       "      <td>0.843293</td>\n",
       "    </tr>\n",
       "    <tr>\n",
       "      <th>20</th>\n",
       "      <td>Child Mortality</td>\n",
       "      <td>0.829209</td>\n",
       "      <td>0.837902</td>\n",
       "    </tr>\n",
       "    <tr>\n",
       "      <th>22</th>\n",
       "      <td>GDP</td>\n",
       "      <td>0.777530</td>\n",
       "      <td>0.784780</td>\n",
       "    </tr>\n",
       "    <tr>\n",
       "      <th>2</th>\n",
       "      <td>CO2 Emissions Per Cap</td>\n",
       "      <td>0.755176</td>\n",
       "      <td>0.743343</td>\n",
       "    </tr>\n",
       "    <tr>\n",
       "      <th>10</th>\n",
       "      <td>Death_rate_all_causes</td>\n",
       "      <td>0.729129</td>\n",
       "      <td>0.715181</td>\n",
       "    </tr>\n",
       "    <tr>\n",
       "      <th>19</th>\n",
       "      <td>Urban%</td>\n",
       "      <td>0.716894</td>\n",
       "      <td>0.709344</td>\n",
       "    </tr>\n",
       "    <tr>\n",
       "      <th>23</th>\n",
       "      <td>Forest area</td>\n",
       "      <td>0.655503</td>\n",
       "      <td>0.614964</td>\n",
       "    </tr>\n",
       "    <tr>\n",
       "      <th>8</th>\n",
       "      <td>Death_rate_ambient_ozone_pol</td>\n",
       "      <td>0.555575</td>\n",
       "      <td>0.595329</td>\n",
       "    </tr>\n",
       "    <tr>\n",
       "      <th>5</th>\n",
       "      <td>Consumption of Ozone</td>\n",
       "      <td>0.604139</td>\n",
       "      <td>0.580275</td>\n",
       "    </tr>\n",
       "    <tr>\n",
       "      <th>21</th>\n",
       "      <td>Population</td>\n",
       "      <td>0.138041</td>\n",
       "      <td>0.154347</td>\n",
       "    </tr>\n",
       "  </tbody>\n",
       "</table>\n",
       "</div>"
      ],
      "text/plain": [
       "                       Predictor     Train      Test\n",
       "12      Death_actual_particulate  1.000000  1.000000\n",
       "14                  Death_under5  1.000000  1.000000\n",
       "18                   Death_15-49  1.000000  1.000000\n",
       "17                     Death_70+  1.000000  1.000000\n",
       "16                   Death_50-69  1.000000  1.000000\n",
       "15                    Death_5-14  1.000000  1.000000\n",
       "11            Death_actual_ozone  1.000000  1.000000\n",
       "4                      Total GHG  0.994110  0.995465\n",
       "1                  CO2 Emissions  0.996874  0.994284\n",
       "6           Shared CO2 Emissions  0.989207  0.990835\n",
       "13        Death_actual_household  0.969721  0.975625\n",
       "7                      Transport  0.987527  0.970635\n",
       "3                 Food Emissions  0.946713  0.932355\n",
       "9   Death_rate_household_air_pol  0.912320  0.917174\n",
       "0                       Deaths %  0.839355  0.843293\n",
       "20               Child Mortality  0.829209  0.837902\n",
       "22                           GDP  0.777530  0.784780\n",
       "2          CO2 Emissions Per Cap  0.755176  0.743343\n",
       "10         Death_rate_all_causes  0.729129  0.715181\n",
       "19                        Urban%  0.716894  0.709344\n",
       "23                   Forest area  0.655503  0.614964\n",
       "8   Death_rate_ambient_ozone_pol  0.555575  0.595329\n",
       "5           Consumption of Ozone  0.604139  0.580275\n",
       "21                    Population  0.138041  0.154347"
      ]
     },
     "execution_count": 68,
     "metadata": {},
     "output_type": "execute_result"
    }
   ],
   "source": [
    "lr_table.sort_values(by='Test', ascending=False)"
   ]
  },
  {
   "cell_type": "code",
   "execution_count": 74,
   "id": "8ee2b47f-58df-4a0e-8c01-d9732e228669",
   "metadata": {},
   "outputs": [],
   "source": [
    "# read in cancer dataframe\n",
    "cancer = pd.read_csv('../data/dirty_data/cancer-incidence.csv')\n",
    "\n",
    "# quick clean of cancer dataframe\n",
    "cancer = cancer.drop(columns=['Code'])\n",
    "cancer = cancer[cancer['Year']<=2014]\n",
    "cancer.rename(columns={'Incidence - Neoplasms - Sex: Both - Age: Age-standardized (Rate)': 'Cancer_incidence'}, inplace=True)\n",
    "\n",
    "# merge cancer and kahuna\n",
    "kahuna_cancer = kahuna.merge(cancer, on=['Entity', 'Year'])"
   ]
  },
  {
   "cell_type": "code",
   "execution_count": 76,
   "id": "074e2c7f-5e7f-4c81-8595-6c3122e5e9a4",
   "metadata": {},
   "outputs": [
    {
     "data": {
      "text/plain": [
       "(0.6762242020431626, 0.6767854203724735)"
      ]
     },
     "execution_count": 76,
     "metadata": {},
     "output_type": "execute_result"
    }
   ],
   "source": [
    "# Prediction for cancer incidence\n",
    "X = kahuna_cancer.drop(columns=['Entity', 'Year', 'Cancer_incidence'])\n",
    "y = kahuna_cancer['Cancer_incidence']\n",
    "\n",
    "X_train, X_test, y_train, y_test = train_test_split(X, y, random_state=42)\n",
    "\n",
    "ss = StandardScaler()\n",
    "X_train_sc = ss.fit_transform(X_train)\n",
    "X_test_sc = ss.transform(X_test)\n",
    "\n",
    "lr = LinearRegression()\n",
    "\n",
    "lr.fit(X_train_sc, y_train)\n",
    "lr.score(X_train_sc, y_train), lr.score(X_test_sc, y_test)"
   ]
  }
 ],
 "metadata": {
  "kernelspec": {
   "display_name": "Python 3 (ipykernel)",
   "language": "python",
   "name": "python3"
  },
  "language_info": {
   "codemirror_mode": {
    "name": "ipython",
    "version": 3
   },
   "file_extension": ".py",
   "mimetype": "text/x-python",
   "name": "python",
   "nbconvert_exporter": "python",
   "pygments_lexer": "ipython3",
   "version": "3.9.7"
  }
 },
 "nbformat": 4,
 "nbformat_minor": 5
}
