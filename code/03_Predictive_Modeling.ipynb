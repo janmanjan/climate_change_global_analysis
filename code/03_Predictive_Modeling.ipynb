{
 "cells": [
  {
   "cell_type": "code",
   "execution_count": 31,
   "id": "a9888e37-0371-49cd-8c45-f53555b97d59",
   "metadata": {},
   "outputs": [],
   "source": [
    "# Imports\n",
    "import pandas as pd\n",
    "import numpy as np\n",
    "\n",
    "import seaborn as sns\n",
    "import matplotlib.pyplot as plt\n",
    "import matplotlib\n",
    "\n",
    "from sklearn.cluster import KMeans\n",
    "from sklearn.metrics import silhouette_score\n",
    "from sklearn.preprocessing import StandardScaler, LabelEncoder\n",
    "from sklearn.linear_model import LinearRegression, LogisticRegression\n",
    "from sklearn.model_selection import train_test_split\n",
    "from sklearn.ensemble import RandomForestClassifier"
   ]
  },
  {
   "cell_type": "code",
   "execution_count": 2,
   "id": "70d8919b-e637-43d1-8661-464a0e913456",
   "metadata": {},
   "outputs": [],
   "source": [
    "# reading in final dataframe\n",
    "kahuna = pd.read_csv('../data/added_data/kahuna.csv')"
   ]
  },
  {
   "cell_type": "markdown",
   "id": "dc7d2992-da0a-4826-adb7-5f8caa91b75c",
   "metadata": {},
   "source": [
    "-------------------------"
   ]
  },
  {
   "cell_type": "markdown",
   "id": "f5095e77-2352-4218-9c66-5a16abb80332",
   "metadata": {},
   "source": [
    "## KMeans Clustering Preprocessing"
   ]
  },
  {
   "cell_type": "code",
   "execution_count": 3,
   "id": "51445b12-209d-4380-aee4-a1953a3c5462",
   "metadata": {},
   "outputs": [],
   "source": [
    "X = kahuna.drop(columns=['Entity', 'Year'])\n",
    "sc = StandardScaler()\n",
    "X_sc = sc.fit_transform(X)"
   ]
  },
  {
   "cell_type": "code",
   "execution_count": 4,
   "id": "28f65315-61d8-4d29-8b00-aa0f6880e64f",
   "metadata": {},
   "outputs": [
    {
     "data": {
      "text/plain": [
       "KMeans(n_clusters=3, random_state=42)"
      ]
     },
     "execution_count": 4,
     "metadata": {},
     "output_type": "execute_result"
    }
   ],
   "source": [
    "km_3 = KMeans(n_clusters=3, random_state=42)\n",
    "km_3.fit(X_sc)"
   ]
  },
  {
   "cell_type": "code",
   "execution_count": 5,
   "id": "b949339a-343c-4f79-b40a-29241da3174d",
   "metadata": {},
   "outputs": [],
   "source": [
    "kahuna['clusterx3'] = km_3.labels_"
   ]
  },
  {
   "cell_type": "code",
   "execution_count": 6,
   "id": "68a71a6b-5578-4a53-9f32-66f770b4cae2",
   "metadata": {},
   "outputs": [
    {
     "data": {
      "text/plain": [
       "KMeans(n_clusters=10, random_state=42)"
      ]
     },
     "execution_count": 6,
     "metadata": {},
     "output_type": "execute_result"
    }
   ],
   "source": [
    "km_10 = KMeans(n_clusters=10, random_state=42)\n",
    "km_10.fit(X_sc)"
   ]
  },
  {
   "cell_type": "code",
   "execution_count": 7,
   "id": "d87ab688-d5cb-4a64-b24d-8d97ec72dbff",
   "metadata": {},
   "outputs": [],
   "source": [
    "kahuna['clusterx10'] = km_10.labels_"
   ]
  },
  {
   "cell_type": "code",
   "execution_count": 137,
   "id": "66d63a7c-f335-43ee-9849-e7a41bff12f5",
   "metadata": {},
   "outputs": [],
   "source": [
    "kahuna.to_csv('../data/new_cleaned/kahuna_clusters.csv')"
   ]
  },
  {
   "cell_type": "markdown",
   "id": "dffed050-500e-4724-b57f-c95f2a01464b",
   "metadata": {},
   "source": [
    "-------------------------"
   ]
  },
  {
   "cell_type": "markdown",
   "id": "dd41de7b-d660-4fa1-b2ca-b51f6ea84202",
   "metadata": {},
   "source": [
    "### Modeling Classification (Entity, Year)"
   ]
  },
  {
   "cell_type": "code",
   "execution_count": 64,
   "id": "618e132c-4e8c-4bc5-bb47-41772d8108dd",
   "metadata": {},
   "outputs": [],
   "source": [
    "features_no_clust = kahuna.drop(columns=['clusterx3', 'clusterx10'])\n",
    "features_clustx3 = kahuna.drop(columns=['clusterx10'])\n",
    "features_clustx10 =  kahuna.drop(columns=['clusterx3'])\n",
    "features_all = kahuna\n",
    "features_list = [features_no_clust, features_clustx3, features_clustx10, features_all]"
   ]
  },
  {
   "cell_type": "code",
   "execution_count": 81,
   "id": "7e388a83-7e07-4ae1-8c33-ff736705c7e9",
   "metadata": {},
   "outputs": [],
   "source": [
    "# drop Entity and Year column\n",
    "X = kahuna.drop(columns=['Entity', 'Year'])\n",
    "\n",
    "# set y = entity and label encode\n",
    "y = kahuna['Entity']\n",
    "le = LabelEncoder()\n",
    "y = le.fit_transform(y)\n",
    "\n",
    "# train-test-split\n",
    "X_train, X_test, y_train, y_test = train_test_split(X, y, stratify=y, random_state=24)"
   ]
  },
  {
   "cell_type": "code",
   "execution_count": 85,
   "id": "b216a290-5bbe-4498-a6d8-49d0889e9649",
   "metadata": {},
   "outputs": [],
   "source": [
    "# scale data\n",
    "ss = StandardScaler()\n",
    "\n",
    "X_train_sc = ss.fit_transform(X_train)\n",
    "X_test_sc = ss.transform(X_test)"
   ]
  },
  {
   "cell_type": "markdown",
   "id": "27ac954e-d9bc-4b81-99bf-ed55a8efe1a0",
   "metadata": {},
   "source": [
    "#### Logistic Regression"
   ]
  },
  {
   "cell_type": "code",
   "execution_count": 83,
   "id": "509616c1-7406-43e8-aa98-91283c821192",
   "metadata": {},
   "outputs": [
    {
     "data": {
      "text/plain": [
       "(0.9706533776301218, 0.9502487562189055)"
      ]
     },
     "execution_count": 83,
     "metadata": {},
     "output_type": "execute_result"
    }
   ],
   "source": [
    "# model for entity\n",
    "logreg = LogisticRegression(random_state=42, max_iter=500)\n",
    "\n",
    "logreg.fit(X_train_sc, y_train)\n",
    "logreg.score(X_train_sc, y_train), logreg.score(X_test_sc, y_test)"
   ]
  },
  {
   "cell_type": "code",
   "execution_count": 86,
   "id": "f3009955-37aa-4e6b-bad5-41925ac1204d",
   "metadata": {},
   "outputs": [
    {
     "data": {
      "text/plain": [
       "(0.09966777408637874, 0.05472636815920398)"
      ]
     },
     "execution_count": 86,
     "metadata": {},
     "output_type": "execute_result"
    }
   ],
   "source": [
    "# model for year\n",
    "X = kahuna.drop(columns=['Entity', 'Year'])\n",
    "y = kahuna['Year']\n",
    "le = LabelEncoder()\n",
    "y = le.fit_transform(y)\n",
    "\n",
    "X_train, X_test, y_train, y_test = train_test_split(X, y, stratify=y, random_state=42)\n",
    "\n",
    "logreg = LogisticRegression(random_state=42, max_iter=500)\n",
    "\n",
    "logreg.fit(X_train_sc, y_train)\n",
    "logreg.score(X_train_sc, y_train), logreg.score(X_test_sc, y_test)"
   ]
  },
  {
   "cell_type": "markdown",
   "id": "f8baa546-06f6-4dda-a9d5-59c121e98835",
   "metadata": {},
   "source": [
    "#### RFC"
   ]
  },
  {
   "cell_type": "code",
   "execution_count": 84,
   "id": "1dfca53f-4b9c-43a3-83d5-585dfcf07662",
   "metadata": {},
   "outputs": [
    {
     "data": {
      "text/plain": [
       "(1.0, 0.9983416252072969)"
      ]
     },
     "execution_count": 84,
     "metadata": {},
     "output_type": "execute_result"
    }
   ],
   "source": [
    "# model for entity \n",
    "rfc = RandomForestClassifier(random_state=42)\n",
    "\n",
    "rfc.fit(X_train, y_train)\n",
    "rfc.score(X_train, y_train), rfc.score(X_test, y_test)"
   ]
  },
  {
   "cell_type": "code",
   "execution_count": 87,
   "id": "93a1a051-8188-4b1b-8c07-66aa3c350000",
   "metadata": {},
   "outputs": [
    {
     "data": {
      "text/plain": [
       "(1.0, 0.004975124378109453)"
      ]
     },
     "execution_count": 87,
     "metadata": {},
     "output_type": "execute_result"
    }
   ],
   "source": [
    "# model for year\n",
    "y = kahuna['Year']\n",
    "le = LabelEncoder()\n",
    "y = le.fit_transform(y)\n",
    "\n",
    "rfc = RandomForestClassifier(random_state=42)\n",
    "\n",
    "rfc.fit(X_train, y_train)\n",
    "rfc.score(X_train, y_train), rfc.score(X_test, y_test)"
   ]
  },
  {
   "cell_type": "markdown",
   "id": "04c351b3-4484-463a-8c68-1714d8ce751b",
   "metadata": {},
   "source": [
    "### Linear Regression for all features"
   ]
  },
  {
   "cell_type": "code",
   "execution_count": 133,
   "id": "d5bd6173-98c5-44e7-8c0d-027ae7ac3590",
   "metadata": {},
   "outputs": [
    {
     "data": {
      "text/plain": [
       "(0.1536240340629449, 0.16799949610069154)"
      ]
     },
     "execution_count": 133,
     "metadata": {},
     "output_type": "execute_result"
    }
   ],
   "source": [
    "# linear model for year\n",
    "X = kahuna.drop(columns=['Entity', 'Year'])\n",
    "y = kahuna['Year']\n",
    "\n",
    "X_train, X_test, y_train, y_test = train_test_split(X, y, random_state=42)\n",
    "\n",
    "ss = StandardScaler()\n",
    "\n",
    "X_train_sc = ss.fit_transform(X_train)\n",
    "X_test_sc = ss.transform(X_test)\n",
    "\n",
    "lr = LinearRegression()\n",
    "\n",
    "lr.fit(X_train_sc, y_train)\n",
    "lr.score(X_train_sc, y_train), lr.score(X_test_sc, y_test)"
   ]
  },
  {
   "cell_type": "code",
   "execution_count": 123,
   "id": "ca14422b-b922-4051-97e1-07f8316b388f",
   "metadata": {},
   "outputs": [
    {
     "name": "stdout",
     "output_type": "stream",
     "text": [
      "lr of Deaths % = 0.8523962833549201, 0.8521541354463075\n",
      "lr of CO2 Emissions = 0.9969166327693822, 0.9946994888629878\n",
      "lr of CO2 Emissions Per Cap = 0.7600606721522465, 0.7460238003898974\n",
      "lr of Food Emissions = 0.9411246514398702, 0.934143555325361\n",
      "lr of Total GHG = 0.994218779393425, 0.995570559535171\n",
      "lr of Consumption of Ozone = 0.6204672315432372, 0.5273364752747816\n",
      "lr of Shared CO2 Emissions = 0.989121368588543, 0.9907535757339402\n",
      "lr of Transport = 0.9914862787391939, 0.9843195435630134\n",
      "lr of Death_rate_ambient_ozone_pol = 0.5846909430655097, 0.6136773967985694\n",
      "lr of Death_rate_household_air_pol = 0.9265187773591518, 0.926602603755438\n",
      "lr of Death_rate_all_causes = 0.739499900834181, 0.7243395646254711\n",
      "lr of Death_actual_ozone = 1.0, 1.0\n",
      "lr of Death_actual_particulate = 1.0, 1.0\n",
      "lr of Death_actual_household = 0.9693547615755085, 0.974721157175885\n",
      "lr of Death_under5 = 1.0, 1.0\n",
      "lr of Death_5-14 = 1.0, 1.0\n",
      "lr of Death_50-69 = 1.0, 1.0\n",
      "lr of Death_70+ = 1.0, 1.0\n",
      "lr of Death_15-49 = 1.0, 1.0\n",
      "lr of Urban% = 0.7277908343814584, 0.7159917163892418\n",
      "lr of Child Mortality = 0.8275836839301277, 0.8368382792328076\n",
      "lr of Population = 0.222576288221784, 0.2197511497609469\n",
      "lr of GDP = 0.7898149966568602, 0.7991688812958657\n",
      "lr of Forest area = 0.6862893246082313, 0.6539408656943952\n",
      "lr of clusterx3 = 0.973109546247284, 0.9723111977312926\n",
      "lr of clusterx10 = 0.5907868420763734, 0.5605865945458194\n"
     ]
    }
   ],
   "source": [
    "lr_table = pd.DataFrame(columns=['Predictor', 'Train', 'Test'])\n",
    "for each in kahuna.drop(columns=['Entity', 'Year']).columns:\n",
    "    X = kahuna.drop(columns=['Entity', 'Year', each])\n",
    "    y = kahuna[each]\n",
    "    \n",
    "    X_train, X_test, y_train, y_test = train_test_split(X, y, random_state=42)\n",
    "    \n",
    "    # scale data\n",
    "    ss = StandardScaler()\n",
    "\n",
    "    X_train_sc = ss.fit_transform(X_train)\n",
    "    X_test_sc = ss.transform(X_test)\n",
    "    \n",
    "    lr = LinearRegression()\n",
    "    \n",
    "    lr.fit(X_train_sc, y_train)\n",
    "    n = [{'Predictor': each, 'Train': lr.score(X_train_sc, y_train) , 'Test': lr.score(X_test_sc, y_test)}]\n",
    "    lr_table.append(n)\n",
    "    print(f'lr of {each} = {lr.score(X_train_sc, y_train)}, {lr.score(X_test_sc, y_test)}')"
   ]
  },
  {
   "cell_type": "code",
   "execution_count": 130,
   "id": "031c5f73-7376-49dc-8ca0-1f45b561036f",
   "metadata": {},
   "outputs": [
    {
     "data": {
      "text/html": [
       "<div>\n",
       "<style scoped>\n",
       "    .dataframe tbody tr th:only-of-type {\n",
       "        vertical-align: middle;\n",
       "    }\n",
       "\n",
       "    .dataframe tbody tr th {\n",
       "        vertical-align: top;\n",
       "    }\n",
       "\n",
       "    .dataframe thead th {\n",
       "        text-align: right;\n",
       "    }\n",
       "</style>\n",
       "<table border=\"1\" class=\"dataframe\">\n",
       "  <thead>\n",
       "    <tr style=\"text-align: right;\">\n",
       "      <th></th>\n",
       "      <th>Predictor</th>\n",
       "      <th>Train</th>\n",
       "      <th>Test</th>\n",
       "    </tr>\n",
       "  </thead>\n",
       "  <tbody>\n",
       "  </tbody>\n",
       "</table>\n",
       "</div>"
      ],
      "text/plain": [
       "Empty DataFrame\n",
       "Columns: [Predictor, Train, Test]\n",
       "Index: []"
      ]
     },
     "execution_count": 130,
     "metadata": {},
     "output_type": "execute_result"
    }
   ],
   "source": [
    "lr_table"
   ]
  },
  {
   "cell_type": "code",
   "execution_count": 125,
   "id": "e62670d9-28cf-4d07-a55d-1cee61f3b29c",
   "metadata": {},
   "outputs": [
    {
     "data": {
      "text/html": [
       "<div>\n",
       "<style scoped>\n",
       "    .dataframe tbody tr th:only-of-type {\n",
       "        vertical-align: middle;\n",
       "    }\n",
       "\n",
       "    .dataframe tbody tr th {\n",
       "        vertical-align: top;\n",
       "    }\n",
       "\n",
       "    .dataframe thead th {\n",
       "        text-align: right;\n",
       "    }\n",
       "</style>\n",
       "<table border=\"1\" class=\"dataframe\">\n",
       "  <thead>\n",
       "    <tr style=\"text-align: right;\">\n",
       "      <th></th>\n",
       "      <th>Predictor</th>\n",
       "      <th>Train</th>\n",
       "      <th>Test</th>\n",
       "    </tr>\n",
       "  </thead>\n",
       "  <tbody>\n",
       "  </tbody>\n",
       "</table>\n",
       "</div>"
      ],
      "text/plain": [
       "Empty DataFrame\n",
       "Columns: [Predictor, Train, Test]\n",
       "Index: []"
      ]
     },
     "execution_count": 125,
     "metadata": {},
     "output_type": "execute_result"
    }
   ],
   "source": [
    "lr_table"
   ]
  },
  {
   "cell_type": "code",
   "execution_count": 126,
   "id": "7bfdfb70-0af3-4e6d-abce-de72eafb6656",
   "metadata": {},
   "outputs": [
    {
     "data": {
      "text/html": [
       "<div>\n",
       "<style scoped>\n",
       "    .dataframe tbody tr th:only-of-type {\n",
       "        vertical-align: middle;\n",
       "    }\n",
       "\n",
       "    .dataframe tbody tr th {\n",
       "        vertical-align: top;\n",
       "    }\n",
       "\n",
       "    .dataframe thead th {\n",
       "        text-align: right;\n",
       "    }\n",
       "</style>\n",
       "<table border=\"1\" class=\"dataframe\">\n",
       "  <thead>\n",
       "    <tr style=\"text-align: right;\">\n",
       "      <th></th>\n",
       "      <th>Predictor</th>\n",
       "      <th>Train</th>\n",
       "      <th>Test</th>\n",
       "    </tr>\n",
       "  </thead>\n",
       "  <tbody>\n",
       "    <tr>\n",
       "      <th>0</th>\n",
       "      <td>something</td>\n",
       "      <td>1</td>\n",
       "      <td>2</td>\n",
       "    </tr>\n",
       "  </tbody>\n",
       "</table>\n",
       "</div>"
      ],
      "text/plain": [
       "   Predictor Train Test\n",
       "0  something     1    2"
      ]
     },
     "execution_count": 126,
     "metadata": {},
     "output_type": "execute_result"
    }
   ],
   "source": [
    "lr_table.append([{'Predictor': 'something', 'Train': 1 , 'Test': 2}], ignore_index=True)"
   ]
  },
  {
   "cell_type": "code",
   "execution_count": 96,
   "id": "0cb69a29-ca70-44f5-8b9f-0cf7707ef804",
   "metadata": {},
   "outputs": [
    {
     "name": "stdout",
     "output_type": "stream",
     "text": [
      "lr of Deaths % = 0.8392082210294383, 0.842218306409522\n",
      "lr of CO2 Emissions = 0.9967503027134128, 0.994255329433339\n",
      "lr of CO2 Emissions Per Cap = 0.7515585164761336, 0.7425661262645378\n",
      "lr of Food Emissions = 0.939873177951413, 0.9305604840067169\n",
      "lr of Total GHG = 0.9940766039692084, 0.9954800997849924\n",
      "lr of Consumption of Ozone = 0.6035635842570424, 0.5746695755341524\n",
      "lr of Shared CO2 Emissions = 0.9891215591542588, 0.9907569742619967\n",
      "lr of Transport = 0.9855188011173645, 0.9662653119607584\n",
      "lr of Death_rate_ambient_ozone_pol = 0.5528228422709381, 0.5929409611578019\n",
      "lr of Death_rate_household_air_pol = 0.9121877572968468, 0.9177223566220489\n",
      "lr of Death_rate_all_causes = 0.728804171661086, 0.7143583896180135\n",
      "lr of Death_actual_ozone = 1.0, 1.0\n",
      "lr of Death_actual_particulate = 1.0, 1.0\n",
      "lr of Death_actual_household = 0.9690915780534284, 0.9741851718418292\n",
      "lr of Death_under5 = 1.0, 1.0\n",
      "lr of Death_5-14 = 1.0, 1.0\n",
      "lr of Death_50-69 = 1.0, 1.0\n",
      "lr of Death_70+ = 1.0, 1.0\n",
      "lr of Death_15-49 = 1.0, 1.0\n",
      "lr of Urban% = 0.716305808599123, 0.7081819883310625\n",
      "lr of Child Mortality = 0.8257355837098265, 0.8374268903447951\n",
      "lr of Population = 0.13734778116066804, 0.1532764805593415\n",
      "lr of GDP = 0.7764903256247458, 0.7832103934332146\n",
      "lr of Forest area = 0.6295466299010667, 0.5594609940718711\n"
     ]
    }
   ],
   "source": [
    "for each in kahuna.drop(columns=['Entity', 'Year', 'clusterx3', 'clusterx10']).columns:\n",
    "    X = kahuna.drop(columns=['Entity', 'Year', 'clusterx3', 'clusterx10', each])\n",
    "    y = kahuna[each]\n",
    "    \n",
    "    X_train, X_test, y_train, y_test = train_test_split(X, y, random_state=42)\n",
    "    \n",
    "    # scale data\n",
    "    ss = StandardScaler()\n",
    "\n",
    "    X_train_sc = ss.fit_transform(X_train)\n",
    "    X_test_sc = ss.transform(X_test)\n",
    "    \n",
    "    lr = LinearRegression()\n",
    "    \n",
    "    lr_each.fit(X_train_sc, y_train)\n",
    "    print(f'lr of {each} = {lr_each.score(X_train_sc, y_train)}, {lr_each.score(X_test_sc, y_test)}')"
   ]
  }
 ],
 "metadata": {
  "kernelspec": {
   "display_name": "Python 3 (ipykernel)",
   "language": "python",
   "name": "python3"
  },
  "language_info": {
   "codemirror_mode": {
    "name": "ipython",
    "version": 3
   },
   "file_extension": ".py",
   "mimetype": "text/x-python",
   "name": "python",
   "nbconvert_exporter": "python",
   "pygments_lexer": "ipython3",
   "version": "3.9.7"
  }
 },
 "nbformat": 4,
 "nbformat_minor": 5
}
