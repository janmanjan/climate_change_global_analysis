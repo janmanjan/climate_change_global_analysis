{
 "cells": [
  {
   "cell_type": "code",
   "execution_count": 1,
   "id": "5845340e-98b2-45e0-9549-2af65730cbb1",
   "metadata": {},
   "outputs": [],
   "source": [
    "import pandas as pd\n",
    "import numpy as np\n",
    "\n",
    "import seaborn as sns\n",
    "import matplotlib.pyplot as plt\n",
    "import matplotlib\n",
    "\n",
    "from mpl_toolkits import mplot3d\n",
    "\n",
    "import plotly\n",
    "import plotly.graph_objs as go\n",
    "import plotly.express as px\n",
    "import plotly.graph_objects as go\n",
    "from plotly.subplots import make_subplots"
   ]
  },
  {
   "cell_type": "code",
   "execution_count": 2,
   "id": "a3cdf383-89a3-4cea-afa9-055cdcf52450",
   "metadata": {},
   "outputs": [],
   "source": [
    "kahuna = pd.read_csv('../kg/kahuna.csv')\n",
    "china = kahuna[kahuna['Entity'] == 'China']\n",
    "albania = kahuna[kahuna['Entity'] == 'Albania']"
   ]
  },
  {
   "cell_type": "code",
   "execution_count": 5,
   "id": "6458f575-7244-499c-bd87-d4c143e4f03e",
   "metadata": {},
   "outputs": [
    {
     "data": {
      "text/plain": [
       "Index(['Entity', 'Year', 'Deaths %', 'CO2 Emissions', 'CO2 Emissions Per Cap',\n",
       "       'Food Emissions', 'Total GHG', 'Consumption of Ozone',\n",
       "       'Shared CO2 Emissions', 'Transport', 'Death_rate_ambient_ozone_pol',\n",
       "       'Death_rate_household_air_pol', 'Death_rate_all_causes',\n",
       "       'Death_actual_ozone', 'Death_actual_particulate',\n",
       "       'Death_actual_household', 'Death_under5', 'Death_5-14', 'Death_50-69',\n",
       "       'Death_70+', 'Death_15-49', 'Urban%', 'Child Mortality', 'Population',\n",
       "       'GDP', 'Forest area'],\n",
       "      dtype='object')"
      ]
     },
     "execution_count": 5,
     "metadata": {},
     "output_type": "execute_result"
    }
   ],
   "source": [
    "kahuna.columns"
   ]
  },
  {
   "cell_type": "code",
   "execution_count": 3,
   "id": "e0e18c18-7fcf-450e-bfd3-706ef1437045",
   "metadata": {
    "collapsed": true,
    "jupyter": {
     "outputs_hidden": true
    },
    "tags": []
   },
   "outputs": [
    {
     "ename": "ValueError",
     "evalue": "\n    Invalid element(s) received for the 'data' property of \n        Invalid elements include: [Figure({\n    'data': [{'hovertemplate': 'Deaths %=%{x}<br>CO2 Emissions=%{y}<br>Year=%{z}<extra></extra>',\n              'legendgroup': '',\n              'marker': {'color': '#636efa', 'symbol': 'circle'},\n              'mode': 'markers',\n              'name': '',\n              'scene': 'scene',\n              'showlegend': False,\n              'type': 'scatter3d',\n              'x': array([24.90534657, 24.64909641, 24.52343646, 24.34033334, 24.08804963,\n                          23.80399358, 23.55779479, 23.26251406, 22.85608269, 22.59254608,\n                          22.30296214, 22.06250975, 21.82742105, 21.56484727, 21.31368879,\n                          20.99429416, 20.66196724, 20.33773057, 19.93065155, 19.76042748,\n                          19.52747022, 19.29770879, 19.0159652 , 18.75266361]),\n              'y': array([2484854820, 2606096182, 2730787587, 2921650956, 3100002045, 3357908888,\n                          3503233703, 3510169286, 3360455433, 3350340129, 3439152210, 3514933795,\n                          3872595297, 4545013886, 5223754656, 5876555340, 6488803816, 6978611952,\n                          7496832207, 7886532768, 8616652695, 9528555734, 9775621803, 9952743755],\n                         dtype=int64),\n              'z': array([1990, 1991, 1992, 1993, 1994, 1995, 1996, 1997, 1998, 1999, 2000, 2001,\n                          2002, 2003, 2004, 2005, 2006, 2007, 2008, 2009, 2010, 2011, 2012, 2013],\n                         dtype=int64)}],\n    'layout': {'legend': {'tracegroupgap': 0},\n               'margin': {'t': 60},\n               'scene': {'domain': {'x': [0.0, 1.0], 'y': [0.0, 1.0]},\n                         'xaxis': {'title': {'text': 'Deaths %'}},\n                         'yaxis': {'title': {'text': 'CO2 Emissions'}},\n                         'zaxis': {'title': {'text': 'Year'}}},\n               'template': '...'}\n})]\n\n    The 'data' property is a tuple of trace instances\n    that may be specified as:\n      - A list or tuple of trace instances\n        (e.g. [Scatter(...), Bar(...)])\n      - A single trace instance\n        (e.g. Scatter(...), Bar(...), etc.)\n      - A list or tuple of dicts of string/value properties where:\n        - The 'type' property specifies the trace type\n            One of: ['bar', 'barpolar', 'box', 'candlestick',\n                     'carpet', 'choropleth', 'choroplethmapbox',\n                     'cone', 'contour', 'contourcarpet',\n                     'densitymapbox', 'funnel', 'funnelarea',\n                     'heatmap', 'heatmapgl', 'histogram',\n                     'histogram2d', 'histogram2dcontour', 'icicle',\n                     'image', 'indicator', 'isosurface', 'mesh3d',\n                     'ohlc', 'parcats', 'parcoords', 'pie',\n                     'pointcloud', 'sankey', 'scatter',\n                     'scatter3d', 'scattercarpet', 'scattergeo',\n                     'scattergl', 'scattermapbox', 'scatterpolar',\n                     'scatterpolargl', 'scattersmith',\n                     'scatterternary', 'splom', 'streamtube',\n                     'sunburst', 'surface', 'table', 'treemap',\n                     'violin', 'volume', 'waterfall']\n\n        - All remaining properties are passed to the constructor of\n          the specified trace type\n\n        (e.g. [{'type': 'scatter', ...}, {'type': 'bar, ...}])",
     "output_type": "error",
     "traceback": [
      "\u001b[1;31m---------------------------------------------------------------------------\u001b[0m",
      "\u001b[1;31mValueError\u001b[0m                                Traceback (most recent call last)",
      "\u001b[1;32m~\\AppData\\Local\\Temp/ipykernel_10044/3960974187.py\u001b[0m in \u001b[0;36m<module>\u001b[1;34m\u001b[0m\n\u001b[0;32m      1\u001b[0m \u001b[0mfig\u001b[0m \u001b[1;33m=\u001b[0m \u001b[0mmake_subplots\u001b[0m\u001b[1;33m(\u001b[0m\u001b[0mrows\u001b[0m\u001b[1;33m=\u001b[0m\u001b[1;36m1\u001b[0m\u001b[1;33m,\u001b[0m \u001b[0mcols\u001b[0m\u001b[1;33m=\u001b[0m\u001b[1;36m2\u001b[0m\u001b[1;33m)\u001b[0m\u001b[1;33m\u001b[0m\u001b[1;33m\u001b[0m\u001b[0m\n\u001b[1;32m----> 2\u001b[1;33m \u001b[0mfig\u001b[0m\u001b[1;33m.\u001b[0m\u001b[0madd_trace\u001b[0m\u001b[1;33m(\u001b[0m\u001b[0mpx\u001b[0m\u001b[1;33m.\u001b[0m\u001b[0mscatter_3d\u001b[0m\u001b[1;33m(\u001b[0m\u001b[0mchina\u001b[0m\u001b[1;33m,\u001b[0m \u001b[0mx\u001b[0m\u001b[1;33m=\u001b[0m\u001b[1;34m'Deaths %'\u001b[0m\u001b[1;33m,\u001b[0m \u001b[0my\u001b[0m\u001b[1;33m=\u001b[0m\u001b[1;34m'CO2 Emissions'\u001b[0m\u001b[1;33m,\u001b[0m \u001b[0mz\u001b[0m\u001b[1;33m=\u001b[0m\u001b[1;34m'Year'\u001b[0m\u001b[1;33m)\u001b[0m\u001b[1;33m,\u001b[0m \u001b[0mrow\u001b[0m\u001b[1;33m=\u001b[0m\u001b[1;36m1\u001b[0m\u001b[1;33m,\u001b[0m \u001b[0mcol\u001b[0m\u001b[1;33m=\u001b[0m\u001b[1;36m1\u001b[0m\u001b[1;33m)\u001b[0m\u001b[1;33m\u001b[0m\u001b[1;33m\u001b[0m\u001b[0m\n\u001b[0m\u001b[0;32m      3\u001b[0m \u001b[0mfig\u001b[0m\u001b[1;33m.\u001b[0m\u001b[0madd_trace\u001b[0m\u001b[1;33m(\u001b[0m\u001b[0mpx\u001b[0m\u001b[1;33m.\u001b[0m\u001b[0mscatter_3d\u001b[0m\u001b[1;33m(\u001b[0m\u001b[0malbania\u001b[0m\u001b[1;33m,\u001b[0m \u001b[0mx\u001b[0m\u001b[1;33m=\u001b[0m\u001b[1;34m'Deaths %'\u001b[0m\u001b[1;33m,\u001b[0m \u001b[0my\u001b[0m\u001b[1;33m=\u001b[0m\u001b[1;34m'CO2 Emissions'\u001b[0m\u001b[1;33m,\u001b[0m \u001b[0mz\u001b[0m\u001b[1;33m=\u001b[0m\u001b[1;34m'Year'\u001b[0m\u001b[1;33m)\u001b[0m\u001b[1;33m,\u001b[0m \u001b[0mrow\u001b[0m\u001b[1;33m=\u001b[0m\u001b[1;36m1\u001b[0m\u001b[1;33m,\u001b[0m \u001b[0mcol\u001b[0m\u001b[1;33m=\u001b[0m\u001b[1;36m2\u001b[0m\u001b[1;33m)\u001b[0m\u001b[1;33m\u001b[0m\u001b[1;33m\u001b[0m\u001b[0m\n\u001b[0;32m      4\u001b[0m \u001b[0mfig\u001b[0m\u001b[1;33m.\u001b[0m\u001b[0mshow\u001b[0m\u001b[1;33m(\u001b[0m\u001b[1;33m)\u001b[0m\u001b[1;33m\u001b[0m\u001b[1;33m\u001b[0m\u001b[0m\n",
      "\u001b[1;32m~\\anaconda3\\lib\\site-packages\\plotly\\basedatatypes.py\u001b[0m in \u001b[0;36madd_trace\u001b[1;34m(self, trace, row, col, secondary_y, exclude_empty_subplots)\u001b[0m\n\u001b[0;32m   2097\u001b[0m             \u001b[1;32mreturn\u001b[0m \u001b[0mself\u001b[0m\u001b[1;33m\u001b[0m\u001b[1;33m\u001b[0m\u001b[0m\n\u001b[0;32m   2098\u001b[0m \u001b[1;33m\u001b[0m\u001b[0m\n\u001b[1;32m-> 2099\u001b[1;33m         return self.add_traces(\n\u001b[0m\u001b[0;32m   2100\u001b[0m             \u001b[0mdata\u001b[0m\u001b[1;33m=\u001b[0m\u001b[1;33m[\u001b[0m\u001b[0mtrace\u001b[0m\u001b[1;33m]\u001b[0m\u001b[1;33m,\u001b[0m\u001b[1;33m\u001b[0m\u001b[1;33m\u001b[0m\u001b[0m\n\u001b[0;32m   2101\u001b[0m             \u001b[0mrows\u001b[0m\u001b[1;33m=\u001b[0m\u001b[1;33m[\u001b[0m\u001b[0mrow\u001b[0m\u001b[1;33m]\u001b[0m \u001b[1;32mif\u001b[0m \u001b[0mrow\u001b[0m \u001b[1;32mis\u001b[0m \u001b[1;32mnot\u001b[0m \u001b[1;32mNone\u001b[0m \u001b[1;32melse\u001b[0m \u001b[1;32mNone\u001b[0m\u001b[1;33m,\u001b[0m\u001b[1;33m\u001b[0m\u001b[1;33m\u001b[0m\u001b[0m\n",
      "\u001b[1;32m~\\anaconda3\\lib\\site-packages\\plotly\\basedatatypes.py\u001b[0m in \u001b[0;36madd_traces\u001b[1;34m(self, data, rows, cols, secondary_ys, exclude_empty_subplots)\u001b[0m\n\u001b[0;32m   2181\u001b[0m \u001b[1;33m\u001b[0m\u001b[0m\n\u001b[0;32m   2182\u001b[0m         \u001b[1;31m# Validate traces\u001b[0m\u001b[1;33m\u001b[0m\u001b[1;33m\u001b[0m\u001b[0m\n\u001b[1;32m-> 2183\u001b[1;33m         \u001b[0mdata\u001b[0m \u001b[1;33m=\u001b[0m \u001b[0mself\u001b[0m\u001b[1;33m.\u001b[0m\u001b[0m_data_validator\u001b[0m\u001b[1;33m.\u001b[0m\u001b[0mvalidate_coerce\u001b[0m\u001b[1;33m(\u001b[0m\u001b[0mdata\u001b[0m\u001b[1;33m)\u001b[0m\u001b[1;33m\u001b[0m\u001b[1;33m\u001b[0m\u001b[0m\n\u001b[0m\u001b[0;32m   2184\u001b[0m \u001b[1;33m\u001b[0m\u001b[0m\n\u001b[0;32m   2185\u001b[0m         \u001b[1;31m# Set trace indexes\u001b[0m\u001b[1;33m\u001b[0m\u001b[1;33m\u001b[0m\u001b[0m\n",
      "\u001b[1;32m~\\anaconda3\\lib\\site-packages\\_plotly_utils\\basevalidators.py\u001b[0m in \u001b[0;36mvalidate_coerce\u001b[1;34m(self, v, skip_invalid, _validate)\u001b[0m\n\u001b[0;32m   2692\u001b[0m \u001b[1;33m\u001b[0m\u001b[0m\n\u001b[0;32m   2693\u001b[0m             \u001b[1;32mif\u001b[0m \u001b[0minvalid_els\u001b[0m\u001b[1;33m:\u001b[0m\u001b[1;33m\u001b[0m\u001b[1;33m\u001b[0m\u001b[0m\n\u001b[1;32m-> 2694\u001b[1;33m                 \u001b[0mself\u001b[0m\u001b[1;33m.\u001b[0m\u001b[0mraise_invalid_elements\u001b[0m\u001b[1;33m(\u001b[0m\u001b[0minvalid_els\u001b[0m\u001b[1;33m)\u001b[0m\u001b[1;33m\u001b[0m\u001b[1;33m\u001b[0m\u001b[0m\n\u001b[0m\u001b[0;32m   2695\u001b[0m \u001b[1;33m\u001b[0m\u001b[0m\n\u001b[0;32m   2696\u001b[0m             \u001b[0mv\u001b[0m \u001b[1;33m=\u001b[0m \u001b[0mto_scalar_or_list\u001b[0m\u001b[1;33m(\u001b[0m\u001b[0mres\u001b[0m\u001b[1;33m)\u001b[0m\u001b[1;33m\u001b[0m\u001b[1;33m\u001b[0m\u001b[0m\n",
      "\u001b[1;32m~\\anaconda3\\lib\\site-packages\\_plotly_utils\\basevalidators.py\u001b[0m in \u001b[0;36mraise_invalid_elements\u001b[1;34m(self, invalid_els)\u001b[0m\n\u001b[0;32m    303\u001b[0m     \u001b[1;32mdef\u001b[0m \u001b[0mraise_invalid_elements\u001b[0m\u001b[1;33m(\u001b[0m\u001b[0mself\u001b[0m\u001b[1;33m,\u001b[0m \u001b[0minvalid_els\u001b[0m\u001b[1;33m)\u001b[0m\u001b[1;33m:\u001b[0m\u001b[1;33m\u001b[0m\u001b[1;33m\u001b[0m\u001b[0m\n\u001b[0;32m    304\u001b[0m         \u001b[1;32mif\u001b[0m \u001b[0minvalid_els\u001b[0m\u001b[1;33m:\u001b[0m\u001b[1;33m\u001b[0m\u001b[1;33m\u001b[0m\u001b[0m\n\u001b[1;32m--> 305\u001b[1;33m             raise ValueError(\n\u001b[0m\u001b[0;32m    306\u001b[0m                 \"\"\"\n\u001b[0;32m    307\u001b[0m     \u001b[0mInvalid\u001b[0m \u001b[0melement\u001b[0m\u001b[1;33m(\u001b[0m\u001b[0ms\u001b[0m\u001b[1;33m)\u001b[0m \u001b[0mreceived\u001b[0m \u001b[1;32mfor\u001b[0m \u001b[0mthe\u001b[0m \u001b[1;34m'{name}'\u001b[0m \u001b[0mproperty\u001b[0m \u001b[0mof\u001b[0m \u001b[1;33m{\u001b[0m\u001b[0mpname\u001b[0m\u001b[1;33m}\u001b[0m\u001b[1;33m\u001b[0m\u001b[1;33m\u001b[0m\u001b[0m\n",
      "\u001b[1;31mValueError\u001b[0m: \n    Invalid element(s) received for the 'data' property of \n        Invalid elements include: [Figure({\n    'data': [{'hovertemplate': 'Deaths %=%{x}<br>CO2 Emissions=%{y}<br>Year=%{z}<extra></extra>',\n              'legendgroup': '',\n              'marker': {'color': '#636efa', 'symbol': 'circle'},\n              'mode': 'markers',\n              'name': '',\n              'scene': 'scene',\n              'showlegend': False,\n              'type': 'scatter3d',\n              'x': array([24.90534657, 24.64909641, 24.52343646, 24.34033334, 24.08804963,\n                          23.80399358, 23.55779479, 23.26251406, 22.85608269, 22.59254608,\n                          22.30296214, 22.06250975, 21.82742105, 21.56484727, 21.31368879,\n                          20.99429416, 20.66196724, 20.33773057, 19.93065155, 19.76042748,\n                          19.52747022, 19.29770879, 19.0159652 , 18.75266361]),\n              'y': array([2484854820, 2606096182, 2730787587, 2921650956, 3100002045, 3357908888,\n                          3503233703, 3510169286, 3360455433, 3350340129, 3439152210, 3514933795,\n                          3872595297, 4545013886, 5223754656, 5876555340, 6488803816, 6978611952,\n                          7496832207, 7886532768, 8616652695, 9528555734, 9775621803, 9952743755],\n                         dtype=int64),\n              'z': array([1990, 1991, 1992, 1993, 1994, 1995, 1996, 1997, 1998, 1999, 2000, 2001,\n                          2002, 2003, 2004, 2005, 2006, 2007, 2008, 2009, 2010, 2011, 2012, 2013],\n                         dtype=int64)}],\n    'layout': {'legend': {'tracegroupgap': 0},\n               'margin': {'t': 60},\n               'scene': {'domain': {'x': [0.0, 1.0], 'y': [0.0, 1.0]},\n                         'xaxis': {'title': {'text': 'Deaths %'}},\n                         'yaxis': {'title': {'text': 'CO2 Emissions'}},\n                         'zaxis': {'title': {'text': 'Year'}}},\n               'template': '...'}\n})]\n\n    The 'data' property is a tuple of trace instances\n    that may be specified as:\n      - A list or tuple of trace instances\n        (e.g. [Scatter(...), Bar(...)])\n      - A single trace instance\n        (e.g. Scatter(...), Bar(...), etc.)\n      - A list or tuple of dicts of string/value properties where:\n        - The 'type' property specifies the trace type\n            One of: ['bar', 'barpolar', 'box', 'candlestick',\n                     'carpet', 'choropleth', 'choroplethmapbox',\n                     'cone', 'contour', 'contourcarpet',\n                     'densitymapbox', 'funnel', 'funnelarea',\n                     'heatmap', 'heatmapgl', 'histogram',\n                     'histogram2d', 'histogram2dcontour', 'icicle',\n                     'image', 'indicator', 'isosurface', 'mesh3d',\n                     'ohlc', 'parcats', 'parcoords', 'pie',\n                     'pointcloud', 'sankey', 'scatter',\n                     'scatter3d', 'scattercarpet', 'scattergeo',\n                     'scattergl', 'scattermapbox', 'scatterpolar',\n                     'scatterpolargl', 'scattersmith',\n                     'scatterternary', 'splom', 'streamtube',\n                     'sunburst', 'surface', 'table', 'treemap',\n                     'violin', 'volume', 'waterfall']\n\n        - All remaining properties are passed to the constructor of\n          the specified trace type\n\n        (e.g. [{'type': 'scatter', ...}, {'type': 'bar, ...}])"
     ]
    }
   ],
   "source": [
    "fig = make_subplots(rows=1, cols=2)\n",
    "fig.add_trace(px.scatter_3d(china, x='Deaths %', y='CO2 Emissions', z='Year'), row=1, col=1) \n",
    "fig.add_trace(px.scatter_3d(albania, x='Deaths %', y='CO2 Emissions', z='Year'), row=1, col=2) \n",
    "fig.show()"
   ]
  },
  {
   "cell_type": "code",
   "execution_count": null,
   "id": "c1f22c40-4d0c-43f6-807c-fb6f3a203fd4",
   "metadata": {},
   "outputs": [],
   "source": [
    "years = kahuna[kahuna['Year'] == 2010]"
   ]
  },
  {
   "cell_type": "code",
   "execution_count": null,
   "id": "1c3a866e-47ba-49bd-8f81-107fbacc3d3f",
   "metadata": {},
   "outputs": [],
   "source": [
    "china.columns"
   ]
  },
  {
   "cell_type": "code",
   "execution_count": null,
   "id": "61bcd487-b3a2-4f36-8478-5ed26a8004f3",
   "metadata": {},
   "outputs": [],
   "source": [
    "trace3 = px.scatter_3d(china, x='Deaths %', y='CO2 Emissions', z='Year')\n",
    "trace4 = px.scatter_3d(albania, x='Deaths %', y='CO2 Emissions', z='Year', size='Food Emissions', color='GDP', template='plotly_dark')"
   ]
  },
  {
   "cell_type": "code",
   "execution_count": null,
   "id": "3eecdb77-1d13-46db-b664-418e584a9c9f",
   "metadata": {},
<<<<<<< HEAD
   "outputs": [],
=======
   "outputs": [
    {
     "data": {
      "application/vnd.plotly.v1+json": {
       "config": {
        "plotlyServerURL": "https://plot.ly"
       },
       "data": [
        {
         "hovertemplate": "Deaths %=%{x}<br>CO2 Emissions=%{y}<br>Year=%{z}<br>Food Emissions=%{marker.size}<br>GDP=%{marker.color}<extra></extra>",
         "legendgroup": "",
         "marker": {
          "color": [
           3496.58024610028,
           4471.87106998715,
           4909.22810492363,
           4400.57782736551,
           4819.38753360483,
           5475.16913542593,
           5893.13623256329,
           6441.85345238676,
           6754.53600301332,
           7154.78482512179,
           7580.62909108667,
           8040.87871678112,
           8569.19111251045,
           9150.51874704368,
           9912.57724242974,
           10313.926441304,
           10749.4874481658,
           11052.7904635136,
           11227.9944871972,
           11361.2936763788
          ],
          "coloraxis": "coloraxis",
          "size": [
           4011691,
           4861321.1,
           4569702.9,
           4431656.699999999,
           4344061.6,
           5023923.6,
           5101107.800000001,
           4575924.399999999,
           4684049.6,
           4722376.1,
           4518229.5,
           4334797.199999999,
           4936721.699999999,
           5025279.600000001,
           4437475,
           4323953.1,
           4581993.8,
           4699482.1,
           4543709.1,
           4380111.1
          ],
          "sizemode": "area",
          "sizeref": 12752.769500000002,
          "symbol": "circle"
         },
         "mode": "markers",
         "name": "",
         "scene": "scene",
         "showlegend": false,
         "type": "scatter3d",
         "x": [
          17.61363627068305,
          16.789055307843732,
          16.58845124390368,
          15.08136050029213,
          15.96579619544565,
          15.627983920194598,
          15.26503546491271,
          14.87054554122487,
          14.62721504292272,
          14.38826274910754,
          13.99610828703761,
          13.60177777203099,
          13.10393621877028,
          12.62515920983168,
          12.27001805052704,
          11.93326026581502,
          11.55165282063434,
          11.27640652128524,
          10.98630651599224,
          10.74092034899868
         ],
         "y": [
          4228256,
          2066496,
          1993216,
          1531552,
          1744064,
          2975168,
          3004480,
          3220656,
          3748272,
          4231920,
          4103680,
          4198944,
          3843536,
          3828880,
          4272224,
          4253904,
          4448096,
          5030672,
          4667936,
          4928080
         ],
         "z": [
          1991,
          1995,
          1996,
          1997,
          1998,
          1999,
          2000,
          2001,
          2002,
          2003,
          2004,
          2005,
          2006,
          2007,
          2008,
          2009,
          2010,
          2011,
          2012,
          2013
         ]
        }
       ],
       "layout": {
        "autosize": true,
        "coloraxis": {
         "colorbar": {
          "title": {
           "text": "GDP"
          }
         },
         "colorscale": [
          [
           0,
           "#0d0887"
          ],
          [
           0.1111111111111111,
           "#46039f"
          ],
          [
           0.2222222222222222,
           "#7201a8"
          ],
          [
           0.3333333333333333,
           "#9c179e"
          ],
          [
           0.4444444444444444,
           "#bd3786"
          ],
          [
           0.5555555555555556,
           "#d8576b"
          ],
          [
           0.6666666666666666,
           "#ed7953"
          ],
          [
           0.7777777777777778,
           "#fb9f3a"
          ],
          [
           0.8888888888888888,
           "#fdca26"
          ],
          [
           1,
           "#f0f921"
          ]
         ]
        },
        "legend": {
         "itemsizing": "constant",
         "tracegroupgap": 0
        },
        "margin": {
         "t": 60
        },
        "scene": {
         "aspectmode": "auto",
         "aspectratio": {
          "x": 1,
          "y": 1,
          "z": 1
         },
         "camera": {
          "center": {
           "x": 0,
           "y": 0,
           "z": 0
          },
          "eye": {
           "x": 1.2255780968798728,
           "y": 2.054441903572447,
           "z": 1.19671451749532
          },
          "projection": {
           "type": "perspective"
          },
          "up": {
           "x": -0.26338848514958296,
           "y": -0.3634108372407192,
           "z": 0.8936213231937832
          }
         },
         "domain": {
          "x": [
           0,
           1
          ],
          "y": [
           0,
           1
          ]
         },
         "xaxis": {
          "title": {
           "text": "Deaths %"
          },
          "type": "linear"
         },
         "yaxis": {
          "title": {
           "text": "CO2 Emissions"
          },
          "type": "linear"
         },
         "zaxis": {
          "title": {
           "text": "Year"
          },
          "type": "linear"
         }
        },
        "template": {
         "data": {
          "bar": [
           {
            "error_x": {
             "color": "#f2f5fa"
            },
            "error_y": {
             "color": "#f2f5fa"
            },
            "marker": {
             "line": {
              "color": "rgb(17,17,17)",
              "width": 0.5
             },
             "pattern": {
              "fillmode": "overlay",
              "size": 10,
              "solidity": 0.2
             }
            },
            "type": "bar"
           }
          ],
          "barpolar": [
           {
            "marker": {
             "line": {
              "color": "rgb(17,17,17)",
              "width": 0.5
             },
             "pattern": {
              "fillmode": "overlay",
              "size": 10,
              "solidity": 0.2
             }
            },
            "type": "barpolar"
           }
          ],
          "carpet": [
           {
            "aaxis": {
             "endlinecolor": "#A2B1C6",
             "gridcolor": "#506784",
             "linecolor": "#506784",
             "minorgridcolor": "#506784",
             "startlinecolor": "#A2B1C6"
            },
            "baxis": {
             "endlinecolor": "#A2B1C6",
             "gridcolor": "#506784",
             "linecolor": "#506784",
             "minorgridcolor": "#506784",
             "startlinecolor": "#A2B1C6"
            },
            "type": "carpet"
           }
          ],
          "choropleth": [
           {
            "colorbar": {
             "outlinewidth": 0,
             "ticks": ""
            },
            "type": "choropleth"
           }
          ],
          "contour": [
           {
            "colorbar": {
             "outlinewidth": 0,
             "ticks": ""
            },
            "colorscale": [
             [
              0,
              "#0d0887"
             ],
             [
              0.1111111111111111,
              "#46039f"
             ],
             [
              0.2222222222222222,
              "#7201a8"
             ],
             [
              0.3333333333333333,
              "#9c179e"
             ],
             [
              0.4444444444444444,
              "#bd3786"
             ],
             [
              0.5555555555555556,
              "#d8576b"
             ],
             [
              0.6666666666666666,
              "#ed7953"
             ],
             [
              0.7777777777777778,
              "#fb9f3a"
             ],
             [
              0.8888888888888888,
              "#fdca26"
             ],
             [
              1,
              "#f0f921"
             ]
            ],
            "type": "contour"
           }
          ],
          "contourcarpet": [
           {
            "colorbar": {
             "outlinewidth": 0,
             "ticks": ""
            },
            "type": "contourcarpet"
           }
          ],
          "heatmap": [
           {
            "colorbar": {
             "outlinewidth": 0,
             "ticks": ""
            },
            "colorscale": [
             [
              0,
              "#0d0887"
             ],
             [
              0.1111111111111111,
              "#46039f"
             ],
             [
              0.2222222222222222,
              "#7201a8"
             ],
             [
              0.3333333333333333,
              "#9c179e"
             ],
             [
              0.4444444444444444,
              "#bd3786"
             ],
             [
              0.5555555555555556,
              "#d8576b"
             ],
             [
              0.6666666666666666,
              "#ed7953"
             ],
             [
              0.7777777777777778,
              "#fb9f3a"
             ],
             [
              0.8888888888888888,
              "#fdca26"
             ],
             [
              1,
              "#f0f921"
             ]
            ],
            "type": "heatmap"
           }
          ],
          "heatmapgl": [
           {
            "colorbar": {
             "outlinewidth": 0,
             "ticks": ""
            },
            "colorscale": [
             [
              0,
              "#0d0887"
             ],
             [
              0.1111111111111111,
              "#46039f"
             ],
             [
              0.2222222222222222,
              "#7201a8"
             ],
             [
              0.3333333333333333,
              "#9c179e"
             ],
             [
              0.4444444444444444,
              "#bd3786"
             ],
             [
              0.5555555555555556,
              "#d8576b"
             ],
             [
              0.6666666666666666,
              "#ed7953"
             ],
             [
              0.7777777777777778,
              "#fb9f3a"
             ],
             [
              0.8888888888888888,
              "#fdca26"
             ],
             [
              1,
              "#f0f921"
             ]
            ],
            "type": "heatmapgl"
           }
          ],
          "histogram": [
           {
            "marker": {
             "pattern": {
              "fillmode": "overlay",
              "size": 10,
              "solidity": 0.2
             }
            },
            "type": "histogram"
           }
          ],
          "histogram2d": [
           {
            "colorbar": {
             "outlinewidth": 0,
             "ticks": ""
            },
            "colorscale": [
             [
              0,
              "#0d0887"
             ],
             [
              0.1111111111111111,
              "#46039f"
             ],
             [
              0.2222222222222222,
              "#7201a8"
             ],
             [
              0.3333333333333333,
              "#9c179e"
             ],
             [
              0.4444444444444444,
              "#bd3786"
             ],
             [
              0.5555555555555556,
              "#d8576b"
             ],
             [
              0.6666666666666666,
              "#ed7953"
             ],
             [
              0.7777777777777778,
              "#fb9f3a"
             ],
             [
              0.8888888888888888,
              "#fdca26"
             ],
             [
              1,
              "#f0f921"
             ]
            ],
            "type": "histogram2d"
           }
          ],
          "histogram2dcontour": [
           {
            "colorbar": {
             "outlinewidth": 0,
             "ticks": ""
            },
            "colorscale": [
             [
              0,
              "#0d0887"
             ],
             [
              0.1111111111111111,
              "#46039f"
             ],
             [
              0.2222222222222222,
              "#7201a8"
             ],
             [
              0.3333333333333333,
              "#9c179e"
             ],
             [
              0.4444444444444444,
              "#bd3786"
             ],
             [
              0.5555555555555556,
              "#d8576b"
             ],
             [
              0.6666666666666666,
              "#ed7953"
             ],
             [
              0.7777777777777778,
              "#fb9f3a"
             ],
             [
              0.8888888888888888,
              "#fdca26"
             ],
             [
              1,
              "#f0f921"
             ]
            ],
            "type": "histogram2dcontour"
           }
          ],
          "mesh3d": [
           {
            "colorbar": {
             "outlinewidth": 0,
             "ticks": ""
            },
            "type": "mesh3d"
           }
          ],
          "parcoords": [
           {
            "line": {
             "colorbar": {
              "outlinewidth": 0,
              "ticks": ""
             }
            },
            "type": "parcoords"
           }
          ],
          "pie": [
           {
            "automargin": true,
            "type": "pie"
           }
          ],
          "scatter": [
           {
            "marker": {
             "line": {
              "color": "#283442"
             }
            },
            "type": "scatter"
           }
          ],
          "scatter3d": [
           {
            "line": {
             "colorbar": {
              "outlinewidth": 0,
              "ticks": ""
             }
            },
            "marker": {
             "colorbar": {
              "outlinewidth": 0,
              "ticks": ""
             }
            },
            "type": "scatter3d"
           }
          ],
          "scattercarpet": [
           {
            "marker": {
             "colorbar": {
              "outlinewidth": 0,
              "ticks": ""
             }
            },
            "type": "scattercarpet"
           }
          ],
          "scattergeo": [
           {
            "marker": {
             "colorbar": {
              "outlinewidth": 0,
              "ticks": ""
             }
            },
            "type": "scattergeo"
           }
          ],
          "scattergl": [
           {
            "marker": {
             "line": {
              "color": "#283442"
             }
            },
            "type": "scattergl"
           }
          ],
          "scattermapbox": [
           {
            "marker": {
             "colorbar": {
              "outlinewidth": 0,
              "ticks": ""
             }
            },
            "type": "scattermapbox"
           }
          ],
          "scatterpolar": [
           {
            "marker": {
             "colorbar": {
              "outlinewidth": 0,
              "ticks": ""
             }
            },
            "type": "scatterpolar"
           }
          ],
          "scatterpolargl": [
           {
            "marker": {
             "colorbar": {
              "outlinewidth": 0,
              "ticks": ""
             }
            },
            "type": "scatterpolargl"
           }
          ],
          "scatterternary": [
           {
            "marker": {
             "colorbar": {
              "outlinewidth": 0,
              "ticks": ""
             }
            },
            "type": "scatterternary"
           }
          ],
          "surface": [
           {
            "colorbar": {
             "outlinewidth": 0,
             "ticks": ""
            },
            "colorscale": [
             [
              0,
              "#0d0887"
             ],
             [
              0.1111111111111111,
              "#46039f"
             ],
             [
              0.2222222222222222,
              "#7201a8"
             ],
             [
              0.3333333333333333,
              "#9c179e"
             ],
             [
              0.4444444444444444,
              "#bd3786"
             ],
             [
              0.5555555555555556,
              "#d8576b"
             ],
             [
              0.6666666666666666,
              "#ed7953"
             ],
             [
              0.7777777777777778,
              "#fb9f3a"
             ],
             [
              0.8888888888888888,
              "#fdca26"
             ],
             [
              1,
              "#f0f921"
             ]
            ],
            "type": "surface"
           }
          ],
          "table": [
           {
            "cells": {
             "fill": {
              "color": "#506784"
             },
             "line": {
              "color": "rgb(17,17,17)"
             }
            },
            "header": {
             "fill": {
              "color": "#2a3f5f"
             },
             "line": {
              "color": "rgb(17,17,17)"
             }
            },
            "type": "table"
           }
          ]
         },
         "layout": {
          "annotationdefaults": {
           "arrowcolor": "#f2f5fa",
           "arrowhead": 0,
           "arrowwidth": 1
          },
          "autotypenumbers": "strict",
          "coloraxis": {
           "colorbar": {
            "outlinewidth": 0,
            "ticks": ""
           }
          },
          "colorscale": {
           "diverging": [
            [
             0,
             "#8e0152"
            ],
            [
             0.1,
             "#c51b7d"
            ],
            [
             0.2,
             "#de77ae"
            ],
            [
             0.3,
             "#f1b6da"
            ],
            [
             0.4,
             "#fde0ef"
            ],
            [
             0.5,
             "#f7f7f7"
            ],
            [
             0.6,
             "#e6f5d0"
            ],
            [
             0.7,
             "#b8e186"
            ],
            [
             0.8,
             "#7fbc41"
            ],
            [
             0.9,
             "#4d9221"
            ],
            [
             1,
             "#276419"
            ]
           ],
           "sequential": [
            [
             0,
             "#0d0887"
            ],
            [
             0.1111111111111111,
             "#46039f"
            ],
            [
             0.2222222222222222,
             "#7201a8"
            ],
            [
             0.3333333333333333,
             "#9c179e"
            ],
            [
             0.4444444444444444,
             "#bd3786"
            ],
            [
             0.5555555555555556,
             "#d8576b"
            ],
            [
             0.6666666666666666,
             "#ed7953"
            ],
            [
             0.7777777777777778,
             "#fb9f3a"
            ],
            [
             0.8888888888888888,
             "#fdca26"
            ],
            [
             1,
             "#f0f921"
            ]
           ],
           "sequentialminus": [
            [
             0,
             "#0d0887"
            ],
            [
             0.1111111111111111,
             "#46039f"
            ],
            [
             0.2222222222222222,
             "#7201a8"
            ],
            [
             0.3333333333333333,
             "#9c179e"
            ],
            [
             0.4444444444444444,
             "#bd3786"
            ],
            [
             0.5555555555555556,
             "#d8576b"
            ],
            [
             0.6666666666666666,
             "#ed7953"
            ],
            [
             0.7777777777777778,
             "#fb9f3a"
            ],
            [
             0.8888888888888888,
             "#fdca26"
            ],
            [
             1,
             "#f0f921"
            ]
           ]
          },
          "colorway": [
           "#636efa",
           "#EF553B",
           "#00cc96",
           "#ab63fa",
           "#FFA15A",
           "#19d3f3",
           "#FF6692",
           "#B6E880",
           "#FF97FF",
           "#FECB52"
          ],
          "font": {
           "color": "#f2f5fa"
          },
          "geo": {
           "bgcolor": "rgb(17,17,17)",
           "lakecolor": "rgb(17,17,17)",
           "landcolor": "rgb(17,17,17)",
           "showlakes": true,
           "showland": true,
           "subunitcolor": "#506784"
          },
          "hoverlabel": {
           "align": "left"
          },
          "hovermode": "closest",
          "mapbox": {
           "style": "dark"
          },
          "paper_bgcolor": "rgb(17,17,17)",
          "plot_bgcolor": "rgb(17,17,17)",
          "polar": {
           "angularaxis": {
            "gridcolor": "#506784",
            "linecolor": "#506784",
            "ticks": ""
           },
           "bgcolor": "rgb(17,17,17)",
           "radialaxis": {
            "gridcolor": "#506784",
            "linecolor": "#506784",
            "ticks": ""
           }
          },
          "scene": {
           "xaxis": {
            "backgroundcolor": "rgb(17,17,17)",
            "gridcolor": "#506784",
            "gridwidth": 2,
            "linecolor": "#506784",
            "showbackground": true,
            "ticks": "",
            "zerolinecolor": "#C8D4E3"
           },
           "yaxis": {
            "backgroundcolor": "rgb(17,17,17)",
            "gridcolor": "#506784",
            "gridwidth": 2,
            "linecolor": "#506784",
            "showbackground": true,
            "ticks": "",
            "zerolinecolor": "#C8D4E3"
           },
           "zaxis": {
            "backgroundcolor": "rgb(17,17,17)",
            "gridcolor": "#506784",
            "gridwidth": 2,
            "linecolor": "#506784",
            "showbackground": true,
            "ticks": "",
            "zerolinecolor": "#C8D4E3"
           }
          },
          "shapedefaults": {
           "line": {
            "color": "#f2f5fa"
           }
          },
          "sliderdefaults": {
           "bgcolor": "#C8D4E3",
           "bordercolor": "rgb(17,17,17)",
           "borderwidth": 1,
           "tickwidth": 0
          },
          "ternary": {
           "aaxis": {
            "gridcolor": "#506784",
            "linecolor": "#506784",
            "ticks": ""
           },
           "baxis": {
            "gridcolor": "#506784",
            "linecolor": "#506784",
            "ticks": ""
           },
           "bgcolor": "rgb(17,17,17)",
           "caxis": {
            "gridcolor": "#506784",
            "linecolor": "#506784",
            "ticks": ""
           }
          },
          "title": {
           "x": 0.05
          },
          "updatemenudefaults": {
           "bgcolor": "#506784",
           "borderwidth": 0
          },
          "xaxis": {
           "automargin": true,
           "gridcolor": "#283442",
           "linecolor": "#506784",
           "ticks": "",
           "title": {
            "standoff": 15
           },
           "zerolinecolor": "#283442",
           "zerolinewidth": 2
          },
          "yaxis": {
           "automargin": true,
           "gridcolor": "#283442",
           "linecolor": "#506784",
           "ticks": "",
           "title": {
            "standoff": 15
           },
           "zerolinecolor": "#283442",
           "zerolinewidth": 2
          }
         }
        }
       }
      },
      "image/png": "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",
      "text/html": [
       "<div>                            <div id=\"120f2306-c36a-454e-a646-34b1c1672266\" class=\"plotly-graph-div\" style=\"height:525px; width:100%;\"></div>            <script type=\"text/javascript\">                require([\"plotly\"], function(Plotly) {                    window.PLOTLYENV=window.PLOTLYENV || {};                                    if (document.getElementById(\"120f2306-c36a-454e-a646-34b1c1672266\")) {                    Plotly.newPlot(                        \"120f2306-c36a-454e-a646-34b1c1672266\",                        [{\"hovertemplate\":\"Deaths %=%{x}<br>CO2 Emissions=%{y}<br>Year=%{z}<br>Food Emissions=%{marker.size}<br>GDP=%{marker.color}<extra></extra>\",\"legendgroup\":\"\",\"marker\":{\"color\":[3496.58024610028,4471.87106998715,4909.22810492363,4400.57782736551,4819.38753360483,5475.16913542593,5893.13623256329,6441.85345238676,6754.53600301332,7154.78482512179,7580.62909108667,8040.87871678112,8569.19111251045,9150.51874704368,9912.57724242974,10313.926441304,10749.4874481658,11052.7904635136,11227.9944871972,11361.2936763788],\"coloraxis\":\"coloraxis\",\"size\":[4011691.0,4861321.1,4569702.9,4431656.699999999,4344061.6,5023923.6,5101107.800000001,4575924.399999999,4684049.6,4722376.1,4518229.5,4334797.199999999,4936721.699999999,5025279.600000001,4437475.0,4323953.1,4581993.8,4699482.1,4543709.1,4380111.1],\"sizemode\":\"area\",\"sizeref\":12752.769500000002,\"symbol\":\"circle\"},\"mode\":\"markers\",\"name\":\"\",\"scene\":\"scene\",\"showlegend\":false,\"x\":[17.61363627068305,16.789055307843732,16.58845124390368,15.08136050029213,15.96579619544565,15.627983920194598,15.26503546491271,14.87054554122487,14.62721504292272,14.38826274910754,13.99610828703761,13.60177777203099,13.10393621877028,12.62515920983168,12.27001805052704,11.93326026581502,11.55165282063434,11.27640652128524,10.98630651599224,10.74092034899868],\"y\":[4228256,2066496,1993216,1531552,1744064,2975168,3004480,3220656,3748272,4231920,4103680,4198944,3843536,3828880,4272224,4253904,4448096,5030672,4667936,4928080],\"z\":[1991,1995,1996,1997,1998,1999,2000,2001,2002,2003,2004,2005,2006,2007,2008,2009,2010,2011,2012,2013],\"type\":\"scatter3d\"}],                        {\"template\":{\"data\":{\"barpolar\":[{\"marker\":{\"line\":{\"color\":\"rgb(17,17,17)\",\"width\":0.5},\"pattern\":{\"fillmode\":\"overlay\",\"size\":10,\"solidity\":0.2}},\"type\":\"barpolar\"}],\"bar\":[{\"error_x\":{\"color\":\"#f2f5fa\"},\"error_y\":{\"color\":\"#f2f5fa\"},\"marker\":{\"line\":{\"color\":\"rgb(17,17,17)\",\"width\":0.5},\"pattern\":{\"fillmode\":\"overlay\",\"size\":10,\"solidity\":0.2}},\"type\":\"bar\"}],\"carpet\":[{\"aaxis\":{\"endlinecolor\":\"#A2B1C6\",\"gridcolor\":\"#506784\",\"linecolor\":\"#506784\",\"minorgridcolor\":\"#506784\",\"startlinecolor\":\"#A2B1C6\"},\"baxis\":{\"endlinecolor\":\"#A2B1C6\",\"gridcolor\":\"#506784\",\"linecolor\":\"#506784\",\"minorgridcolor\":\"#506784\",\"startlinecolor\":\"#A2B1C6\"},\"type\":\"carpet\"}],\"choropleth\":[{\"colorbar\":{\"outlinewidth\":0,\"ticks\":\"\"},\"type\":\"choropleth\"}],\"contourcarpet\":[{\"colorbar\":{\"outlinewidth\":0,\"ticks\":\"\"},\"type\":\"contourcarpet\"}],\"contour\":[{\"colorbar\":{\"outlinewidth\":0,\"ticks\":\"\"},\"colorscale\":[[0.0,\"#0d0887\"],[0.1111111111111111,\"#46039f\"],[0.2222222222222222,\"#7201a8\"],[0.3333333333333333,\"#9c179e\"],[0.4444444444444444,\"#bd3786\"],[0.5555555555555556,\"#d8576b\"],[0.6666666666666666,\"#ed7953\"],[0.7777777777777778,\"#fb9f3a\"],[0.8888888888888888,\"#fdca26\"],[1.0,\"#f0f921\"]],\"type\":\"contour\"}],\"heatmapgl\":[{\"colorbar\":{\"outlinewidth\":0,\"ticks\":\"\"},\"colorscale\":[[0.0,\"#0d0887\"],[0.1111111111111111,\"#46039f\"],[0.2222222222222222,\"#7201a8\"],[0.3333333333333333,\"#9c179e\"],[0.4444444444444444,\"#bd3786\"],[0.5555555555555556,\"#d8576b\"],[0.6666666666666666,\"#ed7953\"],[0.7777777777777778,\"#fb9f3a\"],[0.8888888888888888,\"#fdca26\"],[1.0,\"#f0f921\"]],\"type\":\"heatmapgl\"}],\"heatmap\":[{\"colorbar\":{\"outlinewidth\":0,\"ticks\":\"\"},\"colorscale\":[[0.0,\"#0d0887\"],[0.1111111111111111,\"#46039f\"],[0.2222222222222222,\"#7201a8\"],[0.3333333333333333,\"#9c179e\"],[0.4444444444444444,\"#bd3786\"],[0.5555555555555556,\"#d8576b\"],[0.6666666666666666,\"#ed7953\"],[0.7777777777777778,\"#fb9f3a\"],[0.8888888888888888,\"#fdca26\"],[1.0,\"#f0f921\"]],\"type\":\"heatmap\"}],\"histogram2dcontour\":[{\"colorbar\":{\"outlinewidth\":0,\"ticks\":\"\"},\"colorscale\":[[0.0,\"#0d0887\"],[0.1111111111111111,\"#46039f\"],[0.2222222222222222,\"#7201a8\"],[0.3333333333333333,\"#9c179e\"],[0.4444444444444444,\"#bd3786\"],[0.5555555555555556,\"#d8576b\"],[0.6666666666666666,\"#ed7953\"],[0.7777777777777778,\"#fb9f3a\"],[0.8888888888888888,\"#fdca26\"],[1.0,\"#f0f921\"]],\"type\":\"histogram2dcontour\"}],\"histogram2d\":[{\"colorbar\":{\"outlinewidth\":0,\"ticks\":\"\"},\"colorscale\":[[0.0,\"#0d0887\"],[0.1111111111111111,\"#46039f\"],[0.2222222222222222,\"#7201a8\"],[0.3333333333333333,\"#9c179e\"],[0.4444444444444444,\"#bd3786\"],[0.5555555555555556,\"#d8576b\"],[0.6666666666666666,\"#ed7953\"],[0.7777777777777778,\"#fb9f3a\"],[0.8888888888888888,\"#fdca26\"],[1.0,\"#f0f921\"]],\"type\":\"histogram2d\"}],\"histogram\":[{\"marker\":{\"pattern\":{\"fillmode\":\"overlay\",\"size\":10,\"solidity\":0.2}},\"type\":\"histogram\"}],\"mesh3d\":[{\"colorbar\":{\"outlinewidth\":0,\"ticks\":\"\"},\"type\":\"mesh3d\"}],\"parcoords\":[{\"line\":{\"colorbar\":{\"outlinewidth\":0,\"ticks\":\"\"}},\"type\":\"parcoords\"}],\"pie\":[{\"automargin\":true,\"type\":\"pie\"}],\"scatter3d\":[{\"line\":{\"colorbar\":{\"outlinewidth\":0,\"ticks\":\"\"}},\"marker\":{\"colorbar\":{\"outlinewidth\":0,\"ticks\":\"\"}},\"type\":\"scatter3d\"}],\"scattercarpet\":[{\"marker\":{\"colorbar\":{\"outlinewidth\":0,\"ticks\":\"\"}},\"type\":\"scattercarpet\"}],\"scattergeo\":[{\"marker\":{\"colorbar\":{\"outlinewidth\":0,\"ticks\":\"\"}},\"type\":\"scattergeo\"}],\"scattergl\":[{\"marker\":{\"line\":{\"color\":\"#283442\"}},\"type\":\"scattergl\"}],\"scattermapbox\":[{\"marker\":{\"colorbar\":{\"outlinewidth\":0,\"ticks\":\"\"}},\"type\":\"scattermapbox\"}],\"scatterpolargl\":[{\"marker\":{\"colorbar\":{\"outlinewidth\":0,\"ticks\":\"\"}},\"type\":\"scatterpolargl\"}],\"scatterpolar\":[{\"marker\":{\"colorbar\":{\"outlinewidth\":0,\"ticks\":\"\"}},\"type\":\"scatterpolar\"}],\"scatter\":[{\"marker\":{\"line\":{\"color\":\"#283442\"}},\"type\":\"scatter\"}],\"scatterternary\":[{\"marker\":{\"colorbar\":{\"outlinewidth\":0,\"ticks\":\"\"}},\"type\":\"scatterternary\"}],\"surface\":[{\"colorbar\":{\"outlinewidth\":0,\"ticks\":\"\"},\"colorscale\":[[0.0,\"#0d0887\"],[0.1111111111111111,\"#46039f\"],[0.2222222222222222,\"#7201a8\"],[0.3333333333333333,\"#9c179e\"],[0.4444444444444444,\"#bd3786\"],[0.5555555555555556,\"#d8576b\"],[0.6666666666666666,\"#ed7953\"],[0.7777777777777778,\"#fb9f3a\"],[0.8888888888888888,\"#fdca26\"],[1.0,\"#f0f921\"]],\"type\":\"surface\"}],\"table\":[{\"cells\":{\"fill\":{\"color\":\"#506784\"},\"line\":{\"color\":\"rgb(17,17,17)\"}},\"header\":{\"fill\":{\"color\":\"#2a3f5f\"},\"line\":{\"color\":\"rgb(17,17,17)\"}},\"type\":\"table\"}]},\"layout\":{\"annotationdefaults\":{\"arrowcolor\":\"#f2f5fa\",\"arrowhead\":0,\"arrowwidth\":1},\"autotypenumbers\":\"strict\",\"coloraxis\":{\"colorbar\":{\"outlinewidth\":0,\"ticks\":\"\"}},\"colorscale\":{\"diverging\":[[0,\"#8e0152\"],[0.1,\"#c51b7d\"],[0.2,\"#de77ae\"],[0.3,\"#f1b6da\"],[0.4,\"#fde0ef\"],[0.5,\"#f7f7f7\"],[0.6,\"#e6f5d0\"],[0.7,\"#b8e186\"],[0.8,\"#7fbc41\"],[0.9,\"#4d9221\"],[1,\"#276419\"]],\"sequential\":[[0.0,\"#0d0887\"],[0.1111111111111111,\"#46039f\"],[0.2222222222222222,\"#7201a8\"],[0.3333333333333333,\"#9c179e\"],[0.4444444444444444,\"#bd3786\"],[0.5555555555555556,\"#d8576b\"],[0.6666666666666666,\"#ed7953\"],[0.7777777777777778,\"#fb9f3a\"],[0.8888888888888888,\"#fdca26\"],[1.0,\"#f0f921\"]],\"sequentialminus\":[[0.0,\"#0d0887\"],[0.1111111111111111,\"#46039f\"],[0.2222222222222222,\"#7201a8\"],[0.3333333333333333,\"#9c179e\"],[0.4444444444444444,\"#bd3786\"],[0.5555555555555556,\"#d8576b\"],[0.6666666666666666,\"#ed7953\"],[0.7777777777777778,\"#fb9f3a\"],[0.8888888888888888,\"#fdca26\"],[1.0,\"#f0f921\"]]},\"colorway\":[\"#636efa\",\"#EF553B\",\"#00cc96\",\"#ab63fa\",\"#FFA15A\",\"#19d3f3\",\"#FF6692\",\"#B6E880\",\"#FF97FF\",\"#FECB52\"],\"font\":{\"color\":\"#f2f5fa\"},\"geo\":{\"bgcolor\":\"rgb(17,17,17)\",\"lakecolor\":\"rgb(17,17,17)\",\"landcolor\":\"rgb(17,17,17)\",\"showlakes\":true,\"showland\":true,\"subunitcolor\":\"#506784\"},\"hoverlabel\":{\"align\":\"left\"},\"hovermode\":\"closest\",\"mapbox\":{\"style\":\"dark\"},\"paper_bgcolor\":\"rgb(17,17,17)\",\"plot_bgcolor\":\"rgb(17,17,17)\",\"polar\":{\"angularaxis\":{\"gridcolor\":\"#506784\",\"linecolor\":\"#506784\",\"ticks\":\"\"},\"bgcolor\":\"rgb(17,17,17)\",\"radialaxis\":{\"gridcolor\":\"#506784\",\"linecolor\":\"#506784\",\"ticks\":\"\"}},\"scene\":{\"xaxis\":{\"backgroundcolor\":\"rgb(17,17,17)\",\"gridcolor\":\"#506784\",\"gridwidth\":2,\"linecolor\":\"#506784\",\"showbackground\":true,\"ticks\":\"\",\"zerolinecolor\":\"#C8D4E3\"},\"yaxis\":{\"backgroundcolor\":\"rgb(17,17,17)\",\"gridcolor\":\"#506784\",\"gridwidth\":2,\"linecolor\":\"#506784\",\"showbackground\":true,\"ticks\":\"\",\"zerolinecolor\":\"#C8D4E3\"},\"zaxis\":{\"backgroundcolor\":\"rgb(17,17,17)\",\"gridcolor\":\"#506784\",\"gridwidth\":2,\"linecolor\":\"#506784\",\"showbackground\":true,\"ticks\":\"\",\"zerolinecolor\":\"#C8D4E3\"}},\"shapedefaults\":{\"line\":{\"color\":\"#f2f5fa\"}},\"sliderdefaults\":{\"bgcolor\":\"#C8D4E3\",\"bordercolor\":\"rgb(17,17,17)\",\"borderwidth\":1,\"tickwidth\":0},\"ternary\":{\"aaxis\":{\"gridcolor\":\"#506784\",\"linecolor\":\"#506784\",\"ticks\":\"\"},\"baxis\":{\"gridcolor\":\"#506784\",\"linecolor\":\"#506784\",\"ticks\":\"\"},\"bgcolor\":\"rgb(17,17,17)\",\"caxis\":{\"gridcolor\":\"#506784\",\"linecolor\":\"#506784\",\"ticks\":\"\"}},\"title\":{\"x\":0.05},\"updatemenudefaults\":{\"bgcolor\":\"#506784\",\"borderwidth\":0},\"xaxis\":{\"automargin\":true,\"gridcolor\":\"#283442\",\"linecolor\":\"#506784\",\"ticks\":\"\",\"title\":{\"standoff\":15},\"zerolinecolor\":\"#283442\",\"zerolinewidth\":2},\"yaxis\":{\"automargin\":true,\"gridcolor\":\"#283442\",\"linecolor\":\"#506784\",\"ticks\":\"\",\"title\":{\"standoff\":15},\"zerolinecolor\":\"#283442\",\"zerolinewidth\":2}}},\"scene\":{\"domain\":{\"x\":[0.0,1.0],\"y\":[0.0,1.0]},\"xaxis\":{\"title\":{\"text\":\"Deaths %\"}},\"yaxis\":{\"title\":{\"text\":\"CO2 Emissions\"}},\"zaxis\":{\"title\":{\"text\":\"Year\"}}},\"coloraxis\":{\"colorbar\":{\"title\":{\"text\":\"GDP\"}},\"colorscale\":[[0.0,\"#0d0887\"],[0.1111111111111111,\"#46039f\"],[0.2222222222222222,\"#7201a8\"],[0.3333333333333333,\"#9c179e\"],[0.4444444444444444,\"#bd3786\"],[0.5555555555555556,\"#d8576b\"],[0.6666666666666666,\"#ed7953\"],[0.7777777777777778,\"#fb9f3a\"],[0.8888888888888888,\"#fdca26\"],[1.0,\"#f0f921\"]]},\"legend\":{\"tracegroupgap\":0,\"itemsizing\":\"constant\"},\"margin\":{\"t\":60}},                        {\"responsive\": true}                    ).then(function(){\n",
       "                            \n",
       "var gd = document.getElementById('120f2306-c36a-454e-a646-34b1c1672266');\n",
       "var x = new MutationObserver(function (mutations, observer) {{\n",
       "        var display = window.getComputedStyle(gd).display;\n",
       "        if (!display || display === 'none') {{\n",
       "            console.log([gd, 'removed!']);\n",
       "            Plotly.purge(gd);\n",
       "            observer.disconnect();\n",
       "        }}\n",
       "}});\n",
       "\n",
       "// Listen for the removal of the full notebook cells\n",
       "var notebookContainer = gd.closest('#notebook-container');\n",
       "if (notebookContainer) {{\n",
       "    x.observe(notebookContainer, {childList: true});\n",
       "}}\n",
       "\n",
       "// Listen for the clearing of the current output cell\n",
       "var outputEl = gd.closest('.output');\n",
       "if (outputEl) {{\n",
       "    x.observe(outputEl, {childList: true});\n",
       "}}\n",
       "\n",
       "                        })                };                });            </script>        </div>"
      ]
     },
     "metadata": {},
     "output_type": "display_data"
    }
   ],
>>>>>>> 56d31a40bdf4904f786c8d06fb6c872055885bb6
   "source": [
    "trace4"
   ]
  }
 ],
 "metadata": {
  "kernelspec": {
   "display_name": "Python 3 (ipykernel)",
   "language": "python",
   "name": "python3"
  },
  "language_info": {
   "codemirror_mode": {
    "name": "ipython",
    "version": 3
   },
   "file_extension": ".py",
   "mimetype": "text/x-python",
   "name": "python",
   "nbconvert_exporter": "python",
   "pygments_lexer": "ipython3",
   "version": "3.9.7"
  }
 },
 "nbformat": 4,
 "nbformat_minor": 5
}
