{
 "cells": [
  {
   "cell_type": "markdown",
   "id": "87ac14c1-fe2e-4d77-8745-1b973b58336e",
   "metadata": {},
   "source": [
    "## Imports"
   ]
  },
  {
   "cell_type": "code",
   "execution_count": 1,
   "id": "5b3cb627-a844-4007-8e50-32216e380936",
   "metadata": {},
   "outputs": [],
   "source": [
    "import pandas as pd\n",
    "import numpy as np"
   ]
  },
  {
   "cell_type": "markdown",
   "id": "b5a2dfea-d1d2-46d0-9946-af5de0c643c7",
   "metadata": {},
   "source": [
    "## Importing Data"
   ]
  },
  {
   "cell_type": "code",
   "execution_count": 2,
   "id": "9eaa1dfb-41fc-459f-81a3-614316b06bfe",
   "metadata": {},
   "outputs": [],
   "source": [
    "eng = pd.read_csv('./1718-bexiting-1.csv')\n",
    "#non_eng = pd.read_csv('./1718-bexiting-5.csv')\n",
    "\n",
    "income = pd.read_csv('./Untitled spreadsheet - Sheet1.csv')\n",
    "teacher_salary = pd.read_csv('./tabn211.60.csv')"
   ]
  },
  {
   "cell_type": "code",
   "execution_count": 3,
   "id": "2a35ca2b-f6ca-49f5-b937-073ec6043901",
   "metadata": {},
   "outputs": [],
   "source": [
    "eng.drop(columns=[\"Graduated with alternate high school diploma\", \"Dropped\\nout3\", \"Died\"], inplace=True)\n",
    "#non_eng.drop(columns=[\"Graduated with alternate high school diploma\", \"Died\"], inplace=True)"
   ]
  },
  {
   "cell_type": "code",
   "execution_count": 4,
   "id": "1daad800-45ff-4827-8b26-a0481318cf54",
   "metadata": {
    "tags": []
   },
   "outputs": [],
   "source": [
    "eng.rename(columns={\"Exiting \\ntotal2\":\"Total\", \"Graduated with regular high school diploma\":\"Graduated\", \"Moved, known\\nto be\\ncontinuing4\":\"Moved\", \"Reached \\nmaximum \\nage5\":\"Max Age\", \"Received a \\ncertificate\":\"Certif\", \"Transferred to\\nregular\\neducation\":\"Transferred\"}, inplace=True)\n",
    "#non_eng.rename(columns={\"Exiting \\ntotal2\":\"Total\", \"Graduated with regular high school diploma\":\"Graduated\", \"Moved, known\\nto be\\ncontinuing4\":\"Moved\", \"Reached \\nmaximum \\nage5\":\"Max Age\", \"Received a \\ncertificate\":\"Certif\", \"Transferred to\\nregular\\neducation\":\"Transferred\"}, inplace=True)"
   ]
  },
  {
   "cell_type": "code",
   "execution_count": 5,
   "id": "100e63fc-03ac-4e5b-b320-dd25c3efa849",
   "metadata": {
    "tags": []
   },
   "outputs": [],
   "source": [
    "eng.drop([1,2,5,10,11,39,44,45,46,54], inplace=True)"
   ]
  },
  {
   "cell_type": "code",
   "execution_count": 6,
   "id": "db6147e9-22b6-4df2-9ee4-814fb5d568d5",
   "metadata": {},
   "outputs": [
    {
     "data": {
      "text/plain": [
       "\"non_eng = non_eng[non_eng != 'x']\\nnon_eng = non_eng[non_eng != '-']\\nnon_eng.dropna(inplace=True)\""
      ]
     },
     "execution_count": 6,
     "metadata": {},
     "output_type": "execute_result"
    }
   ],
   "source": [
    "'''eng = eng[eng != 'x']\n",
    "eng = eng[eng != '-']\n",
    "eng.dropna(inplace=True)'''\n",
    "\n",
    "'''non_eng = non_eng[non_eng != 'x']\n",
    "non_eng = non_eng[non_eng != '-']\n",
    "non_eng.dropna(inplace=True)'''"
   ]
  },
  {
   "cell_type": "code",
   "execution_count": 7,
   "id": "4a7d16a4-7044-456f-899d-274c40094272",
   "metadata": {
    "tags": []
   },
   "outputs": [],
   "source": [
    "income.rename(columns={'Name':'State', '2018':'Income'}, inplace=True)\n",
    "income = income.drop([0,9])"
   ]
  },
  {
   "cell_type": "code",
   "execution_count": 8,
   "id": "47b0b4ba-23b2-45ec-9c0f-a76a3081fee5",
   "metadata": {},
   "outputs": [
    {
     "data": {
      "text/plain": [
       "Index(['Table 211.60. Estimated average annual salary of teachers in public elementary and secondary schools, by state: Selected years, 1969-70 through\\n              2018-19         ',\n",
       "       'Unnamed: 1', 'Unnamed: 2', 'Unnamed: 3', 'Unnamed: 4', 'Unnamed: 5',\n",
       "       'Unnamed: 6', 'Unnamed: 7', 'Unnamed: 8', 'Unnamed: 9', 'Unnamed: 10',\n",
       "       'Unnamed: 11', 'Unnamed: 12', 'Unnamed: 13', 'Unnamed: 14',\n",
       "       'Unnamed: 15'],\n",
       "      dtype='object')"
      ]
     },
     "execution_count": 8,
     "metadata": {},
     "output_type": "execute_result"
    }
   ],
   "source": [
    "teacher_salary.columns"
   ]
  },
  {
   "cell_type": "code",
   "execution_count": 9,
   "id": "7af488ac-1823-40fc-9a3d-95b04bdd4b9f",
   "metadata": {},
   "outputs": [
    {
     "ename": "KeyError",
     "evalue": "\"None of [Index(['State', 'Salary'], dtype='object')] are in the [columns]\"",
     "output_type": "error",
     "traceback": [
      "\u001b[1;31m---------------------------------------------------------------------------\u001b[0m",
      "\u001b[1;31mKeyError\u001b[0m                                  Traceback (most recent call last)",
      "\u001b[1;32m~\\AppData\\Local\\Temp/ipykernel_4880/745187463.py\u001b[0m in \u001b[0;36m<module>\u001b[1;34m\u001b[0m\n\u001b[0;32m      1\u001b[0m \u001b[0mteacher_salary\u001b[0m\u001b[1;33m.\u001b[0m\u001b[0mrename\u001b[0m\u001b[1;33m(\u001b[0m\u001b[0mcolumns\u001b[0m\u001b[1;33m=\u001b[0m\u001b[1;33m{\u001b[0m\u001b[1;34m'Table 211.60. Estimated average annual salary of teachers in public elementary and secondary schools, by state: Selected years, 1969-70 through\\n              2018-19         '\u001b[0m\u001b[1;33m:\u001b[0m\u001b[1;34m'State'\u001b[0m\u001b[1;33m,\u001b[0m \u001b[1;34m'Unnamed: 14'\u001b[0m\u001b[1;33m:\u001b[0m\u001b[1;34m'Salary'\u001b[0m\u001b[1;33m}\u001b[0m\u001b[1;33m)\u001b[0m\u001b[1;33m\u001b[0m\u001b[1;33m\u001b[0m\u001b[0m\n\u001b[1;32m----> 2\u001b[1;33m \u001b[0mteacher_salary\u001b[0m \u001b[1;33m=\u001b[0m \u001b[0mteacher_salary\u001b[0m\u001b[1;33m[\u001b[0m\u001b[1;33m[\u001b[0m\u001b[1;34m'State'\u001b[0m\u001b[1;33m,\u001b[0m \u001b[1;34m'Salary'\u001b[0m\u001b[1;33m]\u001b[0m\u001b[1;33m]\u001b[0m\u001b[1;33m\u001b[0m\u001b[1;33m\u001b[0m\u001b[0m\n\u001b[0m\u001b[0;32m      3\u001b[0m \u001b[0mteacher_salary\u001b[0m \u001b[1;33m=\u001b[0m \u001b[0mteacher_salary\u001b[0m\u001b[1;33m.\u001b[0m\u001b[0mdrop\u001b[0m\u001b[1;33m(\u001b[0m\u001b[1;33m[\u001b[0m\u001b[1;36m0\u001b[0m\u001b[1;33m,\u001b[0m \u001b[1;36m1\u001b[0m\u001b[1;33m,\u001b[0m \u001b[1;36m2\u001b[0m\u001b[1;33m,\u001b[0m \u001b[1;36m3\u001b[0m\u001b[1;33m,\u001b[0m \u001b[1;36m13\u001b[0m\u001b[1;33m]\u001b[0m\u001b[1;33m)\u001b[0m\u001b[1;33m\u001b[0m\u001b[1;33m\u001b[0m\u001b[0m\n",
      "\u001b[1;32m~\\anaconda3\\lib\\site-packages\\pandas\\core\\frame.py\u001b[0m in \u001b[0;36m__getitem__\u001b[1;34m(self, key)\u001b[0m\n\u001b[0;32m   3462\u001b[0m             \u001b[1;32mif\u001b[0m \u001b[0mis_iterator\u001b[0m\u001b[1;33m(\u001b[0m\u001b[0mkey\u001b[0m\u001b[1;33m)\u001b[0m\u001b[1;33m:\u001b[0m\u001b[1;33m\u001b[0m\u001b[1;33m\u001b[0m\u001b[0m\n\u001b[0;32m   3463\u001b[0m                 \u001b[0mkey\u001b[0m \u001b[1;33m=\u001b[0m \u001b[0mlist\u001b[0m\u001b[1;33m(\u001b[0m\u001b[0mkey\u001b[0m\u001b[1;33m)\u001b[0m\u001b[1;33m\u001b[0m\u001b[1;33m\u001b[0m\u001b[0m\n\u001b[1;32m-> 3464\u001b[1;33m             \u001b[0mindexer\u001b[0m \u001b[1;33m=\u001b[0m \u001b[0mself\u001b[0m\u001b[1;33m.\u001b[0m\u001b[0mloc\u001b[0m\u001b[1;33m.\u001b[0m\u001b[0m_get_listlike_indexer\u001b[0m\u001b[1;33m(\u001b[0m\u001b[0mkey\u001b[0m\u001b[1;33m,\u001b[0m \u001b[0maxis\u001b[0m\u001b[1;33m=\u001b[0m\u001b[1;36m1\u001b[0m\u001b[1;33m)\u001b[0m\u001b[1;33m[\u001b[0m\u001b[1;36m1\u001b[0m\u001b[1;33m]\u001b[0m\u001b[1;33m\u001b[0m\u001b[1;33m\u001b[0m\u001b[0m\n\u001b[0m\u001b[0;32m   3465\u001b[0m \u001b[1;33m\u001b[0m\u001b[0m\n\u001b[0;32m   3466\u001b[0m         \u001b[1;31m# take() does not accept boolean indexers\u001b[0m\u001b[1;33m\u001b[0m\u001b[1;33m\u001b[0m\u001b[0m\n",
      "\u001b[1;32m~\\anaconda3\\lib\\site-packages\\pandas\\core\\indexing.py\u001b[0m in \u001b[0;36m_get_listlike_indexer\u001b[1;34m(self, key, axis)\u001b[0m\n\u001b[0;32m   1312\u001b[0m             \u001b[0mkeyarr\u001b[0m\u001b[1;33m,\u001b[0m \u001b[0mindexer\u001b[0m\u001b[1;33m,\u001b[0m \u001b[0mnew_indexer\u001b[0m \u001b[1;33m=\u001b[0m \u001b[0max\u001b[0m\u001b[1;33m.\u001b[0m\u001b[0m_reindex_non_unique\u001b[0m\u001b[1;33m(\u001b[0m\u001b[0mkeyarr\u001b[0m\u001b[1;33m)\u001b[0m\u001b[1;33m\u001b[0m\u001b[1;33m\u001b[0m\u001b[0m\n\u001b[0;32m   1313\u001b[0m \u001b[1;33m\u001b[0m\u001b[0m\n\u001b[1;32m-> 1314\u001b[1;33m         \u001b[0mself\u001b[0m\u001b[1;33m.\u001b[0m\u001b[0m_validate_read_indexer\u001b[0m\u001b[1;33m(\u001b[0m\u001b[0mkeyarr\u001b[0m\u001b[1;33m,\u001b[0m \u001b[0mindexer\u001b[0m\u001b[1;33m,\u001b[0m \u001b[0maxis\u001b[0m\u001b[1;33m)\u001b[0m\u001b[1;33m\u001b[0m\u001b[1;33m\u001b[0m\u001b[0m\n\u001b[0m\u001b[0;32m   1315\u001b[0m \u001b[1;33m\u001b[0m\u001b[0m\n\u001b[0;32m   1316\u001b[0m         if needs_i8_conversion(ax.dtype) or isinstance(\n",
      "\u001b[1;32m~\\anaconda3\\lib\\site-packages\\pandas\\core\\indexing.py\u001b[0m in \u001b[0;36m_validate_read_indexer\u001b[1;34m(self, key, indexer, axis)\u001b[0m\n\u001b[0;32m   1372\u001b[0m                 \u001b[1;32mif\u001b[0m \u001b[0muse_interval_msg\u001b[0m\u001b[1;33m:\u001b[0m\u001b[1;33m\u001b[0m\u001b[1;33m\u001b[0m\u001b[0m\n\u001b[0;32m   1373\u001b[0m                     \u001b[0mkey\u001b[0m \u001b[1;33m=\u001b[0m \u001b[0mlist\u001b[0m\u001b[1;33m(\u001b[0m\u001b[0mkey\u001b[0m\u001b[1;33m)\u001b[0m\u001b[1;33m\u001b[0m\u001b[1;33m\u001b[0m\u001b[0m\n\u001b[1;32m-> 1374\u001b[1;33m                 \u001b[1;32mraise\u001b[0m \u001b[0mKeyError\u001b[0m\u001b[1;33m(\u001b[0m\u001b[1;34mf\"None of [{key}] are in the [{axis_name}]\"\u001b[0m\u001b[1;33m)\u001b[0m\u001b[1;33m\u001b[0m\u001b[1;33m\u001b[0m\u001b[0m\n\u001b[0m\u001b[0;32m   1375\u001b[0m \u001b[1;33m\u001b[0m\u001b[0m\n\u001b[0;32m   1376\u001b[0m             \u001b[0mnot_found\u001b[0m \u001b[1;33m=\u001b[0m \u001b[0mlist\u001b[0m\u001b[1;33m(\u001b[0m\u001b[0mensure_index\u001b[0m\u001b[1;33m(\u001b[0m\u001b[0mkey\u001b[0m\u001b[1;33m)\u001b[0m\u001b[1;33m[\u001b[0m\u001b[0mmissing_mask\u001b[0m\u001b[1;33m.\u001b[0m\u001b[0mnonzero\u001b[0m\u001b[1;33m(\u001b[0m\u001b[1;33m)\u001b[0m\u001b[1;33m[\u001b[0m\u001b[1;36m0\u001b[0m\u001b[1;33m]\u001b[0m\u001b[1;33m]\u001b[0m\u001b[1;33m.\u001b[0m\u001b[0munique\u001b[0m\u001b[1;33m(\u001b[0m\u001b[1;33m)\u001b[0m\u001b[1;33m)\u001b[0m\u001b[1;33m\u001b[0m\u001b[1;33m\u001b[0m\u001b[0m\n",
      "\u001b[1;31mKeyError\u001b[0m: \"None of [Index(['State', 'Salary'], dtype='object')] are in the [columns]\""
     ]
    }
   ],
   "source": [
    "teacher_salary.rename(columns={'Table 211.60. Estimated average annual salary of teachers in public elementary and secondary schools, by state: Selected years, 1969-70 through\\n              2018-19         ':'State', 'Unnamed: 14':'Salary'})\n",
    "teacher_salary = teacher_salary[['State', 'Salary']]\n",
    "teacher_salary = teacher_salary.drop([0, 1, 2, 3, 13])"
   ]
  },
  {
   "cell_type": "code",
   "execution_count": null,
   "id": "ce21abdf-565b-4cfc-bc12-4ac126097ece",
   "metadata": {},
   "outputs": [],
   "source": [
    "li = []\n",
    "for y in list(teacher_salary.State):\n",
    "    new_word = ''\n",
    "    for x, charac in enumerate(y):\n",
    "        if x and charac.isupper():\n",
    "            new_word += ' '\n",
    "        new_word += charac\n",
    "    li.append(new_word)"
   ]
  },
  {
   "cell_type": "code",
   "execution_count": null,
   "id": "740d1af6-fd0d-43f3-8fe0-810145aab2a2",
   "metadata": {},
   "outputs": [],
   "source": [
    "teacher_salary.State = li"
   ]
  },
  {
   "cell_type": "code",
   "execution_count": null,
   "id": "0c3c3884-7182-4309-8848-b6e8d1c6fa47",
   "metadata": {},
   "outputs": [],
   "source": [
    "teacher_salary.rename(columns={'Table 211.60. Estimated average annual salary of teachers in public elementary and secondary schools, by state: Selected years, 1969-70 through\\n              2018-19         ':\"State\", 'Unnamed: 14':'Salary'}, inplace=True)"
   ]
  },
  {
   "cell_type": "code",
   "execution_count": null,
   "id": "bfdb7f07-69cb-4722-aa51-a946f7e51a48",
   "metadata": {},
   "outputs": [],
   "source": [
    "combos = pd.merge(eng, teacher_salary)\n",
    "combos = pd.merge(combos, income)\n",
    "combos.shape"
   ]
  },
  {
   "cell_type": "markdown",
   "id": "7c702a0b-7a48-4331-8d53-171413b1c317",
   "metadata": {},
   "source": [
    "--------------------------------"
   ]
  },
  {
   "cell_type": "code",
   "execution_count": null,
   "id": "9069faa1-cea6-4b52-8a1e-250cf04c6591",
   "metadata": {},
   "outputs": [],
   "source": []
  }
 ],
 "metadata": {
  "kernelspec": {
   "display_name": "Python 3 (ipykernel)",
   "language": "python",
   "name": "python3"
  },
  "language_info": {
   "codemirror_mode": {
    "name": "ipython",
    "version": 3
   },
   "file_extension": ".py",
   "mimetype": "text/x-python",
   "name": "python",
   "nbconvert_exporter": "python",
   "pygments_lexer": "ipython3",
   "version": "3.9.7"
  }
 },
 "nbformat": 4,
 "nbformat_minor": 5
}
