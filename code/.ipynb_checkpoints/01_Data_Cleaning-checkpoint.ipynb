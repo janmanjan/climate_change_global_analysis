{
 "cells": [
  {
   "cell_type": "code",
   "execution_count": 1,
   "id": "9321e6cb-0700-40c5-980c-156b057bdb75",
   "metadata": {},
   "outputs": [],
   "source": [
    "# Imports\n",
    "import pandas as pd\n",
    "import numpy as np\n",
    "\n",
    "import seaborn as sns\n",
    "import matplotlib.pyplot as plt\n",
    "import matplotlib"
   ]
  },
  {
   "cell_type": "code",
   "execution_count": 2,
   "id": "0d0a0caf-d314-40f6-82b9-fe38b5860335",
   "metadata": {},
   "outputs": [],
   "source": [
    "pd.options.display.max_seq_items = 2000"
   ]
  },
  {
   "cell_type": "markdown",
   "id": "c82c453d-5652-4f12-942c-87cc2c93869b",
   "metadata": {
    "tags": []
   },
   "source": [
    "## Grabbing & Cleaning Data"
   ]
  },
  {
   "cell_type": "code",
   "execution_count": 3,
   "id": "294a4a8b-c9c2-430c-bcd9-9605b3411abd",
   "metadata": {},
   "outputs": [],
   "source": [
    "#cleaning and adding ghg data\n",
    "ghg = pd.read_csv('../data/dirty_data/total-ghg-emissions.csv')\n",
    "ghg.drop(columns=['Code'], inplace=True)\n",
    "ghg.rename(columns={\"Total GHG emissions including LUCF (CAIT)\":\"Total GHG\"}, inplace=True)\n",
    "ghg = ghg[ghg['Year']>1989]\n",
    "ghg = ghg[ghg['Year'] < 2015]\n",
    "ghg.to_csv('../data/cleaned_data/ghg.csv')"
   ]
  },
  {
   "cell_type": "code",
   "execution_count": 4,
   "id": "ad093666-f1a7-48b2-8112-f45e0b83346b",
   "metadata": {},
   "outputs": [],
   "source": [
    "#cleaning and adding airpollution death share data\n",
    "airpol_death_share = pd.read_csv('../data/dirty_data/share-deaths-air-pollution.csv')\n",
    "airpol_death_share.drop(columns=['Code'], inplace=True)\n",
    "airpol_death_share.rename(columns={\"Deaths - Cause: All causes - Risk: Air pollution - Sex: Both - Age: Age-standardized (Percent)\": \"Deaths %\"}, inplace=True)\n",
    "airpol_death_share = airpol_death_share[airpol_death_share['Year']>1989]\n",
    "airpol_death_share = airpol_death_share[airpol_death_share['Year'] < 2015]\n",
    "airpol_death_share.to_csv('../data/cleaned_data/airpol_death_share.csv')"
   ]
  },
  {
   "cell_type": "code",
   "execution_count": 5,
   "id": "6237bd1c-ff7b-4d29-8654-f778f6fd4266",
   "metadata": {},
   "outputs": [],
   "source": [
    "#cleaning and adding airpollution data\n",
    "airpol = pd.read_csv('../data/dirty_data/PM25-air-pollution.csv')\n",
    "airpol.drop(columns=['Code'], inplace=True)\n",
    "airpol.rename(columns={\"PM2.5 air pollution, mean annual exposure (micrograms per cubic meter)\": \"Air Pollution\"}, inplace=True)\n",
    "airpol = airpol[airpol['Year']>1989]\n",
    "airpol = airpol[airpol['Year'] < 2015]\n",
    "airpol.to_csv('../data/cleaned_data/airpol.csv')"
   ]
  },
  {
   "cell_type": "code",
   "execution_count": 6,
   "id": "0ef86ca5-b374-4c55-87a8-124f6f398b4e",
   "metadata": {},
   "outputs": [],
   "source": [
    "#cleaning and adding net zero binary data\n",
    "net_zero_binary = pd.read_csv('../data/dirty_data/net-zero-target-set.csv')\n",
    "net_zero_binary.drop(columns=['Code'], inplace=True)\n",
    "net_zero_binary.rename(columns={\"Is there a net-zero target?\":\"Net-Zero Target\"}, inplace=True)\n",
    "net_zero_binary.rename(columns={\"Year\":\"Year-Zs\"}, inplace=True)\n",
    "net_zero_binary['Net-Zero Target'] = net_zero_binary['Net-Zero Target'].map({\"Yes\":1, \"No\":0})\n",
    "#net_zero_binary = net_zero_binary[net_zero_binary['Year']>1989]\n",
    "net_zero_binary.to_csv('../data/cleaned_data/net_zero_binary.csv')"
   ]
  },
  {
   "cell_type": "code",
   "execution_count": 7,
   "id": "3831e783-a9bb-42cd-8e3b-c638c3f79fb4",
   "metadata": {},
   "outputs": [],
   "source": [
    "#cleaning and adding food co2 emmissions data\n",
    "food_co2e = pd.read_csv('../data/dirty_data/emissions-from-food.csv')\n",
    "food_co2e.drop(columns=['Code'], inplace=True)\n",
    "food_co2e.rename(columns={\"Food emissions by country\":\"Food Emissions\"}, inplace=True)\n",
    "food_co2e = food_co2e[food_co2e['Year']>1989]\n",
    "food_co2e = food_co2e[food_co2e['Year'] < 2015]\n",
    "food_co2e.to_csv('../data/cleaned_data/food_co2e.csv')"
   ]
  },
  {
   "cell_type": "code",
   "execution_count": 8,
   "id": "bfb5960a-2b13-4ad6-996b-01ca75e37443",
   "metadata": {},
   "outputs": [],
   "source": [
    "#cleaning and adding ozone data\n",
    "ozone = pd.read_csv('../data/dirty_data/consumption-of-ozone-depleting-substances.csv')\n",
    "ozone.drop(columns=['Code'], inplace=True)\n",
    "ozone.rename(columns={\"Consumption of Ozone-Depleting Substances - All\":\"Consumption of Ozone\"}, inplace=True)\n",
    "ozone = ozone[ozone['Year']>1989]\n",
    "ozone = ozone[ozone['Year'] < 2015]\n",
    "ozone.to_csv('../data/cleaned_data/ozone.csv')"
   ]
  },
  {
   "cell_type": "code",
   "execution_count": 9,
   "id": "d67a5a01-5a9d-473f-801b-a6ad1d593350",
   "metadata": {},
   "outputs": [],
   "source": [
    "#cleaning and adding transport data\n",
    "transport = pd.read_csv('../data/dirty_data/co2-emissions-transport.csv')\n",
    "transport.drop(columns=['Code'], inplace=True)\n",
    "transport.rename(columns={\"Transport (CAIT, 2020)\":\"Transport\"}, inplace=True)\n",
    "transport = transport[transport['Year']>1989]\n",
    "transport = transport[transport['Year'] < 2015]\n",
    "transport = transport[transport['Entity'] != 'World']\n",
    "transport = transport[transport['Entity'] != 'European Union (27)']\n",
    "transport.to_csv('../data/cleaned_data/transport.csv')"
   ]
  },
  {
   "cell_type": "code",
   "execution_count": 10,
   "id": "5be80d04-9b7c-40dc-aa72-3a0a3d8940e7",
   "metadata": {},
   "outputs": [],
   "source": [
    "#cleaning and adding co2 per capital data\n",
    "co2_percap = pd.read_csv('../data/dirty_data/co-emissions-per-capita.csv')\n",
    "co2_percap.drop(columns=['Code'], inplace=True)\n",
    "co2_percap.rename(columns={\"Annual CO2 emissions (per capita)\":\"CO2 Emissions Per Cap\"}, inplace=True)\n",
    "co2_percap = co2_percap[co2_percap['Year']>1989]\n",
    "co2_percap = co2_percap[co2_percap['Year'] < 2015]\n",
    "co2_percap.to_csv('../data/cleaned_data/co2_percap.csv')"
   ]
  },
  {
   "cell_type": "code",
   "execution_count": 11,
   "id": "5c87a0b8-1029-426e-94e7-0374f33f4e15",
   "metadata": {},
   "outputs": [],
   "source": [
    "share_co2 = pd.read_csv('../data/dirty_data/annual-share-of-co2-emissions.csv')\n",
    "share_co2.drop(columns=['Code'], inplace=True)\n",
    "share_co2.rename(columns={\"Share of global annual CO2 emissions\":\"Shared CO2 Emissions\"}, inplace=True)\n",
    "share_co2 = share_co2[share_co2['Year']>1989]\n",
    "share_co2 = share_co2[share_co2['Year'] < 2015]\n",
    "share_co2.to_csv('../data/cleaned_data/share_co2.csv')"
   ]
  },
  {
   "cell_type": "code",
   "execution_count": 12,
   "id": "4e3fb8b1-f4fe-4e3d-b49d-80b58bf0b2e3",
   "metadata": {},
   "outputs": [],
   "source": [
    "co2 = pd.read_csv('../data/dirty_data/annual_country_co2.csv')\n",
    "co2.drop(columns=['Code'], inplace=True)\n",
    "co2.rename(columns={\"Annual CO2 emissions\":\"CO2 Emissions\"}, inplace=True)\n",
    "co2 = co2[co2['Year']>1989]\n",
    "co2 = co2[co2['Year'] < 2015]\n",
    "co2.to_csv('../data/cleaned_data/co2.csv')"
   ]
  },
  {
   "cell_type": "code",
   "execution_count": 13,
   "id": "70d8919b-e637-43d1-8661-464a0e913456",
   "metadata": {},
   "outputs": [],
   "source": [
    "df = pd.read_csv('../data/cleaned_data/kahuna_clusters_cancer.csv')"
   ]
  },
  {
   "cell_type": "code",
   "execution_count": 14,
   "id": "68cace74-113b-4f00-86dd-62f04b6f1fe4",
   "metadata": {},
   "outputs": [],
   "source": [
    "list_data = [airpol_death_share, co2, co2_percap, food_co2e, ghg, ozone, share_co2, transport]"
   ]
  },
  {
   "cell_type": "markdown",
   "id": "ad2c5973-a92e-4b27-81e1-c9245c25d156",
   "metadata": {},
   "source": [
    "------------------------------"
   ]
  },
  {
   "cell_type": "markdown",
   "id": "4c81cbf1-2922-4e41-9cab-fc5e4a7e4f9a",
   "metadata": {},
   "source": [
    "## Combining All Data"
   ]
  },
  {
   "cell_type": "code",
   "execution_count": 15,
   "id": "9b60c394-d5d0-47fa-ae47-798b77c29486",
   "metadata": {},
   "outputs": [],
   "source": [
    "combos = pd.merge(airpol_death_share, co2, on=['Year', 'Entity'])\n",
    "combos = pd.merge(combos, co2_percap, on=['Year', 'Entity'])\n",
    "combos = pd.merge(combos, food_co2e, on=['Year', 'Entity'])\n",
    "combos = pd.merge(combos, ghg, on=['Year', 'Entity'])\n",
    "combos = pd.merge(combos, ozone, on=['Year', 'Entity'])\n",
    "combos = pd.merge(combos, share_co2, on=['Year', 'Entity'])\n",
    "combos = pd.merge(combos, transport, on=['Year', 'Entity'])\n",
    "combos = combos.loc[:,~combos.columns.duplicated()]"
   ]
  },
  {
   "cell_type": "code",
   "execution_count": 16,
   "id": "16b2f5ff-8aab-4cbf-ae11-f33369c4d17e",
   "metadata": {},
   "outputs": [],
   "source": [
    "combos.to_csv('../data/cleaned_data/all_cleaned.csv')"
   ]
  }
 ],
 "metadata": {
  "kernelspec": {
   "display_name": "Python 3 (ipykernel)",
   "language": "python",
   "name": "python3"
  },
  "language_info": {
   "codemirror_mode": {
    "name": "ipython",
    "version": 3
   },
   "file_extension": ".py",
   "mimetype": "text/x-python",
   "name": "python",
   "nbconvert_exporter": "python",
   "pygments_lexer": "ipython3",
   "version": "3.9.7"
  }
 },
 "nbformat": 4,
 "nbformat_minor": 5
}
