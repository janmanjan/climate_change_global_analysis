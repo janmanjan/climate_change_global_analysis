{
 "cells": [
  {
   "cell_type": "markdown",
   "id": "702985b0-c0fb-464d-93b7-a6d91b4849ce",
   "metadata": {},
   "source": [
    "Checking out data sets of annual, country-level data:"
   ]
  },
  {
   "cell_type": "code",
   "execution_count": 1,
   "id": "4ca45821-c224-443d-8582-d4c57dd90bbb",
   "metadata": {},
   "outputs": [],
   "source": [
    "import pandas as pd"
   ]
  },
  {
   "cell_type": "code",
   "execution_count": 2,
   "id": "3fb7e3ea-919e-4335-acc3-27f8ae8d4e77",
   "metadata": {},
   "outputs": [
    {
     "data": {
      "text/html": [
       "<div>\n",
       "<style scoped>\n",
       "    .dataframe tbody tr th:only-of-type {\n",
       "        vertical-align: middle;\n",
       "    }\n",
       "\n",
       "    .dataframe tbody tr th {\n",
       "        vertical-align: top;\n",
       "    }\n",
       "\n",
       "    .dataframe thead th {\n",
       "        text-align: right;\n",
       "    }\n",
       "</style>\n",
       "<table border=\"1\" class=\"dataframe\">\n",
       "  <thead>\n",
       "    <tr style=\"text-align: right;\">\n",
       "      <th></th>\n",
       "      <th>Entity</th>\n",
       "      <th>Code</th>\n",
       "      <th>Year</th>\n",
       "      <th>Annual CO2 emissions</th>\n",
       "    </tr>\n",
       "  </thead>\n",
       "  <tbody>\n",
       "    <tr>\n",
       "      <th>0</th>\n",
       "      <td>Afghanistan</td>\n",
       "      <td>AFG</td>\n",
       "      <td>1949</td>\n",
       "      <td>14656</td>\n",
       "    </tr>\n",
       "    <tr>\n",
       "      <th>1</th>\n",
       "      <td>Afghanistan</td>\n",
       "      <td>AFG</td>\n",
       "      <td>1950</td>\n",
       "      <td>84272</td>\n",
       "    </tr>\n",
       "    <tr>\n",
       "      <th>2</th>\n",
       "      <td>Afghanistan</td>\n",
       "      <td>AFG</td>\n",
       "      <td>1951</td>\n",
       "      <td>91600</td>\n",
       "    </tr>\n",
       "    <tr>\n",
       "      <th>3</th>\n",
       "      <td>Afghanistan</td>\n",
       "      <td>AFG</td>\n",
       "      <td>1952</td>\n",
       "      <td>91600</td>\n",
       "    </tr>\n",
       "    <tr>\n",
       "      <th>4</th>\n",
       "      <td>Afghanistan</td>\n",
       "      <td>AFG</td>\n",
       "      <td>1953</td>\n",
       "      <td>106256</td>\n",
       "    </tr>\n",
       "  </tbody>\n",
       "</table>\n",
       "</div>"
      ],
      "text/plain": [
       "        Entity Code  Year  Annual CO2 emissions\n",
       "0  Afghanistan  AFG  1949                 14656\n",
       "1  Afghanistan  AFG  1950                 84272\n",
       "2  Afghanistan  AFG  1951                 91600\n",
       "3  Afghanistan  AFG  1952                 91600\n",
       "4  Afghanistan  AFG  1953                106256"
      ]
     },
     "execution_count": 2,
     "metadata": {},
     "output_type": "execute_result"
    }
   ],
   "source": [
    "#Annual co2 emissions for all countries as early as 1750\n",
    "#data includes estimates of course but the more recent years we'd consider are more accurate\n",
    "\n",
    "co2 = pd.read_csv('../data/annual_country_co2.csv')\n",
    "co2.head()\n"
   ]
  },
  {
   "cell_type": "code",
   "execution_count": 3,
   "id": "4a8e3c62-2863-4221-9d85-dd6ab90f312f",
   "metadata": {},
   "outputs": [
    {
     "data": {
      "text/html": [
       "<div>\n",
       "<style scoped>\n",
       "    .dataframe tbody tr th:only-of-type {\n",
       "        vertical-align: middle;\n",
       "    }\n",
       "\n",
       "    .dataframe tbody tr th {\n",
       "        vertical-align: top;\n",
       "    }\n",
       "\n",
       "    .dataframe thead th {\n",
       "        text-align: right;\n",
       "    }\n",
       "</style>\n",
       "<table border=\"1\" class=\"dataframe\">\n",
       "  <thead>\n",
       "    <tr style=\"text-align: right;\">\n",
       "      <th></th>\n",
       "      <th>Entity</th>\n",
       "      <th>Year</th>\n",
       "      <th>Annual CO2 emissions</th>\n",
       "    </tr>\n",
       "  </thead>\n",
       "  <tbody>\n",
       "    <tr>\n",
       "      <th>0</th>\n",
       "      <td>Afghanistan</td>\n",
       "      <td>1949</td>\n",
       "      <td>14656</td>\n",
       "    </tr>\n",
       "    <tr>\n",
       "      <th>1</th>\n",
       "      <td>Afghanistan</td>\n",
       "      <td>1950</td>\n",
       "      <td>84272</td>\n",
       "    </tr>\n",
       "    <tr>\n",
       "      <th>2</th>\n",
       "      <td>Afghanistan</td>\n",
       "      <td>1951</td>\n",
       "      <td>91600</td>\n",
       "    </tr>\n",
       "    <tr>\n",
       "      <th>3</th>\n",
       "      <td>Afghanistan</td>\n",
       "      <td>1952</td>\n",
       "      <td>91600</td>\n",
       "    </tr>\n",
       "    <tr>\n",
       "      <th>4</th>\n",
       "      <td>Afghanistan</td>\n",
       "      <td>1953</td>\n",
       "      <td>106256</td>\n",
       "    </tr>\n",
       "    <tr>\n",
       "      <th>...</th>\n",
       "      <td>...</td>\n",
       "      <td>...</td>\n",
       "      <td>...</td>\n",
       "    </tr>\n",
       "    <tr>\n",
       "      <th>23944</th>\n",
       "      <td>Zimbabwe</td>\n",
       "      <td>2016</td>\n",
       "      <td>10737567</td>\n",
       "    </tr>\n",
       "    <tr>\n",
       "      <th>23945</th>\n",
       "      <td>Zimbabwe</td>\n",
       "      <td>2017</td>\n",
       "      <td>9581633</td>\n",
       "    </tr>\n",
       "    <tr>\n",
       "      <th>23946</th>\n",
       "      <td>Zimbabwe</td>\n",
       "      <td>2018</td>\n",
       "      <td>11854367</td>\n",
       "    </tr>\n",
       "    <tr>\n",
       "      <th>23947</th>\n",
       "      <td>Zimbabwe</td>\n",
       "      <td>2019</td>\n",
       "      <td>10949084</td>\n",
       "    </tr>\n",
       "    <tr>\n",
       "      <th>23948</th>\n",
       "      <td>Zimbabwe</td>\n",
       "      <td>2020</td>\n",
       "      <td>10531342</td>\n",
       "    </tr>\n",
       "  </tbody>\n",
       "</table>\n",
       "<p>23949 rows × 3 columns</p>\n",
       "</div>"
      ],
      "text/plain": [
       "            Entity  Year  Annual CO2 emissions\n",
       "0      Afghanistan  1949                 14656\n",
       "1      Afghanistan  1950                 84272\n",
       "2      Afghanistan  1951                 91600\n",
       "3      Afghanistan  1952                 91600\n",
       "4      Afghanistan  1953                106256\n",
       "...            ...   ...                   ...\n",
       "23944     Zimbabwe  2016              10737567\n",
       "23945     Zimbabwe  2017               9581633\n",
       "23946     Zimbabwe  2018              11854367\n",
       "23947     Zimbabwe  2019              10949084\n",
       "23948     Zimbabwe  2020              10531342\n",
       "\n",
       "[23949 rows x 3 columns]"
      ]
     },
     "execution_count": 3,
     "metadata": {},
     "output_type": "execute_result"
    }
   ],
   "source": [
    "co2[['Entity', 'Year', 'Annual CO2 emissions']]"
   ]
  },
  {
   "cell_type": "code",
   "execution_count": 4,
   "id": "c2a09bbf-8cdf-4a25-818e-7e3ef8c40023",
   "metadata": {},
   "outputs": [
    {
     "data": {
      "text/html": [
       "<div>\n",
       "<style scoped>\n",
       "    .dataframe tbody tr th:only-of-type {\n",
       "        vertical-align: middle;\n",
       "    }\n",
       "\n",
       "    .dataframe tbody tr th {\n",
       "        vertical-align: top;\n",
       "    }\n",
       "\n",
       "    .dataframe thead th {\n",
       "        text-align: right;\n",
       "    }\n",
       "</style>\n",
       "<table border=\"1\" class=\"dataframe\">\n",
       "  <thead>\n",
       "    <tr style=\"text-align: right;\">\n",
       "      <th></th>\n",
       "      <th>Year</th>\n",
       "    </tr>\n",
       "    <tr>\n",
       "      <th>Entity</th>\n",
       "      <th></th>\n",
       "    </tr>\n",
       "  </thead>\n",
       "  <tbody>\n",
       "    <tr>\n",
       "      <th>Kosovo</th>\n",
       "      <td>2008</td>\n",
       "    </tr>\n",
       "    <tr>\n",
       "      <th>Timor</th>\n",
       "      <td>2002</td>\n",
       "    </tr>\n",
       "    <tr>\n",
       "      <th>Wallis and Futuna</th>\n",
       "      <td>2001</td>\n",
       "    </tr>\n",
       "    <tr>\n",
       "      <th>Marshall Islands</th>\n",
       "      <td>1992</td>\n",
       "    </tr>\n",
       "    <tr>\n",
       "      <th>Micronesia (country)</th>\n",
       "      <td>1992</td>\n",
       "    </tr>\n",
       "  </tbody>\n",
       "</table>\n",
       "</div>"
      ],
      "text/plain": [
       "                      Year\n",
       "Entity                    \n",
       "Kosovo                2008\n",
       "Timor                 2002\n",
       "Wallis and Futuna     2001\n",
       "Marshall Islands      1992\n",
       "Micronesia (country)  1992"
      ]
     },
     "execution_count": 4,
     "metadata": {},
     "output_type": "execute_result"
    }
   ],
   "source": [
    "co2[['Entity', 'Year']].groupby(['Entity']).min().sort_values(['Year'], ascending=False).head()"
   ]
  },
  {
   "cell_type": "code",
   "execution_count": 5,
   "id": "e6c1fc24-4e01-46d2-87a2-f25e606cfff1",
   "metadata": {},
   "outputs": [
    {
     "data": {
      "text/html": [
       "<div>\n",
       "<style scoped>\n",
       "    .dataframe tbody tr th:only-of-type {\n",
       "        vertical-align: middle;\n",
       "    }\n",
       "\n",
       "    .dataframe tbody tr th {\n",
       "        vertical-align: top;\n",
       "    }\n",
       "\n",
       "    .dataframe thead th {\n",
       "        text-align: right;\n",
       "    }\n",
       "</style>\n",
       "<table border=\"1\" class=\"dataframe\">\n",
       "  <thead>\n",
       "    <tr style=\"text-align: right;\">\n",
       "      <th></th>\n",
       "      <th>Entity</th>\n",
       "      <th>Code</th>\n",
       "      <th>Year</th>\n",
       "      <th>Share of global annual CO2 emissions</th>\n",
       "    </tr>\n",
       "  </thead>\n",
       "  <tbody>\n",
       "    <tr>\n",
       "      <th>0</th>\n",
       "      <td>Afghanistan</td>\n",
       "      <td>AFG</td>\n",
       "      <td>1949</td>\n",
       "      <td>0.0</td>\n",
       "    </tr>\n",
       "    <tr>\n",
       "      <th>1</th>\n",
       "      <td>Afghanistan</td>\n",
       "      <td>AFG</td>\n",
       "      <td>1950</td>\n",
       "      <td>0.0</td>\n",
       "    </tr>\n",
       "    <tr>\n",
       "      <th>2</th>\n",
       "      <td>Afghanistan</td>\n",
       "      <td>AFG</td>\n",
       "      <td>1951</td>\n",
       "      <td>0.0</td>\n",
       "    </tr>\n",
       "    <tr>\n",
       "      <th>3</th>\n",
       "      <td>Afghanistan</td>\n",
       "      <td>AFG</td>\n",
       "      <td>1952</td>\n",
       "      <td>0.0</td>\n",
       "    </tr>\n",
       "    <tr>\n",
       "      <th>4</th>\n",
       "      <td>Afghanistan</td>\n",
       "      <td>AFG</td>\n",
       "      <td>1953</td>\n",
       "      <td>0.0</td>\n",
       "    </tr>\n",
       "  </tbody>\n",
       "</table>\n",
       "</div>"
      ],
      "text/plain": [
       "        Entity Code  Year  Share of global annual CO2 emissions\n",
       "0  Afghanistan  AFG  1949                                   0.0\n",
       "1  Afghanistan  AFG  1950                                   0.0\n",
       "2  Afghanistan  AFG  1951                                   0.0\n",
       "3  Afghanistan  AFG  1952                                   0.0\n",
       "4  Afghanistan  AFG  1953                                   0.0"
      ]
     },
     "execution_count": 5,
     "metadata": {},
     "output_type": "execute_result"
    }
   ],
   "source": [
    "#This data is the same shape as previous but values are % of world emissions so it's effectively already scaled\n",
    "\n",
    "share_co2 = pd.read_csv('../data/annual-share-of-co2-emissions.csv')\n",
    "share_co2.head()"
   ]
  },
  {
   "cell_type": "code",
   "execution_count": 6,
   "id": "428d8f48-14ce-4e71-9fbc-ee37c4053fd6",
   "metadata": {},
   "outputs": [],
   "source": [
    "#not country level data but temp anomaly is the deviation from the 1950-1980 average temp for each year in the time period. \n",
    "#data is also monthly\n",
    "#temp_anom = pd.read_csv('../data/climate-change.csv')\n",
    "#temp_anom.head()"
   ]
  },
  {
   "cell_type": "code",
   "execution_count": 8,
   "id": "d07763c1-ddb0-45f3-ab5a-cc44a0ef7f62",
   "metadata": {},
   "outputs": [],
   "source": [
    "#temp_anom.shape"
   ]
  },
  {
   "cell_type": "code",
   "execution_count": null,
   "id": "d25bda18-35c1-4e79-b8aa-e09316b81267",
   "metadata": {},
   "outputs": [],
   "source": [
    "#annual country data; co2 emissions per capita; similar but not same shape as first 2 df's\n",
    "\n",
    "co2_percap = pd.read_csv('../data/co-emissions-per-capita.csv')\n",
    "co2_percap.head()"
   ]
  },
  {
   "cell_type": "code",
   "execution_count": null,
   "id": "394e4083-0107-4a9f-b922-0833c618b330",
   "metadata": {},
   "outputs": [],
   "source": [
    "#annual co2 emissions, annual gdp(ppp), and consumption-based emissions\n",
    "\n",
    "#co2_gdp = pd.read_csv('../data/co2-emissions-and-gdp.csv')\n",
    "#co2_gdp.head()"
   ]
  },
  {
   "cell_type": "code",
   "execution_count": null,
   "id": "1b7641e8-c271-4a44-ae75-fd62b3a40419",
   "metadata": {},
   "outputs": [],
   "source": [
    "#annual emissions from transportation (tons co2)\n",
    "\n",
    "transport = pd.read_csv('../data/co2-emissions-transport.csv')\n",
    "transport.head()"
   ]
  },
  {
   "cell_type": "code",
   "execution_count": null,
   "id": "0ccc7a6e-7c8b-4c9a-9dba-cc0e3971aafe",
   "metadata": {},
   "outputs": [],
   "source": [
    "# annual per capita emissions from domestic transportation in 2020 $'s by country\n",
    "\n",
    "#transport_percap = pd.read_csv('../data/per-capita-co2-transport.csv')\n",
    "#transport_percap.head()"
   ]
  },
  {
   "cell_type": "code",
   "execution_count": null,
   "id": "6d000581-844b-484b-9cf6-ea369a938388",
   "metadata": {},
   "outputs": [],
   "source": [
    "#amount of ozone depleting substances (ODS) consumed in tons weighted by depleting potential\n",
    "\n",
    "ozone = pd.read_csv('../data/consumption-of-ozone-depleting-substances.csv')\n",
    "ozone.head()"
   ]
  },
  {
   "cell_type": "code",
   "execution_count": null,
   "id": "f2c523d0-4b15-4d58-a88d-365f0b98a03e",
   "metadata": {},
   "outputs": [],
   "source": [
    "#amount of co2e (co2 and co2 equivalent weighted substance) emissions from food\n",
    "\n",
    "food_co2e = pd.read_csv('../data/emissions-from-food.csv')\n",
    "food_co2e.head()"
   ]
  },
  {
   "cell_type": "code",
   "execution_count": null,
   "id": "1c502cf5-8c20-473b-9106-95b11a6eab59",
   "metadata": {},
   "outputs": [],
   "source": [
    "#annual global energy consumption by source (TWh Terawatt hours)\n",
    "\n",
    "#energy_global = pd.read_csv('../data/global-primary-energy.csv')\n",
    "#energy_global.head()"
   ]
  },
  {
   "cell_type": "code",
   "execution_count": null,
   "id": "e302c4b1-9b6b-45ca-9b82-c7eb4b621f48",
   "metadata": {},
   "outputs": [],
   "source": [
    "#filename was primary-energy-source-bar\n",
    "#annual energy consumption by country by source (TWh)\n",
    "\n",
    "energy_country=pd.read_csv('../data/country-primary-energy.csv')\n",
    "energy_country.head()"
   ]
  },
  {
   "cell_type": "code",
   "execution_count": null,
   "id": "3546c567-d0f9-43d5-ad46-5c654e81a210",
   "metadata": {},
   "outputs": [],
   "source": [
    "#only 94 countries\n",
    "len(energy_country.Entity.unique())"
   ]
  },
  {
   "cell_type": "code",
   "execution_count": null,
   "id": "8c8b746b-a3bd-4394-8cde-fd76fc54dbb1",
   "metadata": {},
   "outputs": [],
   "source": [
    "#time period 1965 to 2020\n",
    "energy_country.Year.describe()"
   ]
  },
  {
   "cell_type": "code",
   "execution_count": null,
   "id": "c5d36048-e710-4bca-93f0-87ce53e2f32e",
   "metadata": {},
   "outputs": [],
   "source": [
    "#list of countries, year of net zero target and y/n net zero target, but only includes Yes's\n",
    "\n",
    "net_zero_binary = pd.read_csv('../data/net-zero-target-set.csv')\n",
    "net_zero_binary.head()"
   ]
  },
  {
   "cell_type": "code",
   "execution_count": null,
   "id": "47544718-ecc9-4c64-954e-5e7a431ab018",
   "metadata": {},
   "outputs": [],
   "source": [
    "net_zero_binary['Is there a net-zero target?'].value_counts()"
   ]
  },
  {
   "cell_type": "code",
   "execution_count": null,
   "id": "5bca56c8-eddd-46f5-8cc1-0819ea8f8eb1",
   "metadata": {},
   "outputs": [],
   "source": [
    "#countries, year of target, status of target\n",
    "\n",
    "#net_zero_targets = pd.read_csv('../data/net-zero-targets.csv')\n",
    "#net_zero_targets.head()"
   ]
  },
  {
   "cell_type": "code",
   "execution_count": null,
   "id": "c0b03863-ce2e-420a-aec6-41b0ffdcf735",
   "metadata": {},
   "outputs": [],
   "source": [
    "#net_zero_targets['Status of net-zero target'].value_counts()"
   ]
  },
  {
   "cell_type": "code",
   "execution_count": null,
   "id": "17ebf525-0d2e-435f-92bf-242eb48552ba",
   "metadata": {},
   "outputs": [],
   "source": [
    "#Exposure to air pollution with fine particulate matter(PM25), 1990 to 2017 by country\n",
    "\n",
    "airpol = pd.read_csv('../data/PM25-air-pollution.csv')\n",
    "airpol.head()"
   ]
  },
  {
   "cell_type": "code",
   "execution_count": null,
   "id": "08a4b33c-0ec3-4935-8b6d-7bc71ca643ba",
   "metadata": {},
   "outputs": [],
   "source": [
    "# annual share of deaths caused by air pollution by country 1990-2017\n",
    "\n",
    "airpol_death_share = pd.read_csv('../data/share-deaths-air-pollution.csv')\n",
    "airpol_death_share.head()"
   ]
  },
  {
   "cell_type": "code",
   "execution_count": null,
   "id": "e3433e55-3715-4975-9db2-50a3f2f351e0",
   "metadata": {},
   "outputs": [],
   "source": [
    "# annual death rate caused by air pollution by country\n",
    "\n",
    "#airpol_death_rate = pd.read_csv('../data/outdoor-pollution-death-rate.csv')\n",
    "#airpol_death_rate.head()"
   ]
  },
  {
   "cell_type": "code",
   "execution_count": null,
   "id": "dd7779eb-ab2a-4235-8cda-7113172bfe58",
   "metadata": {},
   "outputs": [],
   "source": [
    "#df.loc[df['Entity']=='United States']"
   ]
  },
  {
   "cell_type": "code",
   "execution_count": null,
   "id": "260a284f-980f-4df3-bfd2-42aa457c9a32",
   "metadata": {},
   "outputs": [],
   "source": [
    "#temp anomaly by region\n",
    "\n",
    "#pd.read_csv('./data/temperature-anomaly.csv')"
   ]
  },
  {
   "cell_type": "code",
   "execution_count": null,
   "id": "17406dae-a4e7-401d-88a3-af5ae26f7e43",
   "metadata": {},
   "outputs": [],
   "source": [
    "#annual total ghg emissions by country\n",
    "\n",
    "ghg = pd.read_csv('../data/total-ghg-emissions.csv')\n",
    "ghg.head()"
   ]
  },
  {
   "cell_type": "code",
   "execution_count": null,
   "id": "2d0ca6b5-c6ea-4494-b7b5-909eafc43563",
   "metadata": {},
   "outputs": [],
   "source": []
  }
 ],
 "metadata": {
  "kernelspec": {
   "display_name": "Python 3 (ipykernel)",
   "language": "python",
   "name": "python3"
  },
  "language_info": {
   "codemirror_mode": {
    "name": "ipython",
    "version": 3
   },
   "file_extension": ".py",
   "mimetype": "text/x-python",
   "name": "python",
   "nbconvert_exporter": "python",
   "pygments_lexer": "ipython3",
   "version": "3.9.7"
  }
 },
 "nbformat": 4,
 "nbformat_minor": 5
}
